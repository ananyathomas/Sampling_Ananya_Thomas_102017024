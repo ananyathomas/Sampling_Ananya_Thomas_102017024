{
  "cells": [
    {
      "cell_type": "markdown",
      "source": [
        "# Sampling Assignment\n",
        "Name : Ananya Thomas<BR>\n",
        "Roll No : 102017024<BR>\n",
        "Sub Group : CSE 1\n"
      ],
      "metadata": {
        "id": "p-2vTsUzyo8J"
      },
      "id": "p-2vTsUzyo8J"
    },
    {
      "cell_type": "markdown",
      "source": [
        "## Introduction"
      ],
      "metadata": {
        "id": "hA8du2ZK0GoL"
      },
      "id": "hA8du2ZK0GoL"
    },
    {
      "cell_type": "markdown",
      "source": [
        "In this assignment I will be :\n",
        "* Converting a highly imbalanced data into a balanced data.\n",
        "* Creating five samples using five different sampling techniques.\n",
        "* Applying five different machine learning models on all the five samples.\n",
        "* Comparing the accuracies and determining the most optimal model."
      ],
      "metadata": {
        "id": "cAOcEz_izm86"
      },
      "id": "cAOcEz_izm86"
    },
    {
      "cell_type": "markdown",
      "source": [
        "## Reading the data"
      ],
      "metadata": {
        "id": "WlGrCxjI0JN9"
      },
      "id": "WlGrCxjI0JN9"
    },
    {
      "cell_type": "code",
      "execution_count": 653,
      "id": "1001a93c",
      "metadata": {
        "id": "1001a93c"
      },
      "outputs": [],
      "source": [
        "import pandas as pd\n",
        "import numpy as np\n",
        "import math\n",
        "import random as rd\n",
        "import matplotlib.pyplot as plt\n",
        "import seaborn as sns \n",
        "from sklearn.metrics import mean_squared_error, accuracy_score\n",
        "from sklearn.metrics import confusion_matrix, classification_report"
      ]
    },
    {
      "cell_type": "code",
      "execution_count": 654,
      "id": "0089c717",
      "metadata": {
        "id": "0089c717"
      },
      "outputs": [],
      "source": [
        "df = pd.read_csv(\"/content/Creditcard_data.csv\")"
      ]
    },
    {
      "cell_type": "code",
      "execution_count": 655,
      "id": "cbbbec2d",
      "metadata": {
        "colab": {
          "base_uri": "https://localhost:8080/",
          "height": 300
        },
        "id": "cbbbec2d",
        "outputId": "0c39845c-5e82-4afb-faef-acab66f8eb89"
      },
      "outputs": [
        {
          "output_type": "execute_result",
          "data": {
            "text/plain": [
              "   Time        V1        V2        V3        V4        V5        V6        V7  \\\n",
              "0     0 -1.359807 -0.072781  2.536347  1.378155 -0.338321  0.462388  0.239599   \n",
              "1     0  1.191857  0.266151  0.166480  0.448154  0.060018 -0.082361 -0.078803   \n",
              "2     1 -1.358354 -1.340163  1.773209  0.379780 -0.503198  1.800499  0.791461   \n",
              "3     1 -0.966272 -0.185226  1.792993 -0.863291 -0.010309  1.247203  0.237609   \n",
              "4     2 -1.158233  0.877737  1.548718  0.403034 -0.407193  0.095921  0.592941   \n",
              "\n",
              "         V8        V9  ...       V21       V22       V23       V24       V25  \\\n",
              "0  0.098698  0.363787  ... -0.018307  0.277838 -0.110474  0.066928  0.128539   \n",
              "1  0.085102 -0.255425  ... -0.225775 -0.638672  0.101288 -0.339846  0.167170   \n",
              "2  0.247676 -1.514654  ...  0.247998  0.771679  0.909412 -0.689281 -0.327642   \n",
              "3  0.377436 -1.387024  ... -0.108300  0.005274 -0.190321 -1.175575  0.647376   \n",
              "4 -0.270533  0.817739  ... -0.009431  0.798278 -0.137458  0.141267 -0.206010   \n",
              "\n",
              "        V26       V27       V28  Amount  Class  \n",
              "0 -0.189115  0.133558 -0.021053  149.62      0  \n",
              "1  0.125895 -0.008983  0.014724    2.69      1  \n",
              "2 -0.139097 -0.055353 -0.059752  378.66      0  \n",
              "3 -0.221929  0.062723  0.061458  123.50      0  \n",
              "4  0.502292  0.219422  0.215153   69.99      0  \n",
              "\n",
              "[5 rows x 31 columns]"
            ],
            "text/html": [
              "\n",
              "  <div id=\"df-d4d7c42a-a94d-4e44-86bc-a0350deeb576\">\n",
              "    <div class=\"colab-df-container\">\n",
              "      <div>\n",
              "<style scoped>\n",
              "    .dataframe tbody tr th:only-of-type {\n",
              "        vertical-align: middle;\n",
              "    }\n",
              "\n",
              "    .dataframe tbody tr th {\n",
              "        vertical-align: top;\n",
              "    }\n",
              "\n",
              "    .dataframe thead th {\n",
              "        text-align: right;\n",
              "    }\n",
              "</style>\n",
              "<table border=\"1\" class=\"dataframe\">\n",
              "  <thead>\n",
              "    <tr style=\"text-align: right;\">\n",
              "      <th></th>\n",
              "      <th>Time</th>\n",
              "      <th>V1</th>\n",
              "      <th>V2</th>\n",
              "      <th>V3</th>\n",
              "      <th>V4</th>\n",
              "      <th>V5</th>\n",
              "      <th>V6</th>\n",
              "      <th>V7</th>\n",
              "      <th>V8</th>\n",
              "      <th>V9</th>\n",
              "      <th>...</th>\n",
              "      <th>V21</th>\n",
              "      <th>V22</th>\n",
              "      <th>V23</th>\n",
              "      <th>V24</th>\n",
              "      <th>V25</th>\n",
              "      <th>V26</th>\n",
              "      <th>V27</th>\n",
              "      <th>V28</th>\n",
              "      <th>Amount</th>\n",
              "      <th>Class</th>\n",
              "    </tr>\n",
              "  </thead>\n",
              "  <tbody>\n",
              "    <tr>\n",
              "      <th>0</th>\n",
              "      <td>0</td>\n",
              "      <td>-1.359807</td>\n",
              "      <td>-0.072781</td>\n",
              "      <td>2.536347</td>\n",
              "      <td>1.378155</td>\n",
              "      <td>-0.338321</td>\n",
              "      <td>0.462388</td>\n",
              "      <td>0.239599</td>\n",
              "      <td>0.098698</td>\n",
              "      <td>0.363787</td>\n",
              "      <td>...</td>\n",
              "      <td>-0.018307</td>\n",
              "      <td>0.277838</td>\n",
              "      <td>-0.110474</td>\n",
              "      <td>0.066928</td>\n",
              "      <td>0.128539</td>\n",
              "      <td>-0.189115</td>\n",
              "      <td>0.133558</td>\n",
              "      <td>-0.021053</td>\n",
              "      <td>149.62</td>\n",
              "      <td>0</td>\n",
              "    </tr>\n",
              "    <tr>\n",
              "      <th>1</th>\n",
              "      <td>0</td>\n",
              "      <td>1.191857</td>\n",
              "      <td>0.266151</td>\n",
              "      <td>0.166480</td>\n",
              "      <td>0.448154</td>\n",
              "      <td>0.060018</td>\n",
              "      <td>-0.082361</td>\n",
              "      <td>-0.078803</td>\n",
              "      <td>0.085102</td>\n",
              "      <td>-0.255425</td>\n",
              "      <td>...</td>\n",
              "      <td>-0.225775</td>\n",
              "      <td>-0.638672</td>\n",
              "      <td>0.101288</td>\n",
              "      <td>-0.339846</td>\n",
              "      <td>0.167170</td>\n",
              "      <td>0.125895</td>\n",
              "      <td>-0.008983</td>\n",
              "      <td>0.014724</td>\n",
              "      <td>2.69</td>\n",
              "      <td>1</td>\n",
              "    </tr>\n",
              "    <tr>\n",
              "      <th>2</th>\n",
              "      <td>1</td>\n",
              "      <td>-1.358354</td>\n",
              "      <td>-1.340163</td>\n",
              "      <td>1.773209</td>\n",
              "      <td>0.379780</td>\n",
              "      <td>-0.503198</td>\n",
              "      <td>1.800499</td>\n",
              "      <td>0.791461</td>\n",
              "      <td>0.247676</td>\n",
              "      <td>-1.514654</td>\n",
              "      <td>...</td>\n",
              "      <td>0.247998</td>\n",
              "      <td>0.771679</td>\n",
              "      <td>0.909412</td>\n",
              "      <td>-0.689281</td>\n",
              "      <td>-0.327642</td>\n",
              "      <td>-0.139097</td>\n",
              "      <td>-0.055353</td>\n",
              "      <td>-0.059752</td>\n",
              "      <td>378.66</td>\n",
              "      <td>0</td>\n",
              "    </tr>\n",
              "    <tr>\n",
              "      <th>3</th>\n",
              "      <td>1</td>\n",
              "      <td>-0.966272</td>\n",
              "      <td>-0.185226</td>\n",
              "      <td>1.792993</td>\n",
              "      <td>-0.863291</td>\n",
              "      <td>-0.010309</td>\n",
              "      <td>1.247203</td>\n",
              "      <td>0.237609</td>\n",
              "      <td>0.377436</td>\n",
              "      <td>-1.387024</td>\n",
              "      <td>...</td>\n",
              "      <td>-0.108300</td>\n",
              "      <td>0.005274</td>\n",
              "      <td>-0.190321</td>\n",
              "      <td>-1.175575</td>\n",
              "      <td>0.647376</td>\n",
              "      <td>-0.221929</td>\n",
              "      <td>0.062723</td>\n",
              "      <td>0.061458</td>\n",
              "      <td>123.50</td>\n",
              "      <td>0</td>\n",
              "    </tr>\n",
              "    <tr>\n",
              "      <th>4</th>\n",
              "      <td>2</td>\n",
              "      <td>-1.158233</td>\n",
              "      <td>0.877737</td>\n",
              "      <td>1.548718</td>\n",
              "      <td>0.403034</td>\n",
              "      <td>-0.407193</td>\n",
              "      <td>0.095921</td>\n",
              "      <td>0.592941</td>\n",
              "      <td>-0.270533</td>\n",
              "      <td>0.817739</td>\n",
              "      <td>...</td>\n",
              "      <td>-0.009431</td>\n",
              "      <td>0.798278</td>\n",
              "      <td>-0.137458</td>\n",
              "      <td>0.141267</td>\n",
              "      <td>-0.206010</td>\n",
              "      <td>0.502292</td>\n",
              "      <td>0.219422</td>\n",
              "      <td>0.215153</td>\n",
              "      <td>69.99</td>\n",
              "      <td>0</td>\n",
              "    </tr>\n",
              "  </tbody>\n",
              "</table>\n",
              "<p>5 rows × 31 columns</p>\n",
              "</div>\n",
              "      <button class=\"colab-df-convert\" onclick=\"convertToInteractive('df-d4d7c42a-a94d-4e44-86bc-a0350deeb576')\"\n",
              "              title=\"Convert this dataframe to an interactive table.\"\n",
              "              style=\"display:none;\">\n",
              "        \n",
              "  <svg xmlns=\"http://www.w3.org/2000/svg\" height=\"24px\"viewBox=\"0 0 24 24\"\n",
              "       width=\"24px\">\n",
              "    <path d=\"M0 0h24v24H0V0z\" fill=\"none\"/>\n",
              "    <path d=\"M18.56 5.44l.94 2.06.94-2.06 2.06-.94-2.06-.94-.94-2.06-.94 2.06-2.06.94zm-11 1L8.5 8.5l.94-2.06 2.06-.94-2.06-.94L8.5 2.5l-.94 2.06-2.06.94zm10 10l.94 2.06.94-2.06 2.06-.94-2.06-.94-.94-2.06-.94 2.06-2.06.94z\"/><path d=\"M17.41 7.96l-1.37-1.37c-.4-.4-.92-.59-1.43-.59-.52 0-1.04.2-1.43.59L10.3 9.45l-7.72 7.72c-.78.78-.78 2.05 0 2.83L4 21.41c.39.39.9.59 1.41.59.51 0 1.02-.2 1.41-.59l7.78-7.78 2.81-2.81c.8-.78.8-2.07 0-2.86zM5.41 20L4 18.59l7.72-7.72 1.47 1.35L5.41 20z\"/>\n",
              "  </svg>\n",
              "      </button>\n",
              "      \n",
              "  <style>\n",
              "    .colab-df-container {\n",
              "      display:flex;\n",
              "      flex-wrap:wrap;\n",
              "      gap: 12px;\n",
              "    }\n",
              "\n",
              "    .colab-df-convert {\n",
              "      background-color: #E8F0FE;\n",
              "      border: none;\n",
              "      border-radius: 50%;\n",
              "      cursor: pointer;\n",
              "      display: none;\n",
              "      fill: #1967D2;\n",
              "      height: 32px;\n",
              "      padding: 0 0 0 0;\n",
              "      width: 32px;\n",
              "    }\n",
              "\n",
              "    .colab-df-convert:hover {\n",
              "      background-color: #E2EBFA;\n",
              "      box-shadow: 0px 1px 2px rgba(60, 64, 67, 0.3), 0px 1px 3px 1px rgba(60, 64, 67, 0.15);\n",
              "      fill: #174EA6;\n",
              "    }\n",
              "\n",
              "    [theme=dark] .colab-df-convert {\n",
              "      background-color: #3B4455;\n",
              "      fill: #D2E3FC;\n",
              "    }\n",
              "\n",
              "    [theme=dark] .colab-df-convert:hover {\n",
              "      background-color: #434B5C;\n",
              "      box-shadow: 0px 1px 3px 1px rgba(0, 0, 0, 0.15);\n",
              "      filter: drop-shadow(0px 1px 2px rgba(0, 0, 0, 0.3));\n",
              "      fill: #FFFFFF;\n",
              "    }\n",
              "  </style>\n",
              "\n",
              "      <script>\n",
              "        const buttonEl =\n",
              "          document.querySelector('#df-d4d7c42a-a94d-4e44-86bc-a0350deeb576 button.colab-df-convert');\n",
              "        buttonEl.style.display =\n",
              "          google.colab.kernel.accessAllowed ? 'block' : 'none';\n",
              "\n",
              "        async function convertToInteractive(key) {\n",
              "          const element = document.querySelector('#df-d4d7c42a-a94d-4e44-86bc-a0350deeb576');\n",
              "          const dataTable =\n",
              "            await google.colab.kernel.invokeFunction('convertToInteractive',\n",
              "                                                     [key], {});\n",
              "          if (!dataTable) return;\n",
              "\n",
              "          const docLinkHtml = 'Like what you see? Visit the ' +\n",
              "            '<a target=\"_blank\" href=https://colab.research.google.com/notebooks/data_table.ipynb>data table notebook</a>'\n",
              "            + ' to learn more about interactive tables.';\n",
              "          element.innerHTML = '';\n",
              "          dataTable['output_type'] = 'display_data';\n",
              "          await google.colab.output.renderOutput(dataTable, element);\n",
              "          const docLink = document.createElement('div');\n",
              "          docLink.innerHTML = docLinkHtml;\n",
              "          element.appendChild(docLink);\n",
              "        }\n",
              "      </script>\n",
              "    </div>\n",
              "  </div>\n",
              "  "
            ]
          },
          "metadata": {},
          "execution_count": 655
        }
      ],
      "source": [
        "df.head()"
      ]
    },
    {
      "cell_type": "markdown",
      "source": [
        "## Balancing the dataset"
      ],
      "metadata": {
        "id": "0qM2JQ8w0NuN"
      },
      "id": "0qM2JQ8w0NuN"
    },
    {
      "cell_type": "code",
      "execution_count": 656,
      "id": "e7a1bfef",
      "metadata": {
        "colab": {
          "base_uri": "https://localhost:8080/"
        },
        "id": "e7a1bfef",
        "outputId": "f27b9e4d-d599-4866-cd19-b2bd76f3911c"
      },
      "outputs": [
        {
          "output_type": "execute_result",
          "data": {
            "text/plain": [
              "0    763\n",
              "1      9\n",
              "Name: Class, dtype: int64"
            ]
          },
          "metadata": {},
          "execution_count": 656
        }
      ],
      "source": [
        "df[\"Class\"].value_counts()"
      ]
    },
    {
      "cell_type": "code",
      "execution_count": 657,
      "id": "47db5ecc",
      "metadata": {
        "colab": {
          "base_uri": "https://localhost:8080/",
          "height": 287
        },
        "id": "47db5ecc",
        "outputId": "84961eb5-a9fb-440c-b460-17e5147021be"
      },
      "outputs": [
        {
          "output_type": "execute_result",
          "data": {
            "text/plain": [
              "<matplotlib.axes._subplots.AxesSubplot at 0x7fc204696820>"
            ]
          },
          "metadata": {},
          "execution_count": 657
        },
        {
          "output_type": "display_data",
          "data": {
            "text/plain": [
              "<Figure size 432x288 with 1 Axes>"
            ],
            "image/png": "[encoded data removed]"
          },
          "metadata": {}
        }
      ],
      "source": [
        "df['Class'].value_counts().plot(kind='bar')"
      ]
    },
    {
      "cell_type": "code",
      "execution_count": 658,
      "id": "c77f0027",
      "metadata": {
        "id": "c77f0027"
      },
      "outputs": [],
      "source": [
        "X = df.iloc[:, :-1]\n",
        "Y = df.iloc[:, -1]"
      ]
    },
    {
      "cell_type": "code",
      "execution_count": 659,
      "id": "30cff25b",
      "metadata": {
        "id": "30cff25b"
      },
      "outputs": [],
      "source": [
        "from imblearn.over_sampling import RandomOverSampler\n",
        "\n",
        "oversample = RandomOverSampler(sampling_strategy='minority')\n",
        "\n",
        "# fit and apply the transform\n",
        "X,Y = oversample.fit_resample(X,Y)"
      ]
    },
    {
      "cell_type": "code",
      "execution_count": 660,
      "id": "f80870d8",
      "metadata": {
        "colab": {
          "base_uri": "https://localhost:8080/"
        },
        "id": "f80870d8",
        "outputId": "a9b36c16-bf76-4eb7-ddb0-f0ec5b06dc51"
      },
      "outputs": [
        {
          "output_type": "execute_result",
          "data": {
            "text/plain": [
              "0    763\n",
              "1    763\n",
              "Name: Class, dtype: int64"
            ]
          },
          "metadata": {},
          "execution_count": 660
        }
      ],
      "source": [
        "Y.value_counts()"
      ]
    },
    {
      "cell_type": "code",
      "execution_count": 661,
      "id": "c9e6fd92",
      "metadata": {
        "id": "c9e6fd92"
      },
      "outputs": [],
      "source": [
        "df_oversampled = pd.concat([pd.DataFrame(X), pd.DataFrame(Y)],axis = 1)"
      ]
    },
    {
      "cell_type": "code",
      "execution_count": 662,
      "id": "84a610c3",
      "metadata": {
        "colab": {
          "base_uri": "https://localhost:8080/",
          "height": 300
        },
        "id": "84a610c3",
        "outputId": "30c6bb03-5be0-40d1-b236-294134c4620b"
      },
      "outputs": [
        {
          "output_type": "execute_result",
          "data": {
            "text/plain": [
              "   Time        V1        V2        V3        V4        V5        V6        V7  \\\n",
              "0     0 -1.359807 -0.072781  2.536347  1.378155 -0.338321  0.462388  0.239599   \n",
              "1     0  1.191857  0.266151  0.166480  0.448154  0.060018 -0.082361 -0.078803   \n",
              "2     1 -1.358354 -1.340163  1.773209  0.379780 -0.503198  1.800499  0.791461   \n",
              "3     1 -0.966272 -0.185226  1.792993 -0.863291 -0.010309  1.247203  0.237609   \n",
              "4     2 -1.158233  0.877737  1.548718  0.403034 -0.407193  0.095921  0.592941   \n",
              "\n",
              "         V8        V9  ...       V21       V22       V23       V24       V25  \\\n",
              "0  0.098698  0.363787  ... -0.018307  0.277838 -0.110474  0.066928  0.128539   \n",
              "1  0.085102 -0.255425  ... -0.225775 -0.638672  0.101288 -0.339846  0.167170   \n",
              "2  0.247676 -1.514654  ...  0.247998  0.771679  0.909412 -0.689281 -0.327642   \n",
              "3  0.377436 -1.387024  ... -0.108300  0.005274 -0.190321 -1.175575  0.647376   \n",
              "4 -0.270533  0.817739  ... -0.009431  0.798278 -0.137458  0.141267 -0.206010   \n",
              "\n",
              "        V26       V27       V28  Amount  Class  \n",
              "0 -0.189115  0.133558 -0.021053  149.62      0  \n",
              "1  0.125895 -0.008983  0.014724    2.69      1  \n",
              "2 -0.139097 -0.055353 -0.059752  378.66      0  \n",
              "3 -0.221929  0.062723  0.061458  123.50      0  \n",
              "4  0.502292  0.219422  0.215153   69.99      0  \n",
              "\n",
              "[5 rows x 31 columns]"
            ],
            "text/html": [
              "\n",
              "  <div id=\"df-dcf3ee3a-86fb-45a2-b224-cb6fda52ed02\">\n",
              "    <div class=\"colab-df-container\">\n",
              "      <div>\n",
              "<style scoped>\n",
              "    .dataframe tbody tr th:only-of-type {\n",
              "        vertical-align: middle;\n",
              "    }\n",
              "\n",
              "    .dataframe tbody tr th {\n",
              "        vertical-align: top;\n",
              "    }\n",
              "\n",
              "    .dataframe thead th {\n",
              "        text-align: right;\n",
              "    }\n",
              "</style>\n",
              "<table border=\"1\" class=\"dataframe\">\n",
              "  <thead>\n",
              "    <tr style=\"text-align: right;\">\n",
              "      <th></th>\n",
              "      <th>Time</th>\n",
              "      <th>V1</th>\n",
              "      <th>V2</th>\n",
              "      <th>V3</th>\n",
              "      <th>V4</th>\n",
              "      <th>V5</th>\n",
              "      <th>V6</th>\n",
              "      <th>V7</th>\n",
              "      <th>V8</th>\n",
              "      <th>V9</th>\n",
              "      <th>...</th>\n",
              "      <th>V21</th>\n",
              "      <th>V22</th>\n",
              "      <th>V23</th>\n",
              "      <th>V24</th>\n",
              "      <th>V25</th>\n",
              "      <th>V26</th>\n",
              "      <th>V27</th>\n",
              "      <th>V28</th>\n",
              "      <th>Amount</th>\n",
              "      <th>Class</th>\n",
              "    </tr>\n",
              "  </thead>\n",
              "  <tbody>\n",
              "    <tr>\n",
              "      <th>0</th>\n",
              "      <td>0</td>\n",
              "      <td>-1.359807</td>\n",
              "      <td>-0.072781</td>\n",
              "      <td>2.536347</td>\n",
              "      <td>1.378155</td>\n",
              "      <td>-0.338321</td>\n",
              "      <td>0.462388</td>\n",
              "      <td>0.239599</td>\n",
              "      <td>0.098698</td>\n",
              "      <td>0.363787</td>\n",
              "      <td>...</td>\n",
              "      <td>-0.018307</td>\n",
              "      <td>0.277838</td>\n",
              "      <td>-0.110474</td>\n",
              "      <td>0.066928</td>\n",
              "      <td>0.128539</td>\n",
              "      <td>-0.189115</td>\n",
              "      <td>0.133558</td>\n",
              "      <td>-0.021053</td>\n",
              "      <td>149.62</td>\n",
              "      <td>0</td>\n",
              "    </tr>\n",
              "    <tr>\n",
              "      <th>1</th>\n",
              "      <td>0</td>\n",
              "      <td>1.191857</td>\n",
              "      <td>0.266151</td>\n",
              "      <td>0.166480</td>\n",
              "      <td>0.448154</td>\n",
              "      <td>0.060018</td>\n",
              "      <td>-0.082361</td>\n",
              "      <td>-0.078803</td>\n",
              "      <td>0.085102</td>\n",
              "      <td>-0.255425</td>\n",
              "      <td>...</td>\n",
              "      <td>-0.225775</td>\n",
              "      <td>-0.638672</td>\n",
              "      <td>0.101288</td>\n",
              "      <td>-0.339846</td>\n",
              "      <td>0.167170</td>\n",
              "      <td>0.125895</td>\n",
              "      <td>-0.008983</td>\n",
              "      <td>0.014724</td>\n",
              "      <td>2.69</td>\n",
              "      <td>1</td>\n",
              "    </tr>\n",
              "    <tr>\n",
              "      <th>2</th>\n",
              "      <td>1</td>\n",
              "      <td>-1.358354</td>\n",
              "      <td>-1.340163</td>\n",
              "      <td>1.773209</td>\n",
              "      <td>0.379780</td>\n",
              "      <td>-0.503198</td>\n",
              "      <td>1.800499</td>\n",
              "      <td>0.791461</td>\n",
              "      <td>0.247676</td>\n",
              "      <td>-1.514654</td>\n",
              "      <td>...</td>\n",
              "      <td>0.247998</td>\n",
              "      <td>0.771679</td>\n",
              "      <td>0.909412</td>\n",
              "      <td>-0.689281</td>\n",
              "      <td>-0.327642</td>\n",
              "      <td>-0.139097</td>\n",
              "      <td>-0.055353</td>\n",
              "      <td>-0.059752</td>\n",
              "      <td>378.66</td>\n",
              "      <td>0</td>\n",
              "    </tr>\n",
              "    <tr>\n",
              "      <th>3</th>\n",
              "      <td>1</td>\n",
              "      <td>-0.966272</td>\n",
              "      <td>-0.185226</td>\n",
              "      <td>1.792993</td>\n",
              "      <td>-0.863291</td>\n",
              "      <td>-0.010309</td>\n",
              "      <td>1.247203</td>\n",
              "      <td>0.237609</td>\n",
              "      <td>0.377436</td>\n",
              "      <td>-1.387024</td>\n",
              "      <td>...</td>\n",
              "      <td>-0.108300</td>\n",
              "      <td>0.005274</td>\n",
              "      <td>-0.190321</td>\n",
              "      <td>-1.175575</td>\n",
              "      <td>0.647376</td>\n",
              "      <td>-0.221929</td>\n",
              "      <td>0.062723</td>\n",
              "      <td>0.061458</td>\n",
              "      <td>123.50</td>\n",
              "      <td>0</td>\n",
              "    </tr>\n",
              "    <tr>\n",
              "      <th>4</th>\n",
              "      <td>2</td>\n",
              "      <td>-1.158233</td>\n",
              "      <td>0.877737</td>\n",
              "      <td>1.548718</td>\n",
              "      <td>0.403034</td>\n",
              "      <td>-0.407193</td>\n",
              "      <td>0.095921</td>\n",
              "      <td>0.592941</td>\n",
              "      <td>-0.270533</td>\n",
              "      <td>0.817739</td>\n",
              "      <td>...</td>\n",
              "      <td>-0.009431</td>\n",
              "      <td>0.798278</td>\n",
              "      <td>-0.137458</td>\n",
              "      <td>0.141267</td>\n",
              "      <td>-0.206010</td>\n",
              "      <td>0.502292</td>\n",
              "      <td>0.219422</td>\n",
              "      <td>0.215153</td>\n",
              "      <td>69.99</td>\n",
              "      <td>0</td>\n",
              "    </tr>\n",
              "  </tbody>\n",
              "</table>\n",
              "<p>5 rows × 31 columns</p>\n",
              "</div>\n",
              "      <button class=\"colab-df-convert\" onclick=\"convertToInteractive('df-dcf3ee3a-86fb-45a2-b224-cb6fda52ed02')\"\n",
              "              title=\"Convert this dataframe to an interactive table.\"\n",
              "              style=\"display:none;\">\n",
              "        \n",
              "  <svg xmlns=\"http://www.w3.org/2000/svg\" height=\"24px\"viewBox=\"0 0 24 24\"\n",
              "       width=\"24px\">\n",
              "    <path d=\"M0 0h24v24H0V0z\" fill=\"none\"/>\n",
              "    <path d=\"M18.56 5.44l.94 2.06.94-2.06 2.06-.94-2.06-.94-.94-2.06-.94 2.06-2.06.94zm-11 1L8.5 8.5l.94-2.06 2.06-.94-2.06-.94L8.5 2.5l-.94 2.06-2.06.94zm10 10l.94 2.06.94-2.06 2.06-.94-2.06-.94-.94-2.06-.94 2.06-2.06.94z\"/><path d=\"M17.41 7.96l-1.37-1.37c-.4-.4-.92-.59-1.43-.59-.52 0-1.04.2-1.43.59L10.3 9.45l-7.72 7.72c-.78.78-.78 2.05 0 2.83L4 21.41c.39.39.9.59 1.41.59.51 0 1.02-.2 1.41-.59l7.78-7.78 2.81-2.81c.8-.78.8-2.07 0-2.86zM5.41 20L4 18.59l7.72-7.72 1.47 1.35L5.41 20z\"/>\n",
              "  </svg>\n",
              "      </button>\n",
              "      \n",
              "  <style>\n",
              "    .colab-df-container {\n",
              "      display:flex;\n",
              "      flex-wrap:wrap;\n",
              "      gap: 12px;\n",
              "    }\n",
              "\n",
              "    .colab-df-convert {\n",
              "      background-color: #E8F0FE;\n",
              "      border: none;\n",
              "      border-radius: 50%;\n",
              "      cursor: pointer;\n",
              "      display: none;\n",
              "      fill: #1967D2;\n",
              "      height: 32px;\n",
              "      padding: 0 0 0 0;\n",
              "      width: 32px;\n",
              "    }\n",
              "\n",
              "    .colab-df-convert:hover {\n",
              "      background-color: #E2EBFA;\n",
              "      box-shadow: 0px 1px 2px rgba(60, 64, 67, 0.3), 0px 1px 3px 1px rgba(60, 64, 67, 0.15);\n",
              "      fill: #174EA6;\n",
              "    }\n",
              "\n",
              "    [theme=dark] .colab-df-convert {\n",
              "      background-color: #3B4455;\n",
              "      fill: #D2E3FC;\n",
              "    }\n",
              "\n",
              "    [theme=dark] .colab-df-convert:hover {\n",
              "      background-color: #434B5C;\n",
              "      box-shadow: 0px 1px 3px 1px rgba(0, 0, 0, 0.15);\n",
              "      filter: drop-shadow(0px 1px 2px rgba(0, 0, 0, 0.3));\n",
              "      fill: #FFFFFF;\n",
              "    }\n",
              "  </style>\n",
              "\n",
              "      <script>\n",
              "        const buttonEl =\n",
              "          document.querySelector('#df-dcf3ee3a-86fb-45a2-b224-cb6fda52ed02 button.colab-df-convert');\n",
              "        buttonEl.style.display =\n",
              "          google.colab.kernel.accessAllowed ? 'block' : 'none';\n",
              "\n",
              "        async function convertToInteractive(key) {\n",
              "          const element = document.querySelector('#df-dcf3ee3a-86fb-45a2-b224-cb6fda52ed02');\n",
              "          const dataTable =\n",
              "            await google.colab.kernel.invokeFunction('convertToInteractive',\n",
              "                                                     [key], {});\n",
              "          if (!dataTable) return;\n",
              "\n",
              "          const docLinkHtml = 'Like what you see? Visit the ' +\n",
              "            '<a target=\"_blank\" href=https://colab.research.google.com/notebooks/data_table.ipynb>data table notebook</a>'\n",
              "            + ' to learn more about interactive tables.';\n",
              "          element.innerHTML = '';\n",
              "          dataTable['output_type'] = 'display_data';\n",
              "          await google.colab.output.renderOutput(dataTable, element);\n",
              "          const docLink = document.createElement('div');\n",
              "          docLink.innerHTML = docLinkHtml;\n",
              "          element.appendChild(docLink);\n",
              "        }\n",
              "      </script>\n",
              "    </div>\n",
              "  </div>\n",
              "  "
            ]
          },
          "metadata": {},
          "execution_count": 662
        }
      ],
      "source": [
        "df_oversampled.head()"
      ]
    },
    {
      "cell_type": "code",
      "execution_count": 663,
      "id": "d7b0ad40",
      "metadata": {
        "colab": {
          "base_uri": "https://localhost:8080/"
        },
        "id": "d7b0ad40",
        "outputId": "cef18889-866a-479f-9512-a8f24d6a2309"
      },
      "outputs": [
        {
          "output_type": "execute_result",
          "data": {
            "text/plain": [
              "0    763\n",
              "1    763\n",
              "Name: Class, dtype: int64"
            ]
          },
          "metadata": {},
          "execution_count": 663
        }
      ],
      "source": [
        "df_oversampled[\"Class\"].value_counts()"
      ]
    },
    {
      "cell_type": "code",
      "source": [
        "s1 = []\n",
        "s2 = []\n",
        "s3 = []\n",
        "s4 = []\n",
        "s5 = []"
      ],
      "metadata": {
        "id": "TkNe5aFhHD0g"
      },
      "id": "TkNe5aFhHD0g",
      "execution_count": 664,
      "outputs": []
    },
    {
      "cell_type": "markdown",
      "id": "2ad47e9a",
      "metadata": {
        "id": "2ad47e9a"
      },
      "source": [
        "## Simple Random Sampling"
      ]
    },
    {
      "cell_type": "markdown",
      "id": "23f1ccbc",
      "metadata": {
        "id": "23f1ccbc"
      },
      "source": [
        "### Sample size calculation"
      ]
    },
    {
      "cell_type": "code",
      "execution_count": 665,
      "id": "45dd2401",
      "metadata": {
        "colab": {
          "base_uri": "https://localhost:8080/"
        },
        "id": "45dd2401",
        "outputId": "1363f2a5-d524-4765-c963-90ae5316f1b8"
      },
      "outputs": [
        {
          "output_type": "execute_result",
          "data": {
            "text/plain": [
              "384"
            ]
          },
          "metadata": {},
          "execution_count": 665
        }
      ],
      "source": [
        "z = 1.96\n",
        "p = 0.5\n",
        "e = 0.05\n",
        "n = round(math.pow(z,2)*p*(1-p)/math.pow(e,2))\n",
        "n"
      ]
    },
    {
      "cell_type": "code",
      "execution_count": 666,
      "id": "a61fc941",
      "metadata": {
        "id": "a61fc941"
      },
      "outputs": [],
      "source": [
        "import random\n",
        "df_simple_sample = df_oversampled.sample(384)"
      ]
    },
    {
      "cell_type": "code",
      "execution_count": 667,
      "id": "8a1b3a01",
      "metadata": {
        "colab": {
          "base_uri": "https://localhost:8080/"
        },
        "id": "8a1b3a01",
        "outputId": "0df842fb-5be8-4848-f164-31678d083769"
      },
      "outputs": [
        {
          "output_type": "execute_result",
          "data": {
            "text/plain": [
              "1    214\n",
              "0    170\n",
              "Name: Class, dtype: int64"
            ]
          },
          "metadata": {},
          "execution_count": 667
        }
      ],
      "source": [
        "df_simple_sample[\"Class\"].value_counts()"
      ]
    },
    {
      "cell_type": "code",
      "execution_count": 668,
      "id": "52d4324d",
      "metadata": {
        "id": "52d4324d"
      },
      "outputs": [],
      "source": [
        "X = df_simple_sample.iloc[:, :-1]\n",
        "Y = df_simple_sample.iloc[:, -1]"
      ]
    },
    {
      "cell_type": "code",
      "execution_count": 669,
      "id": "281dafaf",
      "metadata": {
        "id": "281dafaf"
      },
      "outputs": [],
      "source": [
        "from sklearn.model_selection import train_test_split\n",
        "x_train_orig, x_test_orig, y_train, y_test = train_test_split(X, Y, test_size=0.3, random_state=40)"
      ]
    },
    {
      "cell_type": "code",
      "execution_count": 670,
      "id": "7139892c",
      "metadata": {
        "id": "7139892c"
      },
      "outputs": [],
      "source": [
        "from sklearn.preprocessing import StandardScaler\n",
        "sc = StandardScaler()\n",
        "x_train = sc.fit_transform(x_train_orig)\n",
        "x_test = sc.fit_transform(x_test_orig)"
      ]
    },
    {
      "cell_type": "markdown",
      "id": "884edbf9",
      "metadata": {
        "id": "884edbf9"
      },
      "source": [
        "### KNN model"
      ]
    },
    {
      "cell_type": "code",
      "execution_count": 671,
      "id": "eac538f2",
      "metadata": {
        "colab": {
          "base_uri": "https://localhost:8080/"
        },
        "id": "eac538f2",
        "outputId": "0bd9dd0c-5b94-47d9-910e-d84fcca72fea"
      },
      "outputs": [
        {
          "output_type": "stream",
          "name": "stdout",
          "text": [
            "Accuracy for our testing dataset with tuning is : 81.90%\n"
          ]
        }
      ],
      "source": [
        "from sklearn.neighbors import KNeighborsClassifier\n",
        "knn = KNeighborsClassifier(n_neighbors=9)\n",
        "knn.fit(x_train, y_train)\n",
        "pred=knn.predict(x_test) \n",
        "test_accuracy=accuracy_score(y_test,pred)*100\n",
        "s1.append(test_accuracy)\n",
        "print(\"Accuracy for our testing dataset with tuning is : {:.2f}%\".format(test_accuracy) )"
      ]
    },
    {
      "cell_type": "code",
      "execution_count": 672,
      "id": "2f4dfae8",
      "metadata": {
        "colab": {
          "base_uri": "https://localhost:8080/"
        },
        "id": "2f4dfae8",
        "outputId": "173ee405-4508-4f0e-fd07-464e99f37eba"
      },
      "outputs": [
        {
          "output_type": "stream",
          "name": "stdout",
          "text": [
            "              precision    recall  f1-score   support\n",
            "\n",
            "           0       1.00      0.62      0.77        56\n",
            "           1       0.74      1.00      0.85        60\n",
            "\n",
            "    accuracy                           0.82       116\n",
            "   macro avg       0.87      0.81      0.81       116\n",
            "weighted avg       0.87      0.82      0.81       116\n",
            "\n"
          ]
        }
      ],
      "source": [
        "print(classification_report(y_test, pred))"
      ]
    },
    {
      "cell_type": "markdown",
      "id": "206029c3",
      "metadata": {
        "id": "206029c3"
      },
      "source": [
        "### Naive Bayes"
      ]
    },
    {
      "cell_type": "code",
      "execution_count": 673,
      "id": "c07ad5b4",
      "metadata": {
        "colab": {
          "base_uri": "https://localhost:8080/"
        },
        "id": "c07ad5b4",
        "outputId": "a49f74b8-8654-4644-8cc7-d7629726c25e"
      },
      "outputs": [
        {
          "output_type": "execute_result",
          "data": {
            "text/plain": [
              "GaussianNB()"
            ]
          },
          "metadata": {},
          "execution_count": 673
        }
      ],
      "source": [
        "from sklearn.naive_bayes import GaussianNB\n",
        "\n",
        "nb_classifier = GaussianNB()\n",
        "nb_classifier.fit(x_train, y_train)"
      ]
    },
    {
      "cell_type": "code",
      "execution_count": 674,
      "id": "1ff52630",
      "metadata": {
        "id": "1ff52630"
      },
      "outputs": [],
      "source": [
        "pred = nb_classifier.predict(x_test)"
      ]
    },
    {
      "cell_type": "code",
      "execution_count": 675,
      "id": "3fb5a43e",
      "metadata": {
        "colab": {
          "base_uri": "https://localhost:8080/"
        },
        "id": "3fb5a43e",
        "outputId": "70c956aa-7caa-4b62-d049-1a390972cb2e"
      },
      "outputs": [
        {
          "output_type": "stream",
          "name": "stdout",
          "text": [
            "[[50  6]\n",
            " [36 24]]\n"
          ]
        }
      ],
      "source": [
        "print(confusion_matrix(y_test, pred))"
      ]
    },
    {
      "cell_type": "code",
      "execution_count": 676,
      "id": "9622765c",
      "metadata": {
        "colab": {
          "base_uri": "https://localhost:8080/"
        },
        "id": "9622765c",
        "outputId": "1fcf17df-4f23-4b77-f391-ef1f46c1280a"
      },
      "outputs": [
        {
          "output_type": "stream",
          "name": "stdout",
          "text": [
            "              precision    recall  f1-score   support\n",
            "\n",
            "           0       0.58      0.89      0.70        56\n",
            "           1       0.80      0.40      0.53        60\n",
            "\n",
            "    accuracy                           0.64       116\n",
            "   macro avg       0.69      0.65      0.62       116\n",
            "weighted avg       0.69      0.64      0.62       116\n",
            "\n"
          ]
        }
      ],
      "source": [
        "print(classification_report(y_test, pred))"
      ]
    },
    {
      "cell_type": "code",
      "execution_count": 677,
      "id": "142b51c2",
      "metadata": {
        "id": "142b51c2"
      },
      "outputs": [],
      "source": [
        "pred_train = nb_classifier.predict(x_train)"
      ]
    },
    {
      "cell_type": "code",
      "source": [
        "test_accuracy = accuracy_score(y_test, pred)*100\n",
        "s1.append(test_accuracy)"
      ],
      "metadata": {
        "id": "kp8E7NlsHk0Z"
      },
      "id": "kp8E7NlsHk0Z",
      "execution_count": 678,
      "outputs": []
    },
    {
      "cell_type": "code",
      "execution_count": 679,
      "id": "f0c95687",
      "metadata": {
        "colab": {
          "base_uri": "https://localhost:8080/"
        },
        "id": "f0c95687",
        "outputId": "19bde590-cc7f-4c96-9f48-53d6a534416b"
      },
      "outputs": [
        {
          "output_type": "stream",
          "name": "stdout",
          "text": [
            "Accuracy score on testing data: 0.6379310344827587\n",
            "Accuracy score on training data: 0.7014925373134329\n"
          ]
        }
      ],
      "source": [
        "print(f\"Accuracy score on testing data: {accuracy_score(y_test, pred)}\")\n",
        "print(f\"Accuracy score on training data: {accuracy_score(y_train, pred_train)}\")"
      ]
    },
    {
      "cell_type": "markdown",
      "id": "6d0720be",
      "metadata": {
        "id": "6d0720be"
      },
      "source": [
        "### Logistic Regression"
      ]
    },
    {
      "cell_type": "code",
      "execution_count": 680,
      "id": "146c4f62",
      "metadata": {
        "colab": {
          "base_uri": "https://localhost:8080/"
        },
        "id": "146c4f62",
        "outputId": "8c6085db-dff8-4a9e-d661-73e78a18ea77"
      },
      "outputs": [
        {
          "output_type": "execute_result",
          "data": {
            "text/plain": [
              "LogisticRegression()"
            ]
          },
          "metadata": {},
          "execution_count": 680
        }
      ],
      "source": [
        "from sklearn.linear_model import LogisticRegression\n",
        "\n",
        "log_reg = LogisticRegression()\n",
        "log_reg.fit(x_train, y_train)"
      ]
    },
    {
      "cell_type": "code",
      "execution_count": 681,
      "id": "1450dc3a",
      "metadata": {
        "id": "1450dc3a"
      },
      "outputs": [],
      "source": [
        "pred = log_reg.predict(x_test)"
      ]
    },
    {
      "cell_type": "code",
      "execution_count": 682,
      "id": "319f1e1b",
      "metadata": {
        "colab": {
          "base_uri": "https://localhost:8080/"
        },
        "id": "319f1e1b",
        "outputId": "a8298070-aebd-42ae-f63d-008a44ecc80d"
      },
      "outputs": [
        {
          "output_type": "stream",
          "name": "stdout",
          "text": [
            "[[44 12]\n",
            " [ 0 60]]\n"
          ]
        }
      ],
      "source": [
        "print(confusion_matrix(y_test, pred))"
      ]
    },
    {
      "cell_type": "code",
      "execution_count": 683,
      "id": "36c08246",
      "metadata": {
        "colab": {
          "base_uri": "https://localhost:8080/"
        },
        "id": "36c08246",
        "outputId": "4e74a8bc-cea1-4409-bc58-0c04d292efef"
      },
      "outputs": [
        {
          "output_type": "stream",
          "name": "stdout",
          "text": [
            "              precision    recall  f1-score   support\n",
            "\n",
            "           0       1.00      0.79      0.88        56\n",
            "           1       0.83      1.00      0.91        60\n",
            "\n",
            "    accuracy                           0.90       116\n",
            "   macro avg       0.92      0.89      0.89       116\n",
            "weighted avg       0.91      0.90      0.90       116\n",
            "\n"
          ]
        }
      ],
      "source": [
        "print(classification_report(y_test, pred))"
      ]
    },
    {
      "cell_type": "code",
      "execution_count": 684,
      "id": "1e4de902",
      "metadata": {
        "id": "1e4de902"
      },
      "outputs": [],
      "source": [
        "pred_train = log_reg.predict(x_train)"
      ]
    },
    {
      "cell_type": "code",
      "source": [
        "test_accuracy = accuracy_score(y_test, pred)*100\n",
        "s1.append(test_accuracy)"
      ],
      "metadata": {
        "id": "7DkHZK81HwD5"
      },
      "id": "7DkHZK81HwD5",
      "execution_count": 685,
      "outputs": []
    },
    {
      "cell_type": "code",
      "execution_count": 686,
      "id": "de8e3991",
      "metadata": {
        "colab": {
          "base_uri": "https://localhost:8080/"
        },
        "id": "de8e3991",
        "outputId": "fbabf42e-04cb-4bdb-c41c-1bb8e2d3834d"
      },
      "outputs": [
        {
          "output_type": "stream",
          "name": "stdout",
          "text": [
            "Accuracy score on testing data: 0.896551724137931\n",
            "Accuracy score on training data: 0.9440298507462687\n"
          ]
        }
      ],
      "source": [
        "print(f\"Accuracy score on testing data: {accuracy_score(y_test, pred)}\")\n",
        "print(f\"Accuracy score on training data: {accuracy_score(y_train, pred_train)}\")"
      ]
    },
    {
      "cell_type": "markdown",
      "id": "0c2569a7",
      "metadata": {
        "id": "0c2569a7"
      },
      "source": [
        "### Random Forest"
      ]
    },
    {
      "cell_type": "code",
      "execution_count": 687,
      "id": "cb93680d",
      "metadata": {
        "id": "cb93680d"
      },
      "outputs": [],
      "source": [
        "from sklearn.ensemble import RandomForestClassifier\n",
        "cf = RandomForestClassifier(n_estimators = 100, random_state = 42)\n",
        "cf.fit(x_train, y_train);"
      ]
    },
    {
      "cell_type": "code",
      "execution_count": 688,
      "id": "8ae7d41e",
      "metadata": {
        "id": "8ae7d41e"
      },
      "outputs": [],
      "source": [
        "pred = cf.predict(x_test)"
      ]
    },
    {
      "cell_type": "code",
      "execution_count": 689,
      "id": "04bc1720",
      "metadata": {
        "colab": {
          "base_uri": "https://localhost:8080/"
        },
        "id": "04bc1720",
        "outputId": "7dc91d75-e6f8-4a90-f89e-34bc2b85436d"
      },
      "outputs": [
        {
          "output_type": "stream",
          "name": "stdout",
          "text": [
            "[[56  0]\n",
            " [ 0 60]]\n"
          ]
        }
      ],
      "source": [
        "print(confusion_matrix(y_test, pred))"
      ]
    },
    {
      "cell_type": "code",
      "execution_count": 690,
      "id": "701cdaba",
      "metadata": {
        "colab": {
          "base_uri": "https://localhost:8080/"
        },
        "id": "701cdaba",
        "outputId": "97a62334-fcc3-49b0-ecdc-adb4369727c0"
      },
      "outputs": [
        {
          "output_type": "stream",
          "name": "stdout",
          "text": [
            "              precision    recall  f1-score   support\n",
            "\n",
            "           0       1.00      1.00      1.00        56\n",
            "           1       1.00      1.00      1.00        60\n",
            "\n",
            "    accuracy                           1.00       116\n",
            "   macro avg       1.00      1.00      1.00       116\n",
            "weighted avg       1.00      1.00      1.00       116\n",
            "\n"
          ]
        }
      ],
      "source": [
        "print(classification_report(y_test, pred))"
      ]
    },
    {
      "cell_type": "code",
      "execution_count": 691,
      "id": "461c28fb",
      "metadata": {
        "id": "461c28fb"
      },
      "outputs": [],
      "source": [
        "pred_train = cf.predict(x_train)"
      ]
    },
    {
      "cell_type": "code",
      "source": [
        "test_accuracy = accuracy_score(y_test, pred)*100\n",
        "s1.append(test_accuracy)"
      ],
      "metadata": {
        "id": "CBzsyi4eHzr5"
      },
      "id": "CBzsyi4eHzr5",
      "execution_count": 692,
      "outputs": []
    },
    {
      "cell_type": "code",
      "execution_count": 693,
      "id": "2c755da4",
      "metadata": {
        "colab": {
          "base_uri": "https://localhost:8080/"
        },
        "id": "2c755da4",
        "outputId": "4f5a9ccd-f9c6-4d4e-ef1f-ece25226b275"
      },
      "outputs": [
        {
          "output_type": "stream",
          "name": "stdout",
          "text": [
            "Accuracy score on testing data: 1.0\n",
            "Accuracy score on training data: 1.0\n"
          ]
        }
      ],
      "source": [
        "print(f\"Accuracy score on testing data: {accuracy_score(y_test, pred)}\")\n",
        "print(f\"Accuracy score on training data: {accuracy_score(y_train, pred_train)}\")"
      ]
    },
    {
      "cell_type": "markdown",
      "id": "f6724667",
      "metadata": {
        "id": "f6724667"
      },
      "source": [
        "### CNN"
      ]
    },
    {
      "cell_type": "code",
      "execution_count": 694,
      "id": "1e9a3d7c",
      "metadata": {
        "id": "1e9a3d7c"
      },
      "outputs": [],
      "source": [
        "from keras.models import Sequential\n",
        "from keras.layers import Dense, Dropout"
      ]
    },
    {
      "cell_type": "code",
      "execution_count": 695,
      "id": "9fc7800c",
      "metadata": {
        "id": "9fc7800c"
      },
      "outputs": [],
      "source": [
        "def trainModel(model, epochs, optimizer):\n",
        "  batchsize = 25\n",
        "  model.compile(optimizer=optimizer, loss='sparse_categorical_crossentropy', metrics='accuracy')\n",
        "  return model.fit(x_train, y_train,validation_data=(x_test,y_test), epochs=epochs, batch_size=batchsize)"
      ]
    },
    {
      "cell_type": "code",
      "execution_count": 696,
      "id": "8cbf8f32",
      "metadata": {
        "id": "8cbf8f32"
      },
      "outputs": [],
      "source": [
        "def validate(history):\n",
        "  print(\"Validation Accuracy\",max(history.history[\"val_accuracy\"]))\n",
        "  pd.DataFrame(history.history).plot(figsize=(12,6))\n",
        "  plt.show()"
      ]
    },
    {
      "cell_type": "code",
      "execution_count": 697,
      "id": "0e7e4abe",
      "metadata": {
        "colab": {
          "base_uri": "https://localhost:8080/"
        },
        "id": "0e7e4abe",
        "outputId": "3e281e63-fe76-4b54-dd9d-bbc974bc6045"
      },
      "outputs": [
        {
          "output_type": "stream",
          "name": "stdout",
          "text": [
            "Model: \"sequential_23\"\n",
            "_________________________________________________________________\n",
            " Layer (type)                Output Shape              Param #   \n",
            "=================================================================\n",
            " dense_115 (Dense)           (None, 512)               15872     \n",
            "                                                                 \n",
            " dropout_92 (Dropout)        (None, 512)               0         \n",
            "                                                                 \n",
            " dense_116 (Dense)           (None, 256)               131328    \n",
            "                                                                 \n",
            " dropout_93 (Dropout)        (None, 256)               0         \n",
            "                                                                 \n",
            " dense_117 (Dense)           (None, 128)               32896     \n",
            "                                                                 \n",
            " dropout_94 (Dropout)        (None, 128)               0         \n",
            "                                                                 \n",
            " dense_118 (Dense)           (None, 64)                8256      \n",
            "                                                                 \n",
            " dropout_95 (Dropout)        (None, 64)                0         \n",
            "                                                                 \n",
            " dense_119 (Dense)           (None, 10)                650       \n",
            "                                                                 \n",
            "=================================================================\n",
            "Total params: 189,002\n",
            "Trainable params: 189,002\n",
            "Non-trainable params: 0\n",
            "_________________________________________________________________\n",
            "None\n",
            "Epoch 1/32\n",
            "11/11 [==============================] - 1s 30ms/step - loss: 1.4570 - accuracy: 0.6157 - val_loss: 0.6057 - val_accuracy: 0.7759\n",
            "Epoch 2/32\n",
            "11/11 [==============================] - 0s 11ms/step - loss: 0.5391 - accuracy: 0.7463 - val_loss: 0.3416 - val_accuracy: 0.8793\n",
            "Epoch 3/32\n",
            "11/11 [==============================] - 0s 12ms/step - loss: 0.3894 - accuracy: 0.8097 - val_loss: 0.1411 - val_accuracy: 0.9397\n",
            "Epoch 4/32\n",
            "11/11 [==============================] - 0s 11ms/step - loss: 0.1620 - accuracy: 0.9440 - val_loss: 0.1401 - val_accuracy: 0.9310\n",
            "Epoch 5/32\n",
            "11/11 [==============================] - 0s 11ms/step - loss: 0.0759 - accuracy: 0.9776 - val_loss: 0.0577 - val_accuracy: 0.9828\n",
            "Epoch 6/32\n",
            "11/11 [==============================] - 0s 14ms/step - loss: 0.0528 - accuracy: 0.9925 - val_loss: 0.0619 - val_accuracy: 0.9741\n",
            "Epoch 7/32\n",
            "11/11 [==============================] - 0s 12ms/step - loss: 0.0322 - accuracy: 0.9888 - val_loss: 0.0617 - val_accuracy: 0.9741\n",
            "Epoch 8/32\n",
            "11/11 [==============================] - 0s 11ms/step - loss: 0.0097 - accuracy: 1.0000 - val_loss: 0.0951 - val_accuracy: 0.9655\n",
            "Epoch 9/32\n",
            "11/11 [==============================] - 0s 12ms/step - loss: 0.0275 - accuracy: 0.9925 - val_loss: 0.0421 - val_accuracy: 0.9828\n",
            "Epoch 10/32\n",
            "11/11 [==============================] - 0s 11ms/step - loss: 0.0100 - accuracy: 1.0000 - val_loss: 0.0683 - val_accuracy: 0.9741\n",
            "Epoch 11/32\n",
            "11/11 [==============================] - 0s 11ms/step - loss: 0.0115 - accuracy: 0.9963 - val_loss: 0.0364 - val_accuracy: 0.9828\n",
            "Epoch 12/32\n",
            "11/11 [==============================] - 0s 12ms/step - loss: 0.0053 - accuracy: 1.0000 - val_loss: 0.0671 - val_accuracy: 0.9828\n",
            "Epoch 13/32\n",
            "11/11 [==============================] - 0s 11ms/step - loss: 0.0058 - accuracy: 0.9963 - val_loss: 0.0587 - val_accuracy: 0.9828\n",
            "Epoch 14/32\n",
            "11/11 [==============================] - 0s 12ms/step - loss: 0.0064 - accuracy: 1.0000 - val_loss: 0.0716 - val_accuracy: 0.9655\n",
            "Epoch 15/32\n",
            "11/11 [==============================] - 0s 12ms/step - loss: 0.0019 - accuracy: 1.0000 - val_loss: 0.1339 - val_accuracy: 0.9655\n",
            "Epoch 16/32\n",
            "11/11 [==============================] - 0s 10ms/step - loss: 0.0031 - accuracy: 1.0000 - val_loss: 0.0845 - val_accuracy: 0.9741\n",
            "Epoch 17/32\n",
            "11/11 [==============================] - 0s 13ms/step - loss: 9.8136e-04 - accuracy: 1.0000 - val_loss: 0.0609 - val_accuracy: 0.9741\n",
            "Epoch 18/32\n",
            "11/11 [==============================] - 0s 10ms/step - loss: 7.5794e-04 - accuracy: 1.0000 - val_loss: 0.0600 - val_accuracy: 0.9741\n",
            "Epoch 19/32\n",
            "11/11 [==============================] - 0s 11ms/step - loss: 0.0011 - accuracy: 1.0000 - val_loss: 0.0654 - val_accuracy: 0.9741\n",
            "Epoch 20/32\n",
            "11/11 [==============================] - 0s 12ms/step - loss: 8.6241e-04 - accuracy: 1.0000 - val_loss: 0.0713 - val_accuracy: 0.9741\n",
            "Epoch 21/32\n",
            "11/11 [==============================] - 0s 11ms/step - loss: 0.0032 - accuracy: 1.0000 - val_loss: 0.0963 - val_accuracy: 0.9655\n",
            "Epoch 22/32\n",
            "11/11 [==============================] - 0s 13ms/step - loss: 0.0050 - accuracy: 1.0000 - val_loss: 0.0232 - val_accuracy: 0.9914\n",
            "Epoch 23/32\n",
            "11/11 [==============================] - 0s 13ms/step - loss: 0.0020 - accuracy: 1.0000 - val_loss: 0.0676 - val_accuracy: 0.9828\n",
            "Epoch 24/32\n",
            "11/11 [==============================] - 0s 11ms/step - loss: 0.0015 - accuracy: 1.0000 - val_loss: 0.1002 - val_accuracy: 0.9741\n",
            "Epoch 25/32\n",
            "11/11 [==============================] - 0s 11ms/step - loss: 0.0021 - accuracy: 1.0000 - val_loss: 0.0326 - val_accuracy: 0.9828\n",
            "Epoch 26/32\n",
            "11/11 [==============================] - 0s 10ms/step - loss: 0.0014 - accuracy: 1.0000 - val_loss: 0.0753 - val_accuracy: 0.9741\n",
            "Epoch 27/32\n",
            "11/11 [==============================] - 0s 12ms/step - loss: 6.2730e-04 - accuracy: 1.0000 - val_loss: 0.0984 - val_accuracy: 0.9741\n",
            "Epoch 28/32\n",
            "11/11 [==============================] - 0s 14ms/step - loss: 0.0024 - accuracy: 1.0000 - val_loss: 0.0544 - val_accuracy: 0.9828\n",
            "Epoch 29/32\n",
            "11/11 [==============================] - 0s 12ms/step - loss: 0.0071 - accuracy: 0.9963 - val_loss: 0.0386 - val_accuracy: 0.9828\n",
            "Epoch 30/32\n",
            "11/11 [==============================] - 0s 10ms/step - loss: 0.0045 - accuracy: 1.0000 - val_loss: 0.0211 - val_accuracy: 0.9914\n",
            "Epoch 31/32\n",
            "11/11 [==============================] - 0s 10ms/step - loss: 6.9995e-04 - accuracy: 1.0000 - val_loss: 0.0867 - val_accuracy: 0.9828\n",
            "Epoch 32/32\n",
            "11/11 [==============================] - 0s 13ms/step - loss: 0.0122 - accuracy: 0.9963 - val_loss: 0.0391 - val_accuracy: 0.9914\n"
          ]
        }
      ],
      "source": [
        "model=Sequential([\n",
        "    Dense(512,activation='relu',input_shape=(x_train.shape[1],)),\n",
        "    Dropout(0.2),\n",
        "    Dense(256,activation='relu'),\n",
        "    Dropout(0.2),\n",
        "    Dense(128,activation='relu'),\n",
        "    Dropout(0.2),\n",
        "    Dense(64,activation='relu'),\n",
        "    Dropout(0.2),\n",
        "    Dense(10,activation='softmax'),\n",
        "])\n",
        "print(model.summary())\n",
        "model_history = trainModel(model=model,epochs=32,optimizer='adam')"
      ]
    },
    {
      "cell_type": "code",
      "execution_count": 698,
      "id": "3f4595a3",
      "metadata": {
        "colab": {
          "base_uri": "https://localhost:8080/"
        },
        "id": "3f4595a3",
        "outputId": "564e2348-cee4-49f8-a298-eaaf8ac19c3a"
      },
      "outputs": [
        {
          "output_type": "stream",
          "name": "stdout",
          "text": [
            "1/1 [==============================] - 0s 27ms/step - loss: 0.0391 - accuracy: 0.9914\n",
            "Test Loss is :  0.03913981094956398\n",
            "Test Accuracy is :  0.9913793206214905\n"
          ]
        }
      ],
      "source": [
        "test_loss,test_accuracy = model.evaluate(x_test,y_test,batch_size=128)\n",
        "print(\"Test Loss is : \",test_loss)\n",
        "print(\"Test Accuracy is : \",test_accuracy)"
      ]
    },
    {
      "cell_type": "code",
      "source": [
        "test_accuracy = test_accuracy*100\n",
        "s1.append(test_accuracy)"
      ],
      "metadata": {
        "id": "lU0fuq0zH3bU"
      },
      "id": "lU0fuq0zH3bU",
      "execution_count": 699,
      "outputs": []
    },
    {
      "cell_type": "markdown",
      "id": "0f1f3de1",
      "metadata": {
        "id": "0f1f3de1"
      },
      "source": [
        "## Stratified Sampling"
      ]
    },
    {
      "cell_type": "markdown",
      "source": [
        "### Sample Size Calculation"
      ],
      "metadata": {
        "id": "LYonPJI9zVJk"
      },
      "id": "LYonPJI9zVJk"
    },
    {
      "cell_type": "code",
      "execution_count": 700,
      "id": "f00c0735",
      "metadata": {
        "colab": {
          "base_uri": "https://localhost:8080/"
        },
        "id": "f00c0735",
        "outputId": "34115339-6a34-44b3-9c3a-3c02055e32a5"
      },
      "outputs": [
        {
          "output_type": "execute_result",
          "data": {
            "text/plain": [
              "1537"
            ]
          },
          "metadata": {},
          "execution_count": 700
        }
      ],
      "source": [
        "z = 1.96\n",
        "p = 0.5\n",
        "e = 0.05\n",
        "s = 2\n",
        "n = round(math.pow(z,2)*p*(1-p)/math.pow((e/s),2))\n",
        "n"
      ]
    },
    {
      "cell_type": "code",
      "execution_count": 701,
      "id": "3d0b0709",
      "metadata": {
        "colab": {
          "base_uri": "https://localhost:8080/"
        },
        "id": "3d0b0709",
        "outputId": "a719d7a7-5fb7-429e-9f2f-8a1b14ff9eff"
      },
      "outputs": [
        {
          "output_type": "execute_result",
          "data": {
            "text/plain": [
              "Class     1.000000\n",
              "V5        0.288021\n",
              "V4        0.268657\n",
              "V15       0.258885\n",
              "Time      0.230953\n",
              "V8        0.206191\n",
              "V23       0.174438\n",
              "V20       0.153974\n",
              "V26       0.104520\n",
              "V11       0.095374\n",
              "V21       0.064548\n",
              "V13       0.003448\n",
              "V22      -0.004331\n",
              "V16      -0.035092\n",
              "Amount   -0.035526\n",
              "V19      -0.060761\n",
              "V18      -0.060772\n",
              "V28      -0.075031\n",
              "V3       -0.106127\n",
              "V27      -0.109112\n",
              "V17      -0.111196\n",
              "V2       -0.123865\n",
              "V9       -0.160023\n",
              "V24      -0.165813\n",
              "V1       -0.195388\n",
              "V25      -0.216146\n",
              "V7       -0.216251\n",
              "V12      -0.227843\n",
              "V14      -0.246819\n",
              "V6       -0.345236\n",
              "V10      -0.351980\n",
              "Name: Class, dtype: float64"
            ]
          },
          "metadata": {},
          "execution_count": 701
        }
      ],
      "source": [
        "correlation_matrix=df_oversampled.corr()\n",
        "correlation_matrix['Class'].sort_values(ascending=False)"
      ]
    },
    {
      "cell_type": "code",
      "source": [
        "df_strata = df_oversampled.copy()"
      ],
      "metadata": {
        "id": "MnKn5IILWhTV"
      },
      "id": "MnKn5IILWhTV",
      "execution_count": 702,
      "outputs": []
    },
    {
      "cell_type": "code",
      "execution_count": 703,
      "id": "0164e5fe",
      "metadata": {
        "colab": {
          "base_uri": "https://localhost:8080/"
        },
        "id": "0164e5fe",
        "outputId": "3abac3f3-4f82-475a-fe3a-b92f7bbf0973"
      },
      "outputs": [
        {
          "output_type": "execute_result",
          "data": {
            "text/plain": [
              "-4.0      1\n",
              "-3.0      1\n",
              "-2.0      3\n",
              "-1.0     31\n",
              "-0.0    635\n",
              " 1.0    720\n",
              " 2.0    127\n",
              " 3.0      6\n",
              " 5.0      1\n",
              " 6.0      1\n",
              "Name: Strata_category, dtype: int64"
            ]
          },
          "metadata": {},
          "execution_count": 703
        }
      ],
      "source": [
        "df_strata[\"Strata_category\"] = np.ceil(df_strata[\"V5\"] / 1.5)\n",
        "df_strata.Strata_category.value_counts().sort_index()"
      ]
    },
    {
      "cell_type": "code",
      "execution_count": 704,
      "id": "8106d8de",
      "metadata": {
        "colab": {
          "base_uri": "https://localhost:8080/"
        },
        "id": "8106d8de",
        "outputId": "647846ae-6010-408c-8f64-5938ec95e73a"
      },
      "outputs": [
        {
          "output_type": "execute_result",
          "data": {
            "text/plain": [
              "7.0    671\n",
              "8.0    855\n",
              "Name: Strata_category, dtype: int64"
            ]
          },
          "metadata": {},
          "execution_count": 704
        }
      ],
      "source": [
        "df_strata[\"Strata_category\"].where(df_strata[\"Strata_category\"] > 0, 7.0, inplace=True)\n",
        "df_strata[\"Strata_category\"].where(df_strata[\"Strata_category\"] > 6, 8.0, inplace=True)\n",
        "df_strata.Strata_category.value_counts().sort_index()"
      ]
    },
    {
      "cell_type": "code",
      "execution_count": 705,
      "id": "de0334be",
      "metadata": {
        "colab": {
          "base_uri": "https://localhost:8080/",
          "height": 300
        },
        "id": "de0334be",
        "outputId": "3d21e86b-e091-4b35-fec7-11e131a7f90e"
      },
      "outputs": [
        {
          "output_type": "execute_result",
          "data": {
            "text/plain": [
              "      Time        V1        V2        V3        V4        V5        V6  \\\n",
              "460    339  0.503302  0.930065 -0.857525  2.042940 -1.505946 -1.000185   \n",
              "1242   406 -2.312227  1.951992 -1.609851  3.997906 -0.522188 -1.426545   \n",
              "1367   472 -3.043541 -3.157307  1.088463  2.288644  1.359805 -1.064823   \n",
              "357    263  1.143649  0.128210  0.407255  1.160950 -0.504532 -0.904843   \n",
              "767    575 -0.572263  0.731748  1.541254  0.150506  1.108974  0.372152   \n",
              "\n",
              "            V7        V8        V9  ...       V22       V23       V24  \\\n",
              "460  -1.991363  0.460577 -1.124101  ... -0.062191 -0.012187  0.479788   \n",
              "1242 -2.537387  1.391657 -2.770089  ... -0.035049 -0.465211  0.320198   \n",
              "1367  0.325574 -0.067794 -0.270953  ...  0.435477  1.375966 -0.293803   \n",
              "357   0.111993 -0.151667  0.180408  ... -0.221754 -0.049750  0.345483   \n",
              "767   1.084879 -0.146329 -0.274447  ... -0.107582 -0.418263 -0.731029   \n",
              "\n",
              "           V25       V26       V27       V28  Amount  Class  Strata_category  \n",
              "460   0.531947 -0.441323  0.460792  0.219985    2.00      0              7.0  \n",
              "1242  0.044519  0.177840  0.261145 -0.143276    0.00      1              7.0  \n",
              "1367  0.279798 -0.145362 -0.252773  0.035764  529.00      1              8.0  \n",
              "357   0.495658 -0.440443  0.008209  0.031689   49.99      0              7.0  \n",
              "767   0.877525 -0.364150 -0.177509 -0.256545   26.72      0              8.0  \n",
              "\n",
              "[5 rows x 32 columns]"
            ],
            "text/html": [
              "\n",
              "  <div id=\"df-1deed1d6-1c6e-4736-82ed-517d05eb1726\">\n",
              "    <div class=\"colab-df-container\">\n",
              "      <div>\n",
              "<style scoped>\n",
              "    .dataframe tbody tr th:only-of-type {\n",
              "        vertical-align: middle;\n",
              "    }\n",
              "\n",
              "    .dataframe tbody tr th {\n",
              "        vertical-align: top;\n",
              "    }\n",
              "\n",
              "    .dataframe thead th {\n",
              "        text-align: right;\n",
              "    }\n",
              "</style>\n",
              "<table border=\"1\" class=\"dataframe\">\n",
              "  <thead>\n",
              "    <tr style=\"text-align: right;\">\n",
              "      <th></th>\n",
              "      <th>Time</th>\n",
              "      <th>V1</th>\n",
              "      <th>V2</th>\n",
              "      <th>V3</th>\n",
              "      <th>V4</th>\n",
              "      <th>V5</th>\n",
              "      <th>V6</th>\n",
              "      <th>V7</th>\n",
              "      <th>V8</th>\n",
              "      <th>V9</th>\n",
              "      <th>...</th>\n",
              "      <th>V22</th>\n",
              "      <th>V23</th>\n",
              "      <th>V24</th>\n",
              "      <th>V25</th>\n",
              "      <th>V26</th>\n",
              "      <th>V27</th>\n",
              "      <th>V28</th>\n",
              "      <th>Amount</th>\n",
              "      <th>Class</th>\n",
              "      <th>Strata_category</th>\n",
              "    </tr>\n",
              "  </thead>\n",
              "  <tbody>\n",
              "    <tr>\n",
              "      <th>460</th>\n",
              "      <td>339</td>\n",
              "      <td>0.503302</td>\n",
              "      <td>0.930065</td>\n",
              "      <td>-0.857525</td>\n",
              "      <td>2.042940</td>\n",
              "      <td>-1.505946</td>\n",
              "      <td>-1.000185</td>\n",
              "      <td>-1.991363</td>\n",
              "      <td>0.460577</td>\n",
              "      <td>-1.124101</td>\n",
              "      <td>...</td>\n",
              "      <td>-0.062191</td>\n",
              "      <td>-0.012187</td>\n",
              "      <td>0.479788</td>\n",
              "      <td>0.531947</td>\n",
              "      <td>-0.441323</td>\n",
              "      <td>0.460792</td>\n",
              "      <td>0.219985</td>\n",
              "      <td>2.00</td>\n",
              "      <td>0</td>\n",
              "      <td>7.0</td>\n",
              "    </tr>\n",
              "    <tr>\n",
              "      <th>1242</th>\n",
              "      <td>406</td>\n",
              "      <td>-2.312227</td>\n",
              "      <td>1.951992</td>\n",
              "      <td>-1.609851</td>\n",
              "      <td>3.997906</td>\n",
              "      <td>-0.522188</td>\n",
              "      <td>-1.426545</td>\n",
              "      <td>-2.537387</td>\n",
              "      <td>1.391657</td>\n",
              "      <td>-2.770089</td>\n",
              "      <td>...</td>\n",
              "      <td>-0.035049</td>\n",
              "      <td>-0.465211</td>\n",
              "      <td>0.320198</td>\n",
              "      <td>0.044519</td>\n",
              "      <td>0.177840</td>\n",
              "      <td>0.261145</td>\n",
              "      <td>-0.143276</td>\n",
              "      <td>0.00</td>\n",
              "      <td>1</td>\n",
              "      <td>7.0</td>\n",
              "    </tr>\n",
              "    <tr>\n",
              "      <th>1367</th>\n",
              "      <td>472</td>\n",
              "      <td>-3.043541</td>\n",
              "      <td>-3.157307</td>\n",
              "      <td>1.088463</td>\n",
              "      <td>2.288644</td>\n",
              "      <td>1.359805</td>\n",
              "      <td>-1.064823</td>\n",
              "      <td>0.325574</td>\n",
              "      <td>-0.067794</td>\n",
              "      <td>-0.270953</td>\n",
              "      <td>...</td>\n",
              "      <td>0.435477</td>\n",
              "      <td>1.375966</td>\n",
              "      <td>-0.293803</td>\n",
              "      <td>0.279798</td>\n",
              "      <td>-0.145362</td>\n",
              "      <td>-0.252773</td>\n",
              "      <td>0.035764</td>\n",
              "      <td>529.00</td>\n",
              "      <td>1</td>\n",
              "      <td>8.0</td>\n",
              "    </tr>\n",
              "    <tr>\n",
              "      <th>357</th>\n",
              "      <td>263</td>\n",
              "      <td>1.143649</td>\n",
              "      <td>0.128210</td>\n",
              "      <td>0.407255</td>\n",
              "      <td>1.160950</td>\n",
              "      <td>-0.504532</td>\n",
              "      <td>-0.904843</td>\n",
              "      <td>0.111993</td>\n",
              "      <td>-0.151667</td>\n",
              "      <td>0.180408</td>\n",
              "      <td>...</td>\n",
              "      <td>-0.221754</td>\n",
              "      <td>-0.049750</td>\n",
              "      <td>0.345483</td>\n",
              "      <td>0.495658</td>\n",
              "      <td>-0.440443</td>\n",
              "      <td>0.008209</td>\n",
              "      <td>0.031689</td>\n",
              "      <td>49.99</td>\n",
              "      <td>0</td>\n",
              "      <td>7.0</td>\n",
              "    </tr>\n",
              "    <tr>\n",
              "      <th>767</th>\n",
              "      <td>575</td>\n",
              "      <td>-0.572263</td>\n",
              "      <td>0.731748</td>\n",
              "      <td>1.541254</td>\n",
              "      <td>0.150506</td>\n",
              "      <td>1.108974</td>\n",
              "      <td>0.372152</td>\n",
              "      <td>1.084879</td>\n",
              "      <td>-0.146329</td>\n",
              "      <td>-0.274447</td>\n",
              "      <td>...</td>\n",
              "      <td>-0.107582</td>\n",
              "      <td>-0.418263</td>\n",
              "      <td>-0.731029</td>\n",
              "      <td>0.877525</td>\n",
              "      <td>-0.364150</td>\n",
              "      <td>-0.177509</td>\n",
              "      <td>-0.256545</td>\n",
              "      <td>26.72</td>\n",
              "      <td>0</td>\n",
              "      <td>8.0</td>\n",
              "    </tr>\n",
              "  </tbody>\n",
              "</table>\n",
              "<p>5 rows × 32 columns</p>\n",
              "</div>\n",
              "      <button class=\"colab-df-convert\" onclick=\"convertToInteractive('df-1deed1d6-1c6e-4736-82ed-517d05eb1726')\"\n",
              "              title=\"Convert this dataframe to an interactive table.\"\n",
              "              style=\"display:none;\">\n",
              "        \n",
              "  <svg xmlns=\"http://www.w3.org/2000/svg\" height=\"24px\"viewBox=\"0 0 24 24\"\n",
              "       width=\"24px\">\n",
              "    <path d=\"M0 0h24v24H0V0z\" fill=\"none\"/>\n",
              "    <path d=\"M18.56 5.44l.94 2.06.94-2.06 2.06-.94-2.06-.94-.94-2.06-.94 2.06-2.06.94zm-11 1L8.5 8.5l.94-2.06 2.06-.94-2.06-.94L8.5 2.5l-.94 2.06-2.06.94zm10 10l.94 2.06.94-2.06 2.06-.94-2.06-.94-.94-2.06-.94 2.06-2.06.94z\"/><path d=\"M17.41 7.96l-1.37-1.37c-.4-.4-.92-.59-1.43-.59-.52 0-1.04.2-1.43.59L10.3 9.45l-7.72 7.72c-.78.78-.78 2.05 0 2.83L4 21.41c.39.39.9.59 1.41.59.51 0 1.02-.2 1.41-.59l7.78-7.78 2.81-2.81c.8-.78.8-2.07 0-2.86zM5.41 20L4 18.59l7.72-7.72 1.47 1.35L5.41 20z\"/>\n",
              "  </svg>\n",
              "      </button>\n",
              "      \n",
              "  <style>\n",
              "    .colab-df-container {\n",
              "      display:flex;\n",
              "      flex-wrap:wrap;\n",
              "      gap: 12px;\n",
              "    }\n",
              "\n",
              "    .colab-df-convert {\n",
              "      background-color: #E8F0FE;\n",
              "      border: none;\n",
              "      border-radius: 50%;\n",
              "      cursor: pointer;\n",
              "      display: none;\n",
              "      fill: #1967D2;\n",
              "      height: 32px;\n",
              "      padding: 0 0 0 0;\n",
              "      width: 32px;\n",
              "    }\n",
              "\n",
              "    .colab-df-convert:hover {\n",
              "      background-color: #E2EBFA;\n",
              "      box-shadow: 0px 1px 2px rgba(60, 64, 67, 0.3), 0px 1px 3px 1px rgba(60, 64, 67, 0.15);\n",
              "      fill: #174EA6;\n",
              "    }\n",
              "\n",
              "    [theme=dark] .colab-df-convert {\n",
              "      background-color: #3B4455;\n",
              "      fill: #D2E3FC;\n",
              "    }\n",
              "\n",
              "    [theme=dark] .colab-df-convert:hover {\n",
              "      background-color: #434B5C;\n",
              "      box-shadow: 0px 1px 3px 1px rgba(0, 0, 0, 0.15);\n",
              "      filter: drop-shadow(0px 1px 2px rgba(0, 0, 0, 0.3));\n",
              "      fill: #FFFFFF;\n",
              "    }\n",
              "  </style>\n",
              "\n",
              "      <script>\n",
              "        const buttonEl =\n",
              "          document.querySelector('#df-1deed1d6-1c6e-4736-82ed-517d05eb1726 button.colab-df-convert');\n",
              "        buttonEl.style.display =\n",
              "          google.colab.kernel.accessAllowed ? 'block' : 'none';\n",
              "\n",
              "        async function convertToInteractive(key) {\n",
              "          const element = document.querySelector('#df-1deed1d6-1c6e-4736-82ed-517d05eb1726');\n",
              "          const dataTable =\n",
              "            await google.colab.kernel.invokeFunction('convertToInteractive',\n",
              "                                                     [key], {});\n",
              "          if (!dataTable) return;\n",
              "\n",
              "          const docLinkHtml = 'Like what you see? Visit the ' +\n",
              "            '<a target=\"_blank\" href=https://colab.research.google.com/notebooks/data_table.ipynb>data table notebook</a>'\n",
              "            + ' to learn more about interactive tables.';\n",
              "          element.innerHTML = '';\n",
              "          dataTable['output_type'] = 'display_data';\n",
              "          await google.colab.output.renderOutput(dataTable, element);\n",
              "          const docLink = document.createElement('div');\n",
              "          docLink.innerHTML = docLinkHtml;\n",
              "          element.appendChild(docLink);\n",
              "        }\n",
              "      </script>\n",
              "    </div>\n",
              "  </div>\n",
              "  "
            ]
          },
          "metadata": {},
          "execution_count": 705
        }
      ],
      "source": [
        "from sklearn.model_selection import StratifiedShuffleSplit\n",
        "\n",
        "split = StratifiedShuffleSplit(n_splits=1, test_size=0.2)\n",
        "for train_index, test_index in split.split( df_strata, df_strata[\"Strata_category\"]):\n",
        "    df_stratified_sample = df_strata.loc[test_index]\n",
        "df_stratified_sample.head()"
      ]
    },
    {
      "cell_type": "code",
      "execution_count": 706,
      "id": "6325bfc8",
      "metadata": {
        "colab": {
          "base_uri": "https://localhost:8080/"
        },
        "id": "6325bfc8",
        "outputId": "9c683264-03a7-4692-d9bc-3f39729c1e70"
      },
      "outputs": [
        {
          "output_type": "execute_result",
          "data": {
            "text/plain": [
              "1    163\n",
              "0    143\n",
              "Name: Class, dtype: int64"
            ]
          },
          "metadata": {},
          "execution_count": 706
        }
      ],
      "source": [
        "df_stratified_sample[\"Class\"].value_counts()"
      ]
    },
    {
      "cell_type": "code",
      "execution_count": 707,
      "id": "721ccd2f",
      "metadata": {
        "id": "721ccd2f"
      },
      "outputs": [],
      "source": [
        "X = df_stratified_sample.iloc[:, :-1]\n",
        "Y = df_stratified_sample.iloc[:, -1]"
      ]
    },
    {
      "cell_type": "code",
      "execution_count": 708,
      "id": "f7781230",
      "metadata": {
        "id": "f7781230"
      },
      "outputs": [],
      "source": [
        "from sklearn.model_selection import train_test_split\n",
        "x_train_orig, x_test_orig, y_train, y_test = train_test_split(X, Y, test_size=0.3, random_state=40)"
      ]
    },
    {
      "cell_type": "code",
      "execution_count": 709,
      "id": "5931750a",
      "metadata": {
        "id": "5931750a"
      },
      "outputs": [],
      "source": [
        "from sklearn.preprocessing import StandardScaler\n",
        "sc = StandardScaler()\n",
        "x_train = sc.fit_transform(x_train_orig)\n",
        "x_test = sc.fit_transform(x_test_orig)"
      ]
    },
    {
      "cell_type": "markdown",
      "id": "90b387b0",
      "metadata": {
        "id": "90b387b0"
      },
      "source": [
        "### KNN model"
      ]
    },
    {
      "cell_type": "code",
      "execution_count": 710,
      "id": "ca858029",
      "metadata": {
        "colab": {
          "base_uri": "https://localhost:8080/"
        },
        "id": "ca858029",
        "outputId": "de12cf03-df04-43b2-a6b0-f59f8a423640"
      },
      "outputs": [
        {
          "output_type": "execute_result",
          "data": {
            "text/plain": [
              "19.595917942265423"
            ]
          },
          "metadata": {},
          "execution_count": 710
        }
      ],
      "source": [
        "math.pow(384,0.5)"
      ]
    },
    {
      "cell_type": "code",
      "execution_count": 711,
      "id": "68d2d48c",
      "metadata": {
        "colab": {
          "base_uri": "https://localhost:8080/"
        },
        "id": "68d2d48c",
        "outputId": "e4a20c55-c6ad-4fe8-deb8-e8fa479f224e"
      },
      "outputs": [
        {
          "output_type": "stream",
          "name": "stdout",
          "text": [
            "Accuracy for our testing dataset with tuning is : 85.87%\n"
          ]
        }
      ],
      "source": [
        "from sklearn.neighbors import KNeighborsClassifier\n",
        "knn = KNeighborsClassifier(n_neighbors=19)\n",
        "knn.fit(x_train, y_train)\n",
        "pred=knn.predict(x_test) \n",
        "test_accuracy=accuracy_score(y_test,pred)*100\n",
        "s2.append(test_accuracy)\n",
        "print(\"Accuracy for our testing dataset with tuning is : {:.2f}%\".format(test_accuracy))"
      ]
    },
    {
      "cell_type": "code",
      "execution_count": 712,
      "id": "d1c60049",
      "metadata": {
        "colab": {
          "base_uri": "https://localhost:8080/"
        },
        "id": "d1c60049",
        "outputId": "b8fc2e47-8d70-4afc-d7df-a63f4585d40d"
      },
      "outputs": [
        {
          "output_type": "stream",
          "name": "stdout",
          "text": [
            "              precision    recall  f1-score   support\n",
            "\n",
            "         7.0       0.84      0.86      0.85        42\n",
            "         8.0       0.88      0.86      0.87        50\n",
            "\n",
            "    accuracy                           0.86        92\n",
            "   macro avg       0.86      0.86      0.86        92\n",
            "weighted avg       0.86      0.86      0.86        92\n",
            "\n"
          ]
        }
      ],
      "source": [
        "print(classification_report(y_test, pred))"
      ]
    },
    {
      "cell_type": "markdown",
      "id": "540d569c",
      "metadata": {
        "id": "540d569c"
      },
      "source": [
        "### Naive Bayes"
      ]
    },
    {
      "cell_type": "code",
      "execution_count": 713,
      "id": "7b6c1907",
      "metadata": {
        "colab": {
          "base_uri": "https://localhost:8080/"
        },
        "id": "7b6c1907",
        "outputId": "fa0929af-40bc-49bc-9ff5-62af57a3deb7"
      },
      "outputs": [
        {
          "output_type": "execute_result",
          "data": {
            "text/plain": [
              "GaussianNB()"
            ]
          },
          "metadata": {},
          "execution_count": 713
        }
      ],
      "source": [
        "from sklearn.naive_bayes import GaussianNB\n",
        "\n",
        "nb_classifier = GaussianNB()\n",
        "nb_classifier.fit(x_train, y_train)"
      ]
    },
    {
      "cell_type": "code",
      "execution_count": 714,
      "id": "0ad559a8",
      "metadata": {
        "id": "0ad559a8"
      },
      "outputs": [],
      "source": [
        "pred = nb_classifier.predict(x_test)"
      ]
    },
    {
      "cell_type": "code",
      "execution_count": 715,
      "id": "79099928",
      "metadata": {
        "colab": {
          "base_uri": "https://localhost:8080/"
        },
        "id": "79099928",
        "outputId": "ba76be86-8a5f-411e-bbdd-cfd01091f69c"
      },
      "outputs": [
        {
          "output_type": "stream",
          "name": "stdout",
          "text": [
            "[[30 12]\n",
            " [12 38]]\n"
          ]
        }
      ],
      "source": [
        "print(confusion_matrix(y_test, pred))"
      ]
    },
    {
      "cell_type": "code",
      "execution_count": 716,
      "id": "350ada75",
      "metadata": {
        "colab": {
          "base_uri": "https://localhost:8080/"
        },
        "id": "350ada75",
        "outputId": "05c57549-45c0-4b1a-e011-f30a90a757f9"
      },
      "outputs": [
        {
          "output_type": "stream",
          "name": "stdout",
          "text": [
            "              precision    recall  f1-score   support\n",
            "\n",
            "         7.0       0.71      0.71      0.71        42\n",
            "         8.0       0.76      0.76      0.76        50\n",
            "\n",
            "    accuracy                           0.74        92\n",
            "   macro avg       0.74      0.74      0.74        92\n",
            "weighted avg       0.74      0.74      0.74        92\n",
            "\n"
          ]
        }
      ],
      "source": [
        "print(classification_report(y_test, pred))"
      ]
    },
    {
      "cell_type": "code",
      "execution_count": 717,
      "id": "fae01811",
      "metadata": {
        "id": "fae01811"
      },
      "outputs": [],
      "source": [
        "pred_train = nb_classifier.predict(x_train)"
      ]
    },
    {
      "cell_type": "code",
      "source": [
        "test_accuracy=accuracy_score(y_test,pred)*100\n",
        "s2.append(test_accuracy)"
      ],
      "metadata": {
        "id": "7vyXSDj5InCQ"
      },
      "id": "7vyXSDj5InCQ",
      "execution_count": 718,
      "outputs": []
    },
    {
      "cell_type": "code",
      "execution_count": 719,
      "id": "c3908025",
      "metadata": {
        "colab": {
          "base_uri": "https://localhost:8080/"
        },
        "id": "c3908025",
        "outputId": "7623b47e-7ded-4947-8ec2-e1d04b255f5d"
      },
      "outputs": [
        {
          "output_type": "stream",
          "name": "stdout",
          "text": [
            "Accuracy score on testing data: 0.7391304347826086\n",
            "Accuracy score on training data: 0.8738317757009346\n"
          ]
        }
      ],
      "source": [
        "print(f\"Accuracy score on testing data: {accuracy_score(y_test, pred)}\")\n",
        "print(f\"Accuracy score on training data: {accuracy_score(y_train, pred_train)}\")"
      ]
    },
    {
      "cell_type": "markdown",
      "id": "1de8ac7b",
      "metadata": {
        "id": "1de8ac7b"
      },
      "source": [
        "### Logistic Regression"
      ]
    },
    {
      "cell_type": "code",
      "execution_count": 720,
      "id": "ef0be3b0",
      "metadata": {
        "colab": {
          "base_uri": "https://localhost:8080/"
        },
        "id": "ef0be3b0",
        "outputId": "5417b87f-0ccc-45d5-ebfa-f0b4fe6cd1b7"
      },
      "outputs": [
        {
          "output_type": "execute_result",
          "data": {
            "text/plain": [
              "LogisticRegression()"
            ]
          },
          "metadata": {},
          "execution_count": 720
        }
      ],
      "source": [
        "from sklearn.linear_model import LogisticRegression\n",
        "\n",
        "log_reg = LogisticRegression()\n",
        "log_reg.fit(x_train, y_train)"
      ]
    },
    {
      "cell_type": "code",
      "execution_count": 721,
      "id": "8fdf37e8",
      "metadata": {
        "id": "8fdf37e8"
      },
      "outputs": [],
      "source": [
        "pred = log_reg.predict(x_test)"
      ]
    },
    {
      "cell_type": "code",
      "execution_count": 722,
      "id": "a3b5725b",
      "metadata": {
        "colab": {
          "base_uri": "https://localhost:8080/"
        },
        "id": "a3b5725b",
        "outputId": "eaf9b432-d4ee-4ead-c54b-6511a4b57b19"
      },
      "outputs": [
        {
          "output_type": "stream",
          "name": "stdout",
          "text": [
            "[[35  7]\n",
            " [ 2 48]]\n"
          ]
        }
      ],
      "source": [
        "print(confusion_matrix(y_test, pred))"
      ]
    },
    {
      "cell_type": "code",
      "execution_count": 723,
      "id": "ec664058",
      "metadata": {
        "colab": {
          "base_uri": "https://localhost:8080/"
        },
        "id": "ec664058",
        "outputId": "b8966139-f588-429c-f6f1-25d8d4bc20e3"
      },
      "outputs": [
        {
          "output_type": "stream",
          "name": "stdout",
          "text": [
            "              precision    recall  f1-score   support\n",
            "\n",
            "         7.0       0.95      0.83      0.89        42\n",
            "         8.0       0.87      0.96      0.91        50\n",
            "\n",
            "    accuracy                           0.90        92\n",
            "   macro avg       0.91      0.90      0.90        92\n",
            "weighted avg       0.91      0.90      0.90        92\n",
            "\n"
          ]
        }
      ],
      "source": [
        "print(classification_report(y_test, pred))"
      ]
    },
    {
      "cell_type": "code",
      "execution_count": 724,
      "id": "807fe009",
      "metadata": {
        "id": "807fe009"
      },
      "outputs": [],
      "source": [
        "pred_train = log_reg.predict(x_train)"
      ]
    },
    {
      "cell_type": "code",
      "source": [
        "test_accuracy=accuracy_score(y_test,pred)*100\n",
        "s2.append(test_accuracy)"
      ],
      "metadata": {
        "id": "rZ9_TlVZIpYD"
      },
      "id": "rZ9_TlVZIpYD",
      "execution_count": 725,
      "outputs": []
    },
    {
      "cell_type": "code",
      "execution_count": 726,
      "id": "7360c67a",
      "metadata": {
        "colab": {
          "base_uri": "https://localhost:8080/"
        },
        "id": "7360c67a",
        "outputId": "075e9228-b663-49eb-d5af-9400269f1bf4"
      },
      "outputs": [
        {
          "output_type": "stream",
          "name": "stdout",
          "text": [
            "Accuracy score on testing data: 0.9021739130434783\n",
            "Accuracy score on training data: 0.9906542056074766\n"
          ]
        }
      ],
      "source": [
        "print(f\"Accuracy score on testing data: {accuracy_score(y_test, pred)}\")\n",
        "print(f\"Accuracy score on training data: {accuracy_score(y_train, pred_train)}\")"
      ]
    },
    {
      "cell_type": "markdown",
      "metadata": {
        "id": "wfpSjaHBYJ5D"
      },
      "source": [
        "### Random Forest"
      ],
      "id": "wfpSjaHBYJ5D"
    },
    {
      "cell_type": "code",
      "execution_count": 727,
      "metadata": {
        "id": "c8o2sR-wYJ5E"
      },
      "outputs": [],
      "source": [
        "from sklearn.ensemble import RandomForestClassifier\n",
        "cf = RandomForestClassifier(n_estimators = 100, random_state = 42)\n",
        "cf.fit(x_train, y_train);"
      ],
      "id": "c8o2sR-wYJ5E"
    },
    {
      "cell_type": "code",
      "execution_count": 728,
      "metadata": {
        "id": "tjIglI4UYJ5J"
      },
      "outputs": [],
      "source": [
        "pred = cf.predict(x_test)"
      ],
      "id": "tjIglI4UYJ5J"
    },
    {
      "cell_type": "code",
      "execution_count": 729,
      "metadata": {
        "colab": {
          "base_uri": "https://localhost:8080/"
        },
        "outputId": "d9419cdc-85d5-4b3b-8320-c7d895b32cab",
        "id": "uH1i37d9YJ5J"
      },
      "outputs": [
        {
          "output_type": "stream",
          "name": "stdout",
          "text": [
            "[[42  0]\n",
            " [ 1 49]]\n"
          ]
        }
      ],
      "source": [
        "print(confusion_matrix(y_test, pred))"
      ],
      "id": "uH1i37d9YJ5J"
    },
    {
      "cell_type": "code",
      "execution_count": 730,
      "metadata": {
        "colab": {
          "base_uri": "https://localhost:8080/"
        },
        "outputId": "4320a255-f336-4189-9ca8-aabceb947ca9",
        "id": "sArXheOcYJ5J"
      },
      "outputs": [
        {
          "output_type": "stream",
          "name": "stdout",
          "text": [
            "              precision    recall  f1-score   support\n",
            "\n",
            "         7.0       0.98      1.00      0.99        42\n",
            "         8.0       1.00      0.98      0.99        50\n",
            "\n",
            "    accuracy                           0.99        92\n",
            "   macro avg       0.99      0.99      0.99        92\n",
            "weighted avg       0.99      0.99      0.99        92\n",
            "\n"
          ]
        }
      ],
      "source": [
        "print(classification_report(y_test, pred))"
      ],
      "id": "sArXheOcYJ5J"
    },
    {
      "cell_type": "code",
      "execution_count": 731,
      "metadata": {
        "id": "1p9lsN-hYJ5J"
      },
      "outputs": [],
      "source": [
        "pred_train = cf.predict(x_train)"
      ],
      "id": "1p9lsN-hYJ5J"
    },
    {
      "cell_type": "code",
      "source": [
        "test_accuracy = accuracy_score(y_test, pred)*100\n",
        "s2.append(test_accuracy)"
      ],
      "metadata": {
        "id": "d1gPA6v6YJ5J"
      },
      "execution_count": 732,
      "outputs": [],
      "id": "d1gPA6v6YJ5J"
    },
    {
      "cell_type": "code",
      "execution_count": 733,
      "metadata": {
        "colab": {
          "base_uri": "https://localhost:8080/"
        },
        "outputId": "4702797a-1382-436b-a4e1-e37923279bc5",
        "id": "Ha8atXThYJ5J"
      },
      "outputs": [
        {
          "output_type": "stream",
          "name": "stdout",
          "text": [
            "Accuracy score on testing data: 0.9891304347826086\n",
            "Accuracy score on training data: 1.0\n"
          ]
        }
      ],
      "source": [
        "print(f\"Accuracy score on testing data: {accuracy_score(y_test, pred)}\")\n",
        "print(f\"Accuracy score on training data: {accuracy_score(y_train, pred_train)}\")"
      ],
      "id": "Ha8atXThYJ5J"
    },
    {
      "cell_type": "markdown",
      "id": "ee1111a3",
      "metadata": {
        "id": "ee1111a3"
      },
      "source": [
        "### CNN"
      ]
    },
    {
      "cell_type": "code",
      "execution_count": 734,
      "id": "d37d6ba6",
      "metadata": {
        "id": "d37d6ba6"
      },
      "outputs": [],
      "source": [
        "from keras.models import Sequential\n",
        "from keras.layers import Dense, Dropout"
      ]
    },
    {
      "cell_type": "code",
      "execution_count": 735,
      "id": "e62e4544",
      "metadata": {
        "id": "e62e4544"
      },
      "outputs": [],
      "source": [
        "def trainModel(model, epochs, optimizer):\n",
        "  batchsize = 25\n",
        "  model.compile(optimizer=optimizer, loss='sparse_categorical_crossentropy', metrics='accuracy')\n",
        "  return model.fit(x_train, y_train,validation_data=(x_test,y_test), epochs=epochs, batch_size=batchsize)"
      ]
    },
    {
      "cell_type": "code",
      "execution_count": 736,
      "id": "7c424f18",
      "metadata": {
        "id": "7c424f18"
      },
      "outputs": [],
      "source": [
        "def validate(history):\n",
        "  print(\"Validation Accuracy\",max(history.history[\"val_accuracy\"]))\n",
        "  pd.DataFrame(history.history).plot(figsize=(12,6))\n",
        "  plt.show()"
      ]
    },
    {
      "cell_type": "code",
      "execution_count": 737,
      "id": "5ddb9ec5",
      "metadata": {
        "colab": {
          "base_uri": "https://localhost:8080/"
        },
        "id": "5ddb9ec5",
        "outputId": "ac5c9315-f838-465d-f9b1-a8797da67433"
      },
      "outputs": [
        {
          "output_type": "stream",
          "name": "stdout",
          "text": [
            "Model: \"sequential_24\"\n",
            "_________________________________________________________________\n",
            " Layer (type)                Output Shape              Param #   \n",
            "=================================================================\n",
            " dense_120 (Dense)           (None, 512)               16384     \n",
            "                                                                 \n",
            " dropout_96 (Dropout)        (None, 512)               0         \n",
            "                                                                 \n",
            " dense_121 (Dense)           (None, 256)               131328    \n",
            "                                                                 \n",
            " dropout_97 (Dropout)        (None, 256)               0         \n",
            "                                                                 \n",
            " dense_122 (Dense)           (None, 128)               32896     \n",
            "                                                                 \n",
            " dropout_98 (Dropout)        (None, 128)               0         \n",
            "                                                                 \n",
            " dense_123 (Dense)           (None, 64)                8256      \n",
            "                                                                 \n",
            " dropout_99 (Dropout)        (None, 64)                0         \n",
            "                                                                 \n",
            " dense_124 (Dense)           (None, 10)                650       \n",
            "                                                                 \n",
            "=================================================================\n",
            "Total params: 189,514\n",
            "Trainable params: 189,514\n",
            "Non-trainable params: 0\n",
            "_________________________________________________________________\n",
            "None\n",
            "Epoch 1/32\n",
            "9/9 [==============================] - 1s 38ms/step - loss: 1.5171 - accuracy: 0.6121 - val_loss: 0.6311 - val_accuracy: 0.8152\n",
            "Epoch 2/32\n",
            "9/9 [==============================] - 0s 13ms/step - loss: 0.4903 - accuracy: 0.8224 - val_loss: 0.3280 - val_accuracy: 0.8587\n",
            "Epoch 3/32\n",
            "9/9 [==============================] - 0s 12ms/step - loss: 0.2670 - accuracy: 0.8645 - val_loss: 0.3549 - val_accuracy: 0.8913\n",
            "Epoch 4/32\n",
            "9/9 [==============================] - 0s 10ms/step - loss: 0.1990 - accuracy: 0.9206 - val_loss: 0.4054 - val_accuracy: 0.9130\n",
            "Epoch 5/32\n",
            "9/9 [==============================] - 0s 14ms/step - loss: 0.0625 - accuracy: 0.9766 - val_loss: 0.5772 - val_accuracy: 0.9022\n",
            "Epoch 6/32\n",
            "9/9 [==============================] - 0s 11ms/step - loss: 0.0408 - accuracy: 0.9953 - val_loss: 0.7044 - val_accuracy: 0.9022\n",
            "Epoch 7/32\n",
            "9/9 [==============================] - 0s 12ms/step - loss: 0.0280 - accuracy: 0.9907 - val_loss: 0.7825 - val_accuracy: 0.9130\n",
            "Epoch 8/32\n",
            "9/9 [==============================] - 0s 13ms/step - loss: 0.0310 - accuracy: 0.9907 - val_loss: 0.7228 - val_accuracy: 0.9130\n",
            "Epoch 9/32\n",
            "9/9 [==============================] - 0s 12ms/step - loss: 0.0211 - accuracy: 0.9907 - val_loss: 0.8209 - val_accuracy: 0.9130\n",
            "Epoch 10/32\n",
            "9/9 [==============================] - 0s 11ms/step - loss: 0.0071 - accuracy: 1.0000 - val_loss: 0.8706 - val_accuracy: 0.9022\n",
            "Epoch 11/32\n",
            "9/9 [==============================] - 0s 14ms/step - loss: 0.0095 - accuracy: 0.9953 - val_loss: 0.8260 - val_accuracy: 0.9130\n",
            "Epoch 12/32\n",
            "9/9 [==============================] - 0s 11ms/step - loss: 0.0060 - accuracy: 1.0000 - val_loss: 0.8535 - val_accuracy: 0.9130\n",
            "Epoch 13/32\n",
            "9/9 [==============================] - 0s 11ms/step - loss: 0.0052 - accuracy: 1.0000 - val_loss: 0.9635 - val_accuracy: 0.9022\n",
            "Epoch 14/32\n",
            "9/9 [==============================] - 0s 17ms/step - loss: 0.0074 - accuracy: 1.0000 - val_loss: 0.9790 - val_accuracy: 0.9022\n",
            "Epoch 15/32\n",
            "9/9 [==============================] - 0s 19ms/step - loss: 0.0032 - accuracy: 1.0000 - val_loss: 0.9743 - val_accuracy: 0.9022\n",
            "Epoch 16/32\n",
            "9/9 [==============================] - 0s 19ms/step - loss: 0.0030 - accuracy: 1.0000 - val_loss: 1.0808 - val_accuracy: 0.8913\n",
            "Epoch 17/32\n",
            "9/9 [==============================] - 0s 18ms/step - loss: 0.0016 - accuracy: 1.0000 - val_loss: 1.1462 - val_accuracy: 0.8913\n",
            "Epoch 18/32\n",
            "9/9 [==============================] - 0s 18ms/step - loss: 0.0028 - accuracy: 1.0000 - val_loss: 1.1404 - val_accuracy: 0.8913\n",
            "Epoch 19/32\n",
            "9/9 [==============================] - 0s 17ms/step - loss: 0.0085 - accuracy: 0.9953 - val_loss: 1.1835 - val_accuracy: 0.9022\n",
            "Epoch 20/32\n",
            "9/9 [==============================] - 0s 17ms/step - loss: 0.0035 - accuracy: 1.0000 - val_loss: 1.1157 - val_accuracy: 0.9130\n",
            "Epoch 21/32\n",
            "9/9 [==============================] - 0s 17ms/step - loss: 0.0082 - accuracy: 0.9953 - val_loss: 1.0581 - val_accuracy: 0.9130\n",
            "Epoch 22/32\n",
            "9/9 [==============================] - 0s 19ms/step - loss: 0.0043 - accuracy: 1.0000 - val_loss: 1.1478 - val_accuracy: 0.8913\n",
            "Epoch 23/32\n",
            "9/9 [==============================] - 0s 18ms/step - loss: 7.7322e-04 - accuracy: 1.0000 - val_loss: 1.2529 - val_accuracy: 0.8913\n",
            "Epoch 24/32\n",
            "9/9 [==============================] - 0s 16ms/step - loss: 0.0060 - accuracy: 0.9953 - val_loss: 0.9777 - val_accuracy: 0.8913\n",
            "Epoch 25/32\n",
            "9/9 [==============================] - 0s 17ms/step - loss: 0.0206 - accuracy: 0.9907 - val_loss: 1.3833 - val_accuracy: 0.8804\n",
            "Epoch 26/32\n",
            "9/9 [==============================] - 0s 18ms/step - loss: 0.0197 - accuracy: 0.9907 - val_loss: 1.1201 - val_accuracy: 0.8913\n",
            "Epoch 27/32\n",
            "9/9 [==============================] - 0s 16ms/step - loss: 0.0014 - accuracy: 1.0000 - val_loss: 0.7181 - val_accuracy: 0.9348\n",
            "Epoch 28/32\n",
            "9/9 [==============================] - 0s 17ms/step - loss: 0.0163 - accuracy: 0.9907 - val_loss: 1.1259 - val_accuracy: 0.8913\n",
            "Epoch 29/32\n",
            "9/9 [==============================] - 0s 18ms/step - loss: 0.0091 - accuracy: 0.9953 - val_loss: 1.1400 - val_accuracy: 0.8913\n",
            "Epoch 30/32\n",
            "9/9 [==============================] - 0s 18ms/step - loss: 0.0216 - accuracy: 0.9953 - val_loss: 0.7079 - val_accuracy: 0.9130\n",
            "Epoch 31/32\n",
            "9/9 [==============================] - 0s 17ms/step - loss: 0.0256 - accuracy: 0.9860 - val_loss: 0.8874 - val_accuracy: 0.9022\n",
            "Epoch 32/32\n",
            "9/9 [==============================] - 0s 15ms/step - loss: 0.0064 - accuracy: 0.9953 - val_loss: 1.1594 - val_accuracy: 0.8913\n"
          ]
        }
      ],
      "source": [
        "model=Sequential([\n",
        "    Dense(512,activation='relu',input_shape=(x_train.shape[1],)),\n",
        "    Dropout(0.2),\n",
        "    Dense(256,activation='relu'),\n",
        "    Dropout(0.2),\n",
        "    Dense(128,activation='relu'),\n",
        "    Dropout(0.2),\n",
        "    Dense(64,activation='relu'),\n",
        "    Dropout(0.2),\n",
        "    Dense(10,activation='softmax'),\n",
        "])\n",
        "print(model.summary())\n",
        "model_history = trainModel(model=model,epochs=32,optimizer='adam')"
      ]
    },
    {
      "cell_type": "code",
      "execution_count": 738,
      "id": "0398ca6e",
      "metadata": {
        "colab": {
          "base_uri": "https://localhost:8080/"
        },
        "id": "0398ca6e",
        "outputId": "e37a03d0-4891-4daa-d72c-197053f111b1"
      },
      "outputs": [
        {
          "output_type": "stream",
          "name": "stdout",
          "text": [
            "1/1 [==============================] - 0s 28ms/step - loss: 1.1594 - accuracy: 0.8913\n",
            "Test Loss is :  1.159389853477478\n",
            "Test Accuracy is :  0.8913043737411499\n"
          ]
        }
      ],
      "source": [
        "test_loss,test_accuracy = model.evaluate(x_test,y_test,batch_size=128)\n",
        "print(\"Test Loss is : \",test_loss)\n",
        "print(\"Test Accuracy is : \",test_accuracy)"
      ]
    },
    {
      "cell_type": "code",
      "source": [
        "test_accuracy=test_accuracy*100\n",
        "s2.append(test_accuracy)"
      ],
      "metadata": {
        "id": "vDaI4_uTIs6B"
      },
      "id": "vDaI4_uTIs6B",
      "execution_count": 739,
      "outputs": []
    },
    {
      "cell_type": "markdown",
      "id": "85a1d912",
      "metadata": {
        "id": "85a1d912"
      },
      "source": [
        "## Cluster Sampling (on the basis of Time)"
      ]
    },
    {
      "cell_type": "code",
      "execution_count": 740,
      "id": "6db966b9",
      "metadata": {
        "colab": {
          "base_uri": "https://localhost:8080/"
        },
        "id": "6db966b9",
        "outputId": "a17c5e8d-7e48-4a2e-9f50-fd112c7e0c64"
      },
      "outputs": [
        {
          "output_type": "execute_result",
          "data": {
            "text/plain": [
              "0      78\n",
              "1       2\n",
              "2       2\n",
              "4       1\n",
              "7       2\n",
              "       ..\n",
              "574    87\n",
              "575     1\n",
              "579     2\n",
              "580     1\n",
              "581     1\n",
              "Name: Time, Length: 415, dtype: int64"
            ]
          },
          "metadata": {},
          "execution_count": 740
        }
      ],
      "source": [
        "df_oversampled[\"Time\"].value_counts().sort_index()"
      ]
    },
    {
      "cell_type": "code",
      "source": [
        "df_cluster = df_oversampled.copy()"
      ],
      "metadata": {
        "id": "vwdshe6xW92M"
      },
      "id": "vwdshe6xW92M",
      "execution_count": 741,
      "outputs": []
    },
    {
      "cell_type": "code",
      "execution_count": 742,
      "id": "7cbfcd00",
      "metadata": {
        "id": "7cbfcd00"
      },
      "outputs": [],
      "source": [
        "df_cluster[\"Cluster_category\"] = df_cluster[\"Time\"]"
      ]
    },
    {
      "cell_type": "code",
      "execution_count": 743,
      "id": "0fbac76c",
      "metadata": {
        "colab": {
          "base_uri": "https://localhost:8080/"
        },
        "id": "0fbac76c",
        "outputId": "24531975-0904-4868-8583-8c7ef7b4aff5"
      },
      "outputs": [
        {
          "output_type": "execute_result",
          "data": {
            "text/plain": [
              "0    0\n",
              "1    0\n",
              "2    1\n",
              "3    1\n",
              "4    2\n",
              "Name: Cluster_category, dtype: int64"
            ]
          },
          "metadata": {},
          "execution_count": 743
        }
      ],
      "source": [
        "df_cluster[\"Cluster_category\"].head()"
      ]
    },
    {
      "cell_type": "code",
      "execution_count": 744,
      "id": "5d5cc2e6",
      "metadata": {
        "colab": {
          "base_uri": "https://localhost:8080/"
        },
        "id": "5d5cc2e6",
        "outputId": "292a8d6a-19ec-4bb8-f715-25e037adc091"
      },
      "outputs": [
        {
          "output_type": "execute_result",
          "data": {
            "text/plain": [
              "1    237\n",
              "2    290\n",
              "3    133\n",
              "4    117\n",
              "5    396\n",
              "6    353\n",
              "Name: Cluster_category, dtype: int64"
            ]
          },
          "metadata": {},
          "execution_count": 744
        }
      ],
      "source": [
        "df_cluster['Cluster_category'] = np.where((df_cluster['Cluster_category'] >= 0) & (df_cluster['Cluster_category'] <= 100), 1,  df_cluster[\"Cluster_category\"])\n",
        "df_cluster['Cluster_category'] = np.where((df_cluster['Cluster_category'] > 100) & (df_cluster['Cluster_category'] <= 200), 2, df_cluster[\"Cluster_category\"])\n",
        "df_cluster['Cluster_category'] = np.where((df_cluster['Cluster_category'] > 200) & (df_cluster['Cluster_category'] <= 300), 3, df_cluster[\"Cluster_category\"])\n",
        "df_cluster['Cluster_category'] = np.where((df_cluster['Cluster_category'] > 300) & (df_cluster['Cluster_category'] <= 400), 4, df_cluster[\"Cluster_category\"])\n",
        "df_cluster['Cluster_category'] = np.where((df_cluster['Cluster_category'] > 400) & (df_cluster['Cluster_category'] <= 500), 5, df_cluster[\"Cluster_category\"])\n",
        "df_cluster['Cluster_category'] = np.where((df_cluster['Cluster_category'] > 500) & (df_cluster['Cluster_category'] < 600), 6, df_cluster[\"Cluster_category\"])\n",
        "df_cluster.Cluster_category.value_counts().sort_index()"
      ]
    },
    {
      "cell_type": "code",
      "execution_count": 745,
      "id": "7eb2f554",
      "metadata": {
        "id": "7eb2f554"
      },
      "outputs": [],
      "source": [
        "clusters = np.random.choice(np.arange(0,5), size=3, replace=False)"
      ]
    },
    {
      "cell_type": "code",
      "execution_count": 746,
      "id": "63232752",
      "metadata": {
        "id": "63232752"
      },
      "outputs": [],
      "source": [
        "df_cluster_sample = df_cluster[df_cluster['Cluster_category'].isin(clusters)]"
      ]
    },
    {
      "cell_type": "code",
      "execution_count": 747,
      "id": "aeab6830",
      "metadata": {
        "colab": {
          "base_uri": "https://localhost:8080/"
        },
        "id": "aeab6830",
        "outputId": "88bbc5e5-9067-4605-8443-06316a88bad7"
      },
      "outputs": [
        {
          "output_type": "execute_result",
          "data": {
            "text/plain": [
              "1    237\n",
              "3    133\n",
              "Name: Cluster_category, dtype: int64"
            ]
          },
          "metadata": {},
          "execution_count": 747
        }
      ],
      "source": [
        "df_cluster_sample['Cluster_category'].value_counts()"
      ]
    },
    {
      "cell_type": "code",
      "execution_count": 748,
      "id": "904b9059",
      "metadata": {
        "colab": {
          "base_uri": "https://localhost:8080/"
        },
        "id": "904b9059",
        "outputId": "15a082ad-efe0-4886-9aa6-3f387268b6ea"
      },
      "outputs": [
        {
          "output_type": "execute_result",
          "data": {
            "text/plain": [
              "0    293\n",
              "1     77\n",
              "Name: Class, dtype: int64"
            ]
          },
          "metadata": {},
          "execution_count": 748
        }
      ],
      "source": [
        "df_cluster_sample[\"Class\"].value_counts()"
      ]
    },
    {
      "cell_type": "code",
      "execution_count": 749,
      "id": "b46b00fb",
      "metadata": {
        "id": "b46b00fb"
      },
      "outputs": [],
      "source": [
        "X = df_cluster_sample.iloc[:, :-2]\n",
        "Y = df_cluster_sample.iloc[:, -2]"
      ]
    },
    {
      "cell_type": "code",
      "execution_count": 750,
      "id": "4d331660",
      "metadata": {
        "id": "4d331660"
      },
      "outputs": [],
      "source": [
        "from sklearn.model_selection import train_test_split\n",
        "x_train_orig, x_test_orig, y_train, y_test = train_test_split(X, Y, test_size=0.3, random_state=40)"
      ]
    },
    {
      "cell_type": "code",
      "execution_count": 751,
      "id": "1da0013c",
      "metadata": {
        "id": "1da0013c"
      },
      "outputs": [],
      "source": [
        "from sklearn.preprocessing import StandardScaler\n",
        "sc = StandardScaler()\n",
        "x_train = sc.fit_transform(x_train_orig)\n",
        "x_test = sc.fit_transform(x_test_orig)"
      ]
    },
    {
      "cell_type": "markdown",
      "id": "b61f1c01",
      "metadata": {
        "id": "b61f1c01"
      },
      "source": [
        "### KNN model"
      ]
    },
    {
      "cell_type": "code",
      "execution_count": 752,
      "id": "b8407cc8",
      "metadata": {
        "colab": {
          "base_uri": "https://localhost:8080/"
        },
        "id": "b8407cc8",
        "outputId": "8f6b4882-7c33-4404-d4d4-d81565f44809"
      },
      "outputs": [
        {
          "output_type": "stream",
          "name": "stdout",
          "text": [
            "Accuracy for our testing dataset with tuning is : 94.59%\n"
          ]
        }
      ],
      "source": [
        "from sklearn.neighbors import KNeighborsClassifier\n",
        "knn = KNeighborsClassifier(n_neighbors=19)\n",
        "knn.fit(x_train, y_train)\n",
        "pred=knn.predict(x_test) \n",
        "test_accuracy=accuracy_score(y_test,pred)*100\n",
        "s3.append(test_accuracy)\n",
        "print(\"Accuracy for our testing dataset with tuning is : {:.2f}%\".format(test_accuracy))"
      ]
    },
    {
      "cell_type": "code",
      "execution_count": 753,
      "id": "ed0d10a3",
      "metadata": {
        "colab": {
          "base_uri": "https://localhost:8080/"
        },
        "id": "ed0d10a3",
        "outputId": "932955f9-f4b1-4e17-e70e-7e383b2bd7d2"
      },
      "outputs": [
        {
          "output_type": "stream",
          "name": "stdout",
          "text": [
            "              precision    recall  f1-score   support\n",
            "\n",
            "           0       1.00      0.93      0.96        88\n",
            "           1       0.79      1.00      0.88        23\n",
            "\n",
            "    accuracy                           0.95       111\n",
            "   macro avg       0.90      0.97      0.92       111\n",
            "weighted avg       0.96      0.95      0.95       111\n",
            "\n"
          ]
        }
      ],
      "source": [
        "print(classification_report(y_test, pred))"
      ]
    },
    {
      "cell_type": "markdown",
      "id": "7fe4ae25",
      "metadata": {
        "id": "7fe4ae25"
      },
      "source": [
        "### Naive Bayes"
      ]
    },
    {
      "cell_type": "code",
      "execution_count": 754,
      "id": "9e949f4f",
      "metadata": {
        "colab": {
          "base_uri": "https://localhost:8080/"
        },
        "id": "9e949f4f",
        "outputId": "8078c4cb-dc6a-4db1-e7ed-3a53b70aedad"
      },
      "outputs": [
        {
          "output_type": "execute_result",
          "data": {
            "text/plain": [
              "GaussianNB()"
            ]
          },
          "metadata": {},
          "execution_count": 754
        }
      ],
      "source": [
        "from sklearn.naive_bayes import GaussianNB\n",
        "\n",
        "nb_classifier = GaussianNB()\n",
        "nb_classifier.fit(x_train, y_train)"
      ]
    },
    {
      "cell_type": "code",
      "execution_count": 755,
      "id": "4b006b11",
      "metadata": {
        "id": "4b006b11"
      },
      "outputs": [],
      "source": [
        "pred = nb_classifier.predict(x_test)"
      ]
    },
    {
      "cell_type": "code",
      "execution_count": 756,
      "id": "0bda867a",
      "metadata": {
        "colab": {
          "base_uri": "https://localhost:8080/"
        },
        "id": "0bda867a",
        "outputId": "3b48b992-87d3-4e52-e235-fd40325985a6"
      },
      "outputs": [
        {
          "output_type": "stream",
          "name": "stdout",
          "text": [
            "[[88  0]\n",
            " [23  0]]\n"
          ]
        }
      ],
      "source": [
        "print(confusion_matrix(y_test, pred))"
      ]
    },
    {
      "cell_type": "code",
      "execution_count": 757,
      "id": "a9c11ff7",
      "metadata": {
        "colab": {
          "base_uri": "https://localhost:8080/"
        },
        "id": "a9c11ff7",
        "outputId": "39111a41-c586-47d1-a95e-7e0cadf0b652"
      },
      "outputs": [
        {
          "output_type": "stream",
          "name": "stdout",
          "text": [
            "              precision    recall  f1-score   support\n",
            "\n",
            "           0       0.79      1.00      0.88        88\n",
            "           1       0.00      0.00      0.00        23\n",
            "\n",
            "    accuracy                           0.79       111\n",
            "   macro avg       0.40      0.50      0.44       111\n",
            "weighted avg       0.63      0.79      0.70       111\n",
            "\n"
          ]
        },
        {
          "output_type": "stream",
          "name": "stderr",
          "text": [
            "/usr/local/lib/python3.8/dist-packages/sklearn/metrics/_classification.py:1318: UndefinedMetricWarning: Precision and F-score are ill-defined and being set to 0.0 in labels with no predicted samples. Use `zero_division` parameter to control this behavior.\n",
            "  _warn_prf(average, modifier, msg_start, len(result))\n",
            "/usr/local/lib/python3.8/dist-packages/sklearn/metrics/_classification.py:1318: UndefinedMetricWarning: Precision and F-score are ill-defined and being set to 0.0 in labels with no predicted samples. Use `zero_division` parameter to control this behavior.\n",
            "  _warn_prf(average, modifier, msg_start, len(result))\n",
            "/usr/local/lib/python3.8/dist-packages/sklearn/metrics/_classification.py:1318: UndefinedMetricWarning: Precision and F-score are ill-defined and being set to 0.0 in labels with no predicted samples. Use `zero_division` parameter to control this behavior.\n",
            "  _warn_prf(average, modifier, msg_start, len(result))\n"
          ]
        }
      ],
      "source": [
        "print(classification_report(y_test, pred))"
      ]
    },
    {
      "cell_type": "code",
      "execution_count": 758,
      "id": "c78ae9bb",
      "metadata": {
        "id": "c78ae9bb"
      },
      "outputs": [],
      "source": [
        "pred_train = nb_classifier.predict(x_train)"
      ]
    },
    {
      "cell_type": "code",
      "source": [
        "test_accuracy=accuracy_score(y_test,pred)*100\n",
        "s3.append(test_accuracy)"
      ],
      "metadata": {
        "id": "DScuqb2FI4jm"
      },
      "id": "DScuqb2FI4jm",
      "execution_count": 759,
      "outputs": []
    },
    {
      "cell_type": "code",
      "execution_count": 760,
      "id": "cfd47a12",
      "metadata": {
        "colab": {
          "base_uri": "https://localhost:8080/"
        },
        "id": "cfd47a12",
        "outputId": "14817b6e-68f8-492f-fc8c-d693c974ac4a"
      },
      "outputs": [
        {
          "output_type": "stream",
          "name": "stdout",
          "text": [
            "Accuracy score on testing data: 0.7927927927927928\n",
            "Accuracy score on training data: 1.0\n"
          ]
        }
      ],
      "source": [
        "print(f\"Accuracy score on testing data: {accuracy_score(y_test, pred)}\")\n",
        "print(f\"Accuracy score on training data: {accuracy_score(y_train, pred_train)}\")"
      ]
    },
    {
      "cell_type": "markdown",
      "id": "df69d8fe",
      "metadata": {
        "id": "df69d8fe"
      },
      "source": [
        "### Logistic Regression"
      ]
    },
    {
      "cell_type": "code",
      "execution_count": 761,
      "id": "b8a761f0",
      "metadata": {
        "colab": {
          "base_uri": "https://localhost:8080/"
        },
        "id": "b8a761f0",
        "outputId": "15eb9b48-f712-4633-81be-92c91f33323b"
      },
      "outputs": [
        {
          "output_type": "execute_result",
          "data": {
            "text/plain": [
              "LogisticRegression()"
            ]
          },
          "metadata": {},
          "execution_count": 761
        }
      ],
      "source": [
        "from sklearn.linear_model import LogisticRegression\n",
        "\n",
        "log_reg = LogisticRegression()\n",
        "log_reg.fit(x_train, y_train)"
      ]
    },
    {
      "cell_type": "code",
      "execution_count": 762,
      "id": "a71cbed6",
      "metadata": {
        "id": "a71cbed6"
      },
      "outputs": [],
      "source": [
        "pred = log_reg.predict(x_test)"
      ]
    },
    {
      "cell_type": "code",
      "execution_count": 763,
      "id": "7bfc72e3",
      "metadata": {
        "colab": {
          "base_uri": "https://localhost:8080/"
        },
        "id": "7bfc72e3",
        "outputId": "5486989a-eb4d-4c1c-d4e3-da9875c46091"
      },
      "outputs": [
        {
          "output_type": "stream",
          "name": "stdout",
          "text": [
            "[[85  3]\n",
            " [ 0 23]]\n"
          ]
        }
      ],
      "source": [
        "print(confusion_matrix(y_test, pred))"
      ]
    },
    {
      "cell_type": "code",
      "execution_count": 764,
      "id": "df085ecc",
      "metadata": {
        "colab": {
          "base_uri": "https://localhost:8080/"
        },
        "id": "df085ecc",
        "outputId": "7308a9d7-fa61-4572-abf1-b143a4480590"
      },
      "outputs": [
        {
          "output_type": "stream",
          "name": "stdout",
          "text": [
            "              precision    recall  f1-score   support\n",
            "\n",
            "           0       1.00      0.97      0.98        88\n",
            "           1       0.88      1.00      0.94        23\n",
            "\n",
            "    accuracy                           0.97       111\n",
            "   macro avg       0.94      0.98      0.96       111\n",
            "weighted avg       0.98      0.97      0.97       111\n",
            "\n"
          ]
        }
      ],
      "source": [
        "print(classification_report(y_test, pred))"
      ]
    },
    {
      "cell_type": "code",
      "execution_count": 765,
      "id": "dbb0b60e",
      "metadata": {
        "id": "dbb0b60e"
      },
      "outputs": [],
      "source": [
        "pred_train = log_reg.predict(x_train)"
      ]
    },
    {
      "cell_type": "code",
      "source": [
        "test_accuracy=accuracy_score(y_test,pred)*100\n",
        "s3.append(test_accuracy)"
      ],
      "metadata": {
        "id": "hmSN5RibI56_"
      },
      "id": "hmSN5RibI56_",
      "execution_count": 766,
      "outputs": []
    },
    {
      "cell_type": "code",
      "execution_count": 767,
      "id": "a864b74c",
      "metadata": {
        "colab": {
          "base_uri": "https://localhost:8080/"
        },
        "id": "a864b74c",
        "outputId": "4a642101-57d8-4d20-8736-2bf6d3ac91b5"
      },
      "outputs": [
        {
          "output_type": "stream",
          "name": "stdout",
          "text": [
            "Accuracy score on testing data: 0.972972972972973\n",
            "Accuracy score on training data: 0.9961389961389961\n"
          ]
        }
      ],
      "source": [
        "print(f\"Accuracy score on testing data: {accuracy_score(y_test, pred)}\")\n",
        "print(f\"Accuracy score on training data: {accuracy_score(y_train, pred_train)}\")"
      ]
    },
    {
      "cell_type": "markdown",
      "metadata": {
        "id": "hKxzZ8ryYQEN"
      },
      "source": [
        "### Random Forest"
      ],
      "id": "hKxzZ8ryYQEN"
    },
    {
      "cell_type": "code",
      "execution_count": 768,
      "metadata": {
        "id": "e0OoXNKKYQEO"
      },
      "outputs": [],
      "source": [
        "from sklearn.ensemble import RandomForestClassifier\n",
        "cf = RandomForestClassifier(n_estimators = 100, random_state = 24)\n",
        "cf.fit(x_train, y_train);"
      ],
      "id": "e0OoXNKKYQEO"
    },
    {
      "cell_type": "code",
      "execution_count": 769,
      "metadata": {
        "id": "3HMLlIfKYQEO"
      },
      "outputs": [],
      "source": [
        "pred = cf.predict(x_test)"
      ],
      "id": "3HMLlIfKYQEO"
    },
    {
      "cell_type": "code",
      "execution_count": 770,
      "metadata": {
        "colab": {
          "base_uri": "https://localhost:8080/"
        },
        "outputId": "208539e2-dfdf-4a9c-cff6-43c1043ef17f",
        "id": "AXcyMq6YYQEO"
      },
      "outputs": [
        {
          "output_type": "stream",
          "name": "stdout",
          "text": [
            "[[88  0]\n",
            " [23  0]]\n"
          ]
        }
      ],
      "source": [
        "print(confusion_matrix(y_test, pred))"
      ],
      "id": "AXcyMq6YYQEO"
    },
    {
      "cell_type": "code",
      "execution_count": 771,
      "metadata": {
        "colab": {
          "base_uri": "https://localhost:8080/"
        },
        "outputId": "1b1330eb-f342-42cd-8347-091ce0b97033",
        "id": "AbtiXmkbYQEP"
      },
      "outputs": [
        {
          "output_type": "stream",
          "name": "stdout",
          "text": [
            "              precision    recall  f1-score   support\n",
            "\n",
            "           0       0.79      1.00      0.88        88\n",
            "           1       0.00      0.00      0.00        23\n",
            "\n",
            "    accuracy                           0.79       111\n",
            "   macro avg       0.40      0.50      0.44       111\n",
            "weighted avg       0.63      0.79      0.70       111\n",
            "\n"
          ]
        },
        {
          "output_type": "stream",
          "name": "stderr",
          "text": [
            "/usr/local/lib/python3.8/dist-packages/sklearn/metrics/_classification.py:1318: UndefinedMetricWarning: Precision and F-score are ill-defined and being set to 0.0 in labels with no predicted samples. Use `zero_division` parameter to control this behavior.\n",
            "  _warn_prf(average, modifier, msg_start, len(result))\n",
            "/usr/local/lib/python3.8/dist-packages/sklearn/metrics/_classification.py:1318: UndefinedMetricWarning: Precision and F-score are ill-defined and being set to 0.0 in labels with no predicted samples. Use `zero_division` parameter to control this behavior.\n",
            "  _warn_prf(average, modifier, msg_start, len(result))\n",
            "/usr/local/lib/python3.8/dist-packages/sklearn/metrics/_classification.py:1318: UndefinedMetricWarning: Precision and F-score are ill-defined and being set to 0.0 in labels with no predicted samples. Use `zero_division` parameter to control this behavior.\n",
            "  _warn_prf(average, modifier, msg_start, len(result))\n"
          ]
        }
      ],
      "source": [
        "print(classification_report(y_test, pred))"
      ],
      "id": "AbtiXmkbYQEP"
    },
    {
      "cell_type": "code",
      "execution_count": 772,
      "metadata": {
        "id": "JoGWFbvTYQEP"
      },
      "outputs": [],
      "source": [
        "pred_train = cf.predict(x_train)"
      ],
      "id": "JoGWFbvTYQEP"
    },
    {
      "cell_type": "code",
      "source": [
        "test_accuracy = accuracy_score(y_test, pred)*100\n",
        "s3.append(test_accuracy)"
      ],
      "metadata": {
        "id": "qpB1DEZrYQEP"
      },
      "execution_count": 773,
      "outputs": [],
      "id": "qpB1DEZrYQEP"
    },
    {
      "cell_type": "code",
      "execution_count": 774,
      "metadata": {
        "colab": {
          "base_uri": "https://localhost:8080/"
        },
        "outputId": "5208dfc6-8901-4583-e5ee-143f6210fdd0",
        "id": "fyyFr1kJYQEP"
      },
      "outputs": [
        {
          "output_type": "stream",
          "name": "stdout",
          "text": [
            "Accuracy score on testing data: 0.7927927927927928\n",
            "Accuracy score on training data: 1.0\n"
          ]
        }
      ],
      "source": [
        "print(f\"Accuracy score on testing data: {accuracy_score(y_test, pred)}\")\n",
        "print(f\"Accuracy score on training data: {accuracy_score(y_train, pred_train)}\")"
      ],
      "id": "fyyFr1kJYQEP"
    },
    {
      "cell_type": "markdown",
      "id": "2c6661fc",
      "metadata": {
        "id": "2c6661fc"
      },
      "source": [
        "### CNN"
      ]
    },
    {
      "cell_type": "code",
      "execution_count": 775,
      "id": "ab434e56",
      "metadata": {
        "id": "ab434e56"
      },
      "outputs": [],
      "source": [
        "from keras.models import Sequential\n",
        "from keras.layers import Dense, Dropout"
      ]
    },
    {
      "cell_type": "code",
      "execution_count": 776,
      "id": "6db9b583",
      "metadata": {
        "id": "6db9b583"
      },
      "outputs": [],
      "source": [
        "def trainModel(model, epochs, optimizer):\n",
        "  batchsize = 25\n",
        "  model.compile(optimizer=optimizer, loss='sparse_categorical_crossentropy', metrics='accuracy')\n",
        "  return model.fit(x_train, y_train,validation_data=(x_test,y_test), epochs=epochs, batch_size=batchsize)"
      ]
    },
    {
      "cell_type": "code",
      "execution_count": 777,
      "id": "eef26a0f",
      "metadata": {
        "id": "eef26a0f"
      },
      "outputs": [],
      "source": [
        "def validate(history):\n",
        "  print(\"Validation Accuracy\",max(history.history[\"val_accuracy\"]))\n",
        "  pd.DataFrame(history.history).plot(figsize=(12,6))\n",
        "  plt.show()"
      ]
    },
    {
      "cell_type": "code",
      "execution_count": 778,
      "id": "8aab3d4b",
      "metadata": {
        "colab": {
          "base_uri": "https://localhost:8080/"
        },
        "id": "8aab3d4b",
        "outputId": "84afe486-3f3f-47b1-9b2e-bae41ab025e3"
      },
      "outputs": [
        {
          "output_type": "stream",
          "name": "stdout",
          "text": [
            "Model: \"sequential_25\"\n",
            "_________________________________________________________________\n",
            " Layer (type)                Output Shape              Param #   \n",
            "=================================================================\n",
            " dense_125 (Dense)           (None, 512)               15872     \n",
            "                                                                 \n",
            " dropout_100 (Dropout)       (None, 512)               0         \n",
            "                                                                 \n",
            " dense_126 (Dense)           (None, 256)               131328    \n",
            "                                                                 \n",
            " dropout_101 (Dropout)       (None, 256)               0         \n",
            "                                                                 \n",
            " dense_127 (Dense)           (None, 128)               32896     \n",
            "                                                                 \n",
            " dropout_102 (Dropout)       (None, 128)               0         \n",
            "                                                                 \n",
            " dense_128 (Dense)           (None, 64)                8256      \n",
            "                                                                 \n",
            " dropout_103 (Dropout)       (None, 64)                0         \n",
            "                                                                 \n",
            " dense_129 (Dense)           (None, 10)                650       \n",
            "                                                                 \n",
            "=================================================================\n",
            "Total params: 189,002\n",
            "Trainable params: 189,002\n",
            "Non-trainable params: 0\n",
            "_________________________________________________________________\n",
            "None\n",
            "Epoch 1/32\n",
            "11/11 [==============================] - 1s 30ms/step - loss: 1.0865 - accuracy: 0.7645 - val_loss: 0.1746 - val_accuracy: 1.0000\n",
            "Epoch 2/32\n",
            "11/11 [==============================] - 0s 11ms/step - loss: 0.0851 - accuracy: 0.9807 - val_loss: 0.0794 - val_accuracy: 0.9640\n",
            "Epoch 3/32\n",
            "11/11 [==============================] - 0s 11ms/step - loss: 0.0377 - accuracy: 0.9961 - val_loss: 0.0216 - val_accuracy: 0.9820\n",
            "Epoch 4/32\n",
            "11/11 [==============================] - 0s 10ms/step - loss: 0.0204 - accuracy: 0.9961 - val_loss: 0.0031 - val_accuracy: 1.0000\n",
            "Epoch 5/32\n",
            "11/11 [==============================] - 0s 12ms/step - loss: 0.0069 - accuracy: 1.0000 - val_loss: 0.0107 - val_accuracy: 0.9910\n",
            "Epoch 6/32\n",
            "11/11 [==============================] - 0s 10ms/step - loss: 0.0042 - accuracy: 0.9961 - val_loss: 0.0084 - val_accuracy: 0.9910\n",
            "Epoch 7/32\n",
            "11/11 [==============================] - 0s 11ms/step - loss: 0.0029 - accuracy: 1.0000 - val_loss: 0.0050 - val_accuracy: 1.0000\n",
            "Epoch 8/32\n",
            "11/11 [==============================] - 0s 11ms/step - loss: 0.0035 - accuracy: 1.0000 - val_loss: 0.0050 - val_accuracy: 1.0000\n",
            "Epoch 9/32\n",
            "11/11 [==============================] - 0s 11ms/step - loss: 6.3878e-04 - accuracy: 1.0000 - val_loss: 0.0110 - val_accuracy: 0.9910\n",
            "Epoch 10/32\n",
            "11/11 [==============================] - 0s 11ms/step - loss: 0.0015 - accuracy: 1.0000 - val_loss: 0.0124 - val_accuracy: 0.9910\n",
            "Epoch 11/32\n",
            "11/11 [==============================] - 0s 11ms/step - loss: 3.9646e-04 - accuracy: 1.0000 - val_loss: 0.0181 - val_accuracy: 0.9910\n",
            "Epoch 12/32\n",
            "11/11 [==============================] - 0s 10ms/step - loss: 1.9405e-04 - accuracy: 1.0000 - val_loss: 0.0222 - val_accuracy: 0.9910\n",
            "Epoch 13/32\n",
            "11/11 [==============================] - 0s 11ms/step - loss: 3.6163e-04 - accuracy: 1.0000 - val_loss: 0.0220 - val_accuracy: 0.9910\n",
            "Epoch 14/32\n",
            "11/11 [==============================] - 0s 13ms/step - loss: 0.0083 - accuracy: 0.9961 - val_loss: 0.0016 - val_accuracy: 1.0000\n",
            "Epoch 15/32\n",
            "11/11 [==============================] - 0s 11ms/step - loss: 0.0026 - accuracy: 1.0000 - val_loss: 0.0065 - val_accuracy: 0.9910\n",
            "Epoch 16/32\n",
            "11/11 [==============================] - 0s 11ms/step - loss: 1.6048e-04 - accuracy: 1.0000 - val_loss: 0.0287 - val_accuracy: 0.9910\n",
            "Epoch 17/32\n",
            "11/11 [==============================] - 0s 11ms/step - loss: 1.3954e-04 - accuracy: 1.0000 - val_loss: 0.0384 - val_accuracy: 0.9910\n",
            "Epoch 18/32\n",
            "11/11 [==============================] - 0s 11ms/step - loss: 1.6654e-04 - accuracy: 1.0000 - val_loss: 0.0432 - val_accuracy: 0.9910\n",
            "Epoch 19/32\n",
            "11/11 [==============================] - 0s 10ms/step - loss: 4.7603e-04 - accuracy: 1.0000 - val_loss: 0.0189 - val_accuracy: 0.9910\n",
            "Epoch 20/32\n",
            "11/11 [==============================] - 0s 13ms/step - loss: 8.4834e-05 - accuracy: 1.0000 - val_loss: 0.0021 - val_accuracy: 1.0000\n",
            "Epoch 21/32\n",
            "11/11 [==============================] - 0s 11ms/step - loss: 1.4064e-04 - accuracy: 1.0000 - val_loss: 6.8685e-04 - val_accuracy: 1.0000\n",
            "Epoch 22/32\n",
            "11/11 [==============================] - 0s 11ms/step - loss: 1.8296e-04 - accuracy: 1.0000 - val_loss: 4.4173e-04 - val_accuracy: 1.0000\n",
            "Epoch 23/32\n",
            "11/11 [==============================] - 0s 10ms/step - loss: 3.1666e-04 - accuracy: 1.0000 - val_loss: 5.2072e-04 - val_accuracy: 1.0000\n",
            "Epoch 24/32\n",
            "11/11 [==============================] - 0s 10ms/step - loss: 3.7123e-05 - accuracy: 1.0000 - val_loss: 6.4423e-04 - val_accuracy: 1.0000\n",
            "Epoch 25/32\n",
            "11/11 [==============================] - 0s 11ms/step - loss: 9.0749e-05 - accuracy: 1.0000 - val_loss: 7.4772e-04 - val_accuracy: 1.0000\n",
            "Epoch 26/32\n",
            "11/11 [==============================] - 0s 11ms/step - loss: 8.3921e-05 - accuracy: 1.0000 - val_loss: 8.6010e-04 - val_accuracy: 1.0000\n",
            "Epoch 27/32\n",
            "11/11 [==============================] - 0s 10ms/step - loss: 1.0735e-04 - accuracy: 1.0000 - val_loss: 9.7163e-04 - val_accuracy: 1.0000\n",
            "Epoch 28/32\n",
            "11/11 [==============================] - 0s 12ms/step - loss: 3.5238e-05 - accuracy: 1.0000 - val_loss: 0.0012 - val_accuracy: 1.0000\n",
            "Epoch 29/32\n",
            "11/11 [==============================] - 0s 11ms/step - loss: 4.9251e-05 - accuracy: 1.0000 - val_loss: 0.0013 - val_accuracy: 1.0000\n",
            "Epoch 30/32\n",
            "11/11 [==============================] - 0s 10ms/step - loss: 6.8710e-05 - accuracy: 1.0000 - val_loss: 0.0015 - val_accuracy: 1.0000\n",
            "Epoch 31/32\n",
            "11/11 [==============================] - 0s 11ms/step - loss: 2.1930e-05 - accuracy: 1.0000 - val_loss: 0.0016 - val_accuracy: 1.0000\n",
            "Epoch 32/32\n",
            "11/11 [==============================] - 0s 10ms/step - loss: 1.9815e-04 - accuracy: 1.0000 - val_loss: 0.0018 - val_accuracy: 1.0000\n"
          ]
        }
      ],
      "source": [
        "model=Sequential([\n",
        "    Dense(512,activation='relu',input_shape=(x_train.shape[1],)),\n",
        "    Dropout(0.2),\n",
        "    Dense(256,activation='relu'),\n",
        "    Dropout(0.2),\n",
        "    Dense(128,activation='relu'),\n",
        "    Dropout(0.2),\n",
        "    Dense(64,activation='relu'),\n",
        "    Dropout(0.2),\n",
        "    Dense(10,activation='softmax'),\n",
        "])\n",
        "print(model.summary())\n",
        "model_history = trainModel(model=model,epochs=32,optimizer='adam')"
      ]
    },
    {
      "cell_type": "code",
      "execution_count": 779,
      "id": "c65f73c0",
      "metadata": {
        "colab": {
          "base_uri": "https://localhost:8080/"
        },
        "id": "c65f73c0",
        "outputId": "3b502ee9-a82a-46e3-8615-8ed7f0f5b231"
      },
      "outputs": [
        {
          "output_type": "stream",
          "name": "stdout",
          "text": [
            "1/1 [==============================] - 0s 27ms/step - loss: 0.0018 - accuracy: 1.0000\n",
            "Test Loss is :  0.0018093707039952278\n",
            "Test Accuracy is :  1.0\n"
          ]
        }
      ],
      "source": [
        "test_loss,test_accuracy = model.evaluate(x_test,y_test,batch_size=128)\n",
        "print(\"Test Loss is : \",test_loss)\n",
        "print(\"Test Accuracy is : \",test_accuracy)"
      ]
    },
    {
      "cell_type": "code",
      "source": [
        "test_accuracy=test_accuracy*100\n",
        "s3.append(test_accuracy)"
      ],
      "metadata": {
        "id": "mD4EGVTbI8np"
      },
      "id": "mD4EGVTbI8np",
      "execution_count": 780,
      "outputs": []
    },
    {
      "cell_type": "markdown",
      "metadata": {
        "id": "0qSk7TWzaTMI"
      },
      "source": [
        "## Cluster Sampling (on the basis of Amount using K-means Clustering)"
      ],
      "id": "0qSk7TWzaTMI"
    },
    {
      "cell_type": "code",
      "execution_count": 781,
      "metadata": {
        "colab": {
          "base_uri": "https://localhost:8080/"
        },
        "outputId": "d96ee356-32b8-4ec9-cf83-91be416ef1eb",
        "id": "mHgepokiaTMJ"
      },
      "outputs": [
        {
          "output_type": "execute_result",
          "data": {
            "text/plain": [
              "0.00       100\n",
              "0.01         1\n",
              "0.68         1\n",
              "0.75         3\n",
              "0.76         3\n",
              "          ... \n",
              "986.31       1\n",
              "1015.61      1\n",
              "1142.02      1\n",
              "1402.95      1\n",
              "3828.04      1\n",
              "Name: Amount, Length: 523, dtype: int64"
            ]
          },
          "metadata": {},
          "execution_count": 781
        }
      ],
      "source": [
        "df_oversampled[\"Amount\"].value_counts().sort_index()"
      ],
      "id": "mHgepokiaTMJ"
    },
    {
      "cell_type": "code",
      "source": [
        "from sklearn.cluster import KMeans\n",
        "X = df_oversampled[['Amount', 'Class']].copy()"
      ],
      "metadata": {
        "id": "tsqcHx5yagio"
      },
      "id": "tsqcHx5yagio",
      "execution_count": 782,
      "outputs": []
    },
    {
      "cell_type": "code",
      "execution_count": 783,
      "metadata": {
        "id": "Pue4nSUXaTMJ"
      },
      "outputs": [],
      "source": [
        "for i in range(1, 11):\n",
        "    kmeans = KMeans(n_clusters=i, random_state=0)\n",
        "    kmeans.fit(X)"
      ],
      "id": "Pue4nSUXaTMJ"
    },
    {
      "cell_type": "code",
      "execution_count": 784,
      "metadata": {
        "id": "V1_BvNWIaTMJ"
      },
      "outputs": [],
      "source": [
        "wcss = []\n",
        "for i in range(1, 11):\n",
        "    kmeans = KMeans(n_clusters=i, random_state=0).fit(X)\n",
        "    kmeans.fit(X)\n",
        "    wcss.append(kmeans.inertia_)"
      ],
      "id": "V1_BvNWIaTMJ"
    },
    {
      "cell_type": "code",
      "source": [
        "sns.set()\n",
        "plt.plot(range(1, 11), wcss) \n",
        "plt.title('Selecting the Numbeer of Clusters using the Elbow Method')\n",
        "plt.xlabel('Clusters')\n",
        "plt.ylabel('WCSS')\n",
        "plt.show()"
      ],
      "metadata": {
        "colab": {
          "base_uri": "https://localhost:8080/",
          "height": 301
        },
        "id": "cbW5_xeXcCc_",
        "outputId": "dadd2c0e-e695-4ecd-ba94-48b8ea83a0d0"
      },
      "id": "cbW5_xeXcCc_",
      "execution_count": 785,
      "outputs": [
        {
          "output_type": "display_data",
          "data": {
            "text/plain": [
              "<Figure size 432x288 with 1 Axes>"
            ],
            "image/png": "[encoded data removed]"
          },
          "metadata": {}
        }
      ]
    },
    {
      "cell_type": "code",
      "execution_count": 786,
      "metadata": {
        "id": "qh8WDhujaTMK"
      },
      "outputs": [],
      "source": [
        "X = df_oversampled.iloc[:, :-1]\n",
        "Y = df_oversampled.iloc[:, -1]"
      ],
      "id": "qh8WDhujaTMK"
    },
    {
      "cell_type": "code",
      "source": [
        "X.head()"
      ],
      "metadata": {
        "colab": {
          "base_uri": "https://localhost:8080/",
          "height": 300
        },
        "id": "0etDVdAYdjNh",
        "outputId": "8e912069-6341-40ce-ced0-f3fe9a4f8b66"
      },
      "id": "0etDVdAYdjNh",
      "execution_count": 787,
      "outputs": [
        {
          "output_type": "execute_result",
          "data": {
            "text/plain": [
              "   Time        V1        V2        V3        V4        V5        V6        V7  \\\n",
              "0     0 -1.359807 -0.072781  2.536347  1.378155 -0.338321  0.462388  0.239599   \n",
              "1     0  1.191857  0.266151  0.166480  0.448154  0.060018 -0.082361 -0.078803   \n",
              "2     1 -1.358354 -1.340163  1.773209  0.379780 -0.503198  1.800499  0.791461   \n",
              "3     1 -0.966272 -0.185226  1.792993 -0.863291 -0.010309  1.247203  0.237609   \n",
              "4     2 -1.158233  0.877737  1.548718  0.403034 -0.407193  0.095921  0.592941   \n",
              "\n",
              "         V8        V9  ...       V20       V21       V22       V23       V24  \\\n",
              "0  0.098698  0.363787  ...  0.251412 -0.018307  0.277838 -0.110474  0.066928   \n",
              "1  0.085102 -0.255425  ... -0.069083 -0.225775 -0.638672  0.101288 -0.339846   \n",
              "2  0.247676 -1.514654  ...  0.524980  0.247998  0.771679  0.909412 -0.689281   \n",
              "3  0.377436 -1.387024  ... -0.208038 -0.108300  0.005274 -0.190321 -1.175575   \n",
              "4 -0.270533  0.817739  ...  0.408542 -0.009431  0.798278 -0.137458  0.141267   \n",
              "\n",
              "        V25       V26       V27       V28  Amount  \n",
              "0  0.128539 -0.189115  0.133558 -0.021053  149.62  \n",
              "1  0.167170  0.125895 -0.008983  0.014724    2.69  \n",
              "2 -0.327642 -0.139097 -0.055353 -0.059752  378.66  \n",
              "3  0.647376 -0.221929  0.062723  0.061458  123.50  \n",
              "4 -0.206010  0.502292  0.219422  0.215153   69.99  \n",
              "\n",
              "[5 rows x 30 columns]"
            ],
            "text/html": [
              "\n",
              "  <div id=\"df-e216ae32-bf18-4f55-b244-8740136a33d4\">\n",
              "    <div class=\"colab-df-container\">\n",
              "      <div>\n",
              "<style scoped>\n",
              "    .dataframe tbody tr th:only-of-type {\n",
              "        vertical-align: middle;\n",
              "    }\n",
              "\n",
              "    .dataframe tbody tr th {\n",
              "        vertical-align: top;\n",
              "    }\n",
              "\n",
              "    .dataframe thead th {\n",
              "        text-align: right;\n",
              "    }\n",
              "</style>\n",
              "<table border=\"1\" class=\"dataframe\">\n",
              "  <thead>\n",
              "    <tr style=\"text-align: right;\">\n",
              "      <th></th>\n",
              "      <th>Time</th>\n",
              "      <th>V1</th>\n",
              "      <th>V2</th>\n",
              "      <th>V3</th>\n",
              "      <th>V4</th>\n",
              "      <th>V5</th>\n",
              "      <th>V6</th>\n",
              "      <th>V7</th>\n",
              "      <th>V8</th>\n",
              "      <th>V9</th>\n",
              "      <th>...</th>\n",
              "      <th>V20</th>\n",
              "      <th>V21</th>\n",
              "      <th>V22</th>\n",
              "      <th>V23</th>\n",
              "      <th>V24</th>\n",
              "      <th>V25</th>\n",
              "      <th>V26</th>\n",
              "      <th>V27</th>\n",
              "      <th>V28</th>\n",
              "      <th>Amount</th>\n",
              "    </tr>\n",
              "  </thead>\n",
              "  <tbody>\n",
              "    <tr>\n",
              "      <th>0</th>\n",
              "      <td>0</td>\n",
              "      <td>-1.359807</td>\n",
              "      <td>-0.072781</td>\n",
              "      <td>2.536347</td>\n",
              "      <td>1.378155</td>\n",
              "      <td>-0.338321</td>\n",
              "      <td>0.462388</td>\n",
              "      <td>0.239599</td>\n",
              "      <td>0.098698</td>\n",
              "      <td>0.363787</td>\n",
              "      <td>...</td>\n",
              "      <td>0.251412</td>\n",
              "      <td>-0.018307</td>\n",
              "      <td>0.277838</td>\n",
              "      <td>-0.110474</td>\n",
              "      <td>0.066928</td>\n",
              "      <td>0.128539</td>\n",
              "      <td>-0.189115</td>\n",
              "      <td>0.133558</td>\n",
              "      <td>-0.021053</td>\n",
              "      <td>149.62</td>\n",
              "    </tr>\n",
              "    <tr>\n",
              "      <th>1</th>\n",
              "      <td>0</td>\n",
              "      <td>1.191857</td>\n",
              "      <td>0.266151</td>\n",
              "      <td>0.166480</td>\n",
              "      <td>0.448154</td>\n",
              "      <td>0.060018</td>\n",
              "      <td>-0.082361</td>\n",
              "      <td>-0.078803</td>\n",
              "      <td>0.085102</td>\n",
              "      <td>-0.255425</td>\n",
              "      <td>...</td>\n",
              "      <td>-0.069083</td>\n",
              "      <td>-0.225775</td>\n",
              "      <td>-0.638672</td>\n",
              "      <td>0.101288</td>\n",
              "      <td>-0.339846</td>\n",
              "      <td>0.167170</td>\n",
              "      <td>0.125895</td>\n",
              "      <td>-0.008983</td>\n",
              "      <td>0.014724</td>\n",
              "      <td>2.69</td>\n",
              "    </tr>\n",
              "    <tr>\n",
              "      <th>2</th>\n",
              "      <td>1</td>\n",
              "      <td>-1.358354</td>\n",
              "      <td>-1.340163</td>\n",
              "      <td>1.773209</td>\n",
              "      <td>0.379780</td>\n",
              "      <td>-0.503198</td>\n",
              "      <td>1.800499</td>\n",
              "      <td>0.791461</td>\n",
              "      <td>0.247676</td>\n",
              "      <td>-1.514654</td>\n",
              "      <td>...</td>\n",
              "      <td>0.524980</td>\n",
              "      <td>0.247998</td>\n",
              "      <td>0.771679</td>\n",
              "      <td>0.909412</td>\n",
              "      <td>-0.689281</td>\n",
              "      <td>-0.327642</td>\n",
              "      <td>-0.139097</td>\n",
              "      <td>-0.055353</td>\n",
              "      <td>-0.059752</td>\n",
              "      <td>378.66</td>\n",
              "    </tr>\n",
              "    <tr>\n",
              "      <th>3</th>\n",
              "      <td>1</td>\n",
              "      <td>-0.966272</td>\n",
              "      <td>-0.185226</td>\n",
              "      <td>1.792993</td>\n",
              "      <td>-0.863291</td>\n",
              "      <td>-0.010309</td>\n",
              "      <td>1.247203</td>\n",
              "      <td>0.237609</td>\n",
              "      <td>0.377436</td>\n",
              "      <td>-1.387024</td>\n",
              "      <td>...</td>\n",
              "      <td>-0.208038</td>\n",
              "      <td>-0.108300</td>\n",
              "      <td>0.005274</td>\n",
              "      <td>-0.190321</td>\n",
              "      <td>-1.175575</td>\n",
              "      <td>0.647376</td>\n",
              "      <td>-0.221929</td>\n",
              "      <td>0.062723</td>\n",
              "      <td>0.061458</td>\n",
              "      <td>123.50</td>\n",
              "    </tr>\n",
              "    <tr>\n",
              "      <th>4</th>\n",
              "      <td>2</td>\n",
              "      <td>-1.158233</td>\n",
              "      <td>0.877737</td>\n",
              "      <td>1.548718</td>\n",
              "      <td>0.403034</td>\n",
              "      <td>-0.407193</td>\n",
              "      <td>0.095921</td>\n",
              "      <td>0.592941</td>\n",
              "      <td>-0.270533</td>\n",
              "      <td>0.817739</td>\n",
              "      <td>...</td>\n",
              "      <td>0.408542</td>\n",
              "      <td>-0.009431</td>\n",
              "      <td>0.798278</td>\n",
              "      <td>-0.137458</td>\n",
              "      <td>0.141267</td>\n",
              "      <td>-0.206010</td>\n",
              "      <td>0.502292</td>\n",
              "      <td>0.219422</td>\n",
              "      <td>0.215153</td>\n",
              "      <td>69.99</td>\n",
              "    </tr>\n",
              "  </tbody>\n",
              "</table>\n",
              "<p>5 rows × 30 columns</p>\n",
              "</div>\n",
              "      <button class=\"colab-df-convert\" onclick=\"convertToInteractive('df-e216ae32-bf18-4f55-b244-8740136a33d4')\"\n",
              "              title=\"Convert this dataframe to an interactive table.\"\n",
              "              style=\"display:none;\">\n",
              "        \n",
              "  <svg xmlns=\"http://www.w3.org/2000/svg\" height=\"24px\"viewBox=\"0 0 24 24\"\n",
              "       width=\"24px\">\n",
              "    <path d=\"M0 0h24v24H0V0z\" fill=\"none\"/>\n",
              "    <path d=\"M18.56 5.44l.94 2.06.94-2.06 2.06-.94-2.06-.94-.94-2.06-.94 2.06-2.06.94zm-11 1L8.5 8.5l.94-2.06 2.06-.94-2.06-.94L8.5 2.5l-.94 2.06-2.06.94zm10 10l.94 2.06.94-2.06 2.06-.94-2.06-.94-.94-2.06-.94 2.06-2.06.94z\"/><path d=\"M17.41 7.96l-1.37-1.37c-.4-.4-.92-.59-1.43-.59-.52 0-1.04.2-1.43.59L10.3 9.45l-7.72 7.72c-.78.78-.78 2.05 0 2.83L4 21.41c.39.39.9.59 1.41.59.51 0 1.02-.2 1.41-.59l7.78-7.78 2.81-2.81c.8-.78.8-2.07 0-2.86zM5.41 20L4 18.59l7.72-7.72 1.47 1.35L5.41 20z\"/>\n",
              "  </svg>\n",
              "      </button>\n",
              "      \n",
              "  <style>\n",
              "    .colab-df-container {\n",
              "      display:flex;\n",
              "      flex-wrap:wrap;\n",
              "      gap: 12px;\n",
              "    }\n",
              "\n",
              "    .colab-df-convert {\n",
              "      background-color: #E8F0FE;\n",
              "      border: none;\n",
              "      border-radius: 50%;\n",
              "      cursor: pointer;\n",
              "      display: none;\n",
              "      fill: #1967D2;\n",
              "      height: 32px;\n",
              "      padding: 0 0 0 0;\n",
              "      width: 32px;\n",
              "    }\n",
              "\n",
              "    .colab-df-convert:hover {\n",
              "      background-color: #E2EBFA;\n",
              "      box-shadow: 0px 1px 2px rgba(60, 64, 67, 0.3), 0px 1px 3px 1px rgba(60, 64, 67, 0.15);\n",
              "      fill: #174EA6;\n",
              "    }\n",
              "\n",
              "    [theme=dark] .colab-df-convert {\n",
              "      background-color: #3B4455;\n",
              "      fill: #D2E3FC;\n",
              "    }\n",
              "\n",
              "    [theme=dark] .colab-df-convert:hover {\n",
              "      background-color: #434B5C;\n",
              "      box-shadow: 0px 1px 3px 1px rgba(0, 0, 0, 0.15);\n",
              "      filter: drop-shadow(0px 1px 2px rgba(0, 0, 0, 0.3));\n",
              "      fill: #FFFFFF;\n",
              "    }\n",
              "  </style>\n",
              "\n",
              "      <script>\n",
              "        const buttonEl =\n",
              "          document.querySelector('#df-e216ae32-bf18-4f55-b244-8740136a33d4 button.colab-df-convert');\n",
              "        buttonEl.style.display =\n",
              "          google.colab.kernel.accessAllowed ? 'block' : 'none';\n",
              "\n",
              "        async function convertToInteractive(key) {\n",
              "          const element = document.querySelector('#df-e216ae32-bf18-4f55-b244-8740136a33d4');\n",
              "          const dataTable =\n",
              "            await google.colab.kernel.invokeFunction('convertToInteractive',\n",
              "                                                     [key], {});\n",
              "          if (!dataTable) return;\n",
              "\n",
              "          const docLinkHtml = 'Like what you see? Visit the ' +\n",
              "            '<a target=\"_blank\" href=https://colab.research.google.com/notebooks/data_table.ipynb>data table notebook</a>'\n",
              "            + ' to learn more about interactive tables.';\n",
              "          element.innerHTML = '';\n",
              "          dataTable['output_type'] = 'display_data';\n",
              "          await google.colab.output.renderOutput(dataTable, element);\n",
              "          const docLink = document.createElement('div');\n",
              "          docLink.innerHTML = docLinkHtml;\n",
              "          element.appendChild(docLink);\n",
              "        }\n",
              "      </script>\n",
              "    </div>\n",
              "  </div>\n",
              "  "
            ]
          },
          "metadata": {},
          "execution_count": 787
        }
      ]
    },
    {
      "cell_type": "code",
      "source": [
        "kmeans=KMeans(n_clusters=3)\n",
        "kmeans.fit(X)"
      ],
      "metadata": {
        "colab": {
          "base_uri": "https://localhost:8080/"
        },
        "id": "kllOzW8-cCwp",
        "outputId": "8b7a5fbc-3da4-4856-efed-3891e9675f47"
      },
      "id": "kllOzW8-cCwp",
      "execution_count": 788,
      "outputs": [
        {
          "output_type": "execute_result",
          "data": {
            "text/plain": [
              "KMeans(n_clusters=3)"
            ]
          },
          "metadata": {},
          "execution_count": 788
        }
      ]
    },
    {
      "cell_type": "code",
      "execution_count": 789,
      "metadata": {
        "id": "SbdO6kKiaTMK"
      },
      "outputs": [],
      "source": [
        "from sklearn.model_selection import train_test_split\n",
        "x_train_orig, x_test_orig, y_train, y_test = train_test_split(X, Y, test_size=0.3, random_state=40)"
      ],
      "id": "SbdO6kKiaTMK"
    },
    {
      "cell_type": "code",
      "execution_count": 790,
      "metadata": {
        "id": "1m6ulMHAaTMK"
      },
      "outputs": [],
      "source": [
        "from sklearn.preprocessing import StandardScaler\n",
        "sc = StandardScaler()\n",
        "x_train = sc.fit_transform(x_train_orig)\n",
        "x_test = sc.fit_transform(x_test_orig)"
      ],
      "id": "1m6ulMHAaTMK"
    },
    {
      "cell_type": "markdown",
      "metadata": {
        "id": "dbWDY2N3aTMK"
      },
      "source": [
        "### KNN model"
      ],
      "id": "dbWDY2N3aTMK"
    },
    {
      "cell_type": "code",
      "execution_count": 791,
      "metadata": {
        "colab": {
          "base_uri": "https://localhost:8080/"
        },
        "outputId": "090a5027-ea92-4614-cc56-69cd392301c5",
        "id": "IYgIzJUaaTMK"
      },
      "outputs": [
        {
          "output_type": "stream",
          "name": "stdout",
          "text": [
            "Accuracy for our testing dataset with tuning is : 93.89%\n"
          ]
        }
      ],
      "source": [
        "from sklearn.neighbors import KNeighborsClassifier\n",
        "knn = KNeighborsClassifier(n_neighbors=19)\n",
        "knn.fit(x_train, y_train)\n",
        "pred=knn.predict(x_test) \n",
        "test_accuracy=accuracy_score(y_test,pred)*100\n",
        "s4.append(test_accuracy)\n",
        "print(\"Accuracy for our testing dataset with tuning is : {:.2f}%\".format(test_accuracy))"
      ],
      "id": "IYgIzJUaaTMK"
    },
    {
      "cell_type": "code",
      "execution_count": 792,
      "metadata": {
        "colab": {
          "base_uri": "https://localhost:8080/"
        },
        "outputId": "5c02c0c4-f5f2-47cd-dc2c-15aa8b28e9a6",
        "id": "VTdbjoZaaTMK"
      },
      "outputs": [
        {
          "output_type": "stream",
          "name": "stdout",
          "text": [
            "              precision    recall  f1-score   support\n",
            "\n",
            "           0       1.00      0.88      0.94       240\n",
            "           1       0.89      1.00      0.94       218\n",
            "\n",
            "    accuracy                           0.94       458\n",
            "   macro avg       0.94      0.94      0.94       458\n",
            "weighted avg       0.95      0.94      0.94       458\n",
            "\n"
          ]
        }
      ],
      "source": [
        "print(classification_report(y_test, pred))"
      ],
      "id": "VTdbjoZaaTMK"
    },
    {
      "cell_type": "markdown",
      "metadata": {
        "id": "6VExy6QPaTMK"
      },
      "source": [
        "### Naive Bayes"
      ],
      "id": "6VExy6QPaTMK"
    },
    {
      "cell_type": "code",
      "execution_count": 793,
      "metadata": {
        "colab": {
          "base_uri": "https://localhost:8080/"
        },
        "outputId": "4a2ff557-1ee0-46a6-9b98-9e44729d585f",
        "id": "UK7OCBS5aTMK"
      },
      "outputs": [
        {
          "output_type": "execute_result",
          "data": {
            "text/plain": [
              "GaussianNB()"
            ]
          },
          "metadata": {},
          "execution_count": 793
        }
      ],
      "source": [
        "from sklearn.naive_bayes import GaussianNB\n",
        "\n",
        "nb_classifier = GaussianNB()\n",
        "nb_classifier.fit(x_train, y_train)"
      ],
      "id": "UK7OCBS5aTMK"
    },
    {
      "cell_type": "code",
      "execution_count": 794,
      "metadata": {
        "id": "4zfegaJUaTMK"
      },
      "outputs": [],
      "source": [
        "pred = nb_classifier.predict(x_test)"
      ],
      "id": "4zfegaJUaTMK"
    },
    {
      "cell_type": "code",
      "execution_count": 795,
      "metadata": {
        "colab": {
          "base_uri": "https://localhost:8080/"
        },
        "outputId": "eb6e402c-db03-44b6-be0a-5496f75177c0",
        "id": "I47evaz4aTML"
      },
      "outputs": [
        {
          "output_type": "stream",
          "name": "stdout",
          "text": [
            "[[213  27]\n",
            " [121  97]]\n"
          ]
        }
      ],
      "source": [
        "print(confusion_matrix(y_test, pred))"
      ],
      "id": "I47evaz4aTML"
    },
    {
      "cell_type": "code",
      "execution_count": 796,
      "metadata": {
        "colab": {
          "base_uri": "https://localhost:8080/"
        },
        "outputId": "9fd22391-c21f-4a27-e143-eeed4bfbc661",
        "id": "NOir54BuaTML"
      },
      "outputs": [
        {
          "output_type": "stream",
          "name": "stdout",
          "text": [
            "              precision    recall  f1-score   support\n",
            "\n",
            "           0       0.64      0.89      0.74       240\n",
            "           1       0.78      0.44      0.57       218\n",
            "\n",
            "    accuracy                           0.68       458\n",
            "   macro avg       0.71      0.67      0.65       458\n",
            "weighted avg       0.71      0.68      0.66       458\n",
            "\n"
          ]
        }
      ],
      "source": [
        "print(classification_report(y_test, pred))"
      ],
      "id": "NOir54BuaTML"
    },
    {
      "cell_type": "code",
      "execution_count": 797,
      "metadata": {
        "id": "u0cCR1ixaTML"
      },
      "outputs": [],
      "source": [
        "pred_train = nb_classifier.predict(x_train)"
      ],
      "id": "u0cCR1ixaTML"
    },
    {
      "cell_type": "code",
      "source": [
        "test_accuracy=accuracy_score(y_test,pred)*100\n",
        "s4.append(test_accuracy)"
      ],
      "metadata": {
        "id": "OSpglun2aTML"
      },
      "execution_count": 798,
      "outputs": [],
      "id": "OSpglun2aTML"
    },
    {
      "cell_type": "code",
      "execution_count": 799,
      "metadata": {
        "colab": {
          "base_uri": "https://localhost:8080/"
        },
        "outputId": "edf831f3-cf79-4768-8311-e01c10883cd4",
        "id": "m5M1WJjPaTML"
      },
      "outputs": [
        {
          "output_type": "stream",
          "name": "stdout",
          "text": [
            "Accuracy score on testing data: 0.6768558951965066\n",
            "Accuracy score on training data: 0.6825842696629213\n"
          ]
        }
      ],
      "source": [
        "print(f\"Accuracy score on testing data: {accuracy_score(y_test, pred)}\")\n",
        "print(f\"Accuracy score on training data: {accuracy_score(y_train, pred_train)}\")"
      ],
      "id": "m5M1WJjPaTML"
    },
    {
      "cell_type": "markdown",
      "metadata": {
        "id": "kgUdvCKgaTML"
      },
      "source": [
        "### Logistic Regression"
      ],
      "id": "kgUdvCKgaTML"
    },
    {
      "cell_type": "code",
      "execution_count": 800,
      "metadata": {
        "colab": {
          "base_uri": "https://localhost:8080/"
        },
        "outputId": "8c507b40-0f94-46d7-dfcb-5d38d0b103ba",
        "id": "bRleQxAeaTML"
      },
      "outputs": [
        {
          "output_type": "execute_result",
          "data": {
            "text/plain": [
              "LogisticRegression()"
            ]
          },
          "metadata": {},
          "execution_count": 800
        }
      ],
      "source": [
        "from sklearn.linear_model import LogisticRegression\n",
        "\n",
        "log_reg = LogisticRegression()\n",
        "log_reg.fit(x_train, y_train)"
      ],
      "id": "bRleQxAeaTML"
    },
    {
      "cell_type": "code",
      "execution_count": 801,
      "metadata": {
        "id": "0cs2OLyLaTML"
      },
      "outputs": [],
      "source": [
        "pred = log_reg.predict(x_test)"
      ],
      "id": "0cs2OLyLaTML"
    },
    {
      "cell_type": "code",
      "execution_count": 802,
      "metadata": {
        "colab": {
          "base_uri": "https://localhost:8080/"
        },
        "outputId": "ce4ff3a4-69da-4f46-bfbf-326211ed1bc0",
        "id": "IwlmfQX3aTML"
      },
      "outputs": [
        {
          "output_type": "stream",
          "name": "stdout",
          "text": [
            "[[207  33]\n",
            " [ 26 192]]\n"
          ]
        }
      ],
      "source": [
        "print(confusion_matrix(y_test, pred))"
      ],
      "id": "IwlmfQX3aTML"
    },
    {
      "cell_type": "code",
      "execution_count": 803,
      "metadata": {
        "colab": {
          "base_uri": "https://localhost:8080/"
        },
        "outputId": "45251aad-9137-4392-b282-339f9718c65a",
        "id": "u16ShoTlaTML"
      },
      "outputs": [
        {
          "output_type": "stream",
          "name": "stdout",
          "text": [
            "              precision    recall  f1-score   support\n",
            "\n",
            "           0       0.89      0.86      0.88       240\n",
            "           1       0.85      0.88      0.87       218\n",
            "\n",
            "    accuracy                           0.87       458\n",
            "   macro avg       0.87      0.87      0.87       458\n",
            "weighted avg       0.87      0.87      0.87       458\n",
            "\n"
          ]
        }
      ],
      "source": [
        "print(classification_report(y_test, pred))"
      ],
      "id": "u16ShoTlaTML"
    },
    {
      "cell_type": "code",
      "execution_count": 804,
      "metadata": {
        "id": "eHWNr3-SaTML"
      },
      "outputs": [],
      "source": [
        "pred_train = log_reg.predict(x_train)"
      ],
      "id": "eHWNr3-SaTML"
    },
    {
      "cell_type": "code",
      "source": [
        "test_accuracy=accuracy_score(y_test,pred)*100\n",
        "s4.append(test_accuracy)"
      ],
      "metadata": {
        "id": "J_NYn3qCaTMM"
      },
      "execution_count": 805,
      "outputs": [],
      "id": "J_NYn3qCaTMM"
    },
    {
      "cell_type": "code",
      "execution_count": 806,
      "metadata": {
        "colab": {
          "base_uri": "https://localhost:8080/"
        },
        "outputId": "ec624043-fe8e-4627-d979-096b430c7f70",
        "id": "YKZ8RQCpaTMM"
      },
      "outputs": [
        {
          "output_type": "stream",
          "name": "stdout",
          "text": [
            "Accuracy score on testing data: 0.87117903930131\n",
            "Accuracy score on training data: 0.9456928838951311\n"
          ]
        }
      ],
      "source": [
        "print(f\"Accuracy score on testing data: {accuracy_score(y_test, pred)}\")\n",
        "print(f\"Accuracy score on training data: {accuracy_score(y_train, pred_train)}\")"
      ],
      "id": "YKZ8RQCpaTMM"
    },
    {
      "cell_type": "markdown",
      "metadata": {
        "id": "YvA0qWmPaTMM"
      },
      "source": [
        "### Random Forest"
      ],
      "id": "YvA0qWmPaTMM"
    },
    {
      "cell_type": "code",
      "execution_count": 807,
      "metadata": {
        "id": "E8FzqHCHaTMM"
      },
      "outputs": [],
      "source": [
        "from sklearn.ensemble import RandomForestClassifier\n",
        "cf = RandomForestClassifier(n_estimators = 100, random_state = 42)\n",
        "cf.fit(x_train, y_train);"
      ],
      "id": "E8FzqHCHaTMM"
    },
    {
      "cell_type": "code",
      "execution_count": 808,
      "metadata": {
        "id": "FPCOYufAaTMM"
      },
      "outputs": [],
      "source": [
        "pred = cf.predict(x_test)"
      ],
      "id": "FPCOYufAaTMM"
    },
    {
      "cell_type": "code",
      "execution_count": 809,
      "metadata": {
        "colab": {
          "base_uri": "https://localhost:8080/"
        },
        "outputId": "e117c445-4b41-4279-d70a-a7dfc55b14e4",
        "id": "6EmzNiDwaTMM"
      },
      "outputs": [
        {
          "output_type": "stream",
          "name": "stdout",
          "text": [
            "[[240   0]\n",
            " [196  22]]\n"
          ]
        }
      ],
      "source": [
        "print(confusion_matrix(y_test, pred))"
      ],
      "id": "6EmzNiDwaTMM"
    },
    {
      "cell_type": "code",
      "execution_count": 810,
      "metadata": {
        "colab": {
          "base_uri": "https://localhost:8080/"
        },
        "outputId": "bc182241-ab43-4732-f560-083142c22fc1",
        "id": "w-VFpeDRaTMM"
      },
      "outputs": [
        {
          "output_type": "stream",
          "name": "stdout",
          "text": [
            "              precision    recall  f1-score   support\n",
            "\n",
            "           0       0.55      1.00      0.71       240\n",
            "           1       1.00      0.10      0.18       218\n",
            "\n",
            "    accuracy                           0.57       458\n",
            "   macro avg       0.78      0.55      0.45       458\n",
            "weighted avg       0.76      0.57      0.46       458\n",
            "\n"
          ]
        }
      ],
      "source": [
        "print(classification_report(y_test, pred))"
      ],
      "id": "w-VFpeDRaTMM"
    },
    {
      "cell_type": "code",
      "execution_count": 811,
      "metadata": {
        "id": "NH3uwBJ3aTMM"
      },
      "outputs": [],
      "source": [
        "pred_train = cf.predict(x_train)"
      ],
      "id": "NH3uwBJ3aTMM"
    },
    {
      "cell_type": "code",
      "source": [
        "test_accuracy = accuracy_score(y_test, pred)*100\n",
        "s4.append(test_accuracy)"
      ],
      "metadata": {
        "id": "ftpop7GraTMM"
      },
      "execution_count": 812,
      "outputs": [],
      "id": "ftpop7GraTMM"
    },
    {
      "cell_type": "code",
      "execution_count": 813,
      "metadata": {
        "colab": {
          "base_uri": "https://localhost:8080/"
        },
        "outputId": "72364350-f82e-43c4-d60c-8e43344b97c9",
        "id": "IYF5JK0laTMM"
      },
      "outputs": [
        {
          "output_type": "stream",
          "name": "stdout",
          "text": [
            "Accuracy score on testing data: 0.5720524017467249\n",
            "Accuracy score on training data: 1.0\n"
          ]
        }
      ],
      "source": [
        "print(f\"Accuracy score on testing data: {accuracy_score(y_test, pred)}\")\n",
        "print(f\"Accuracy score on training data: {accuracy_score(y_train, pred_train)}\")"
      ],
      "id": "IYF5JK0laTMM"
    },
    {
      "cell_type": "markdown",
      "metadata": {
        "id": "Pw2nyYoxaTMM"
      },
      "source": [
        "### CNN"
      ],
      "id": "Pw2nyYoxaTMM"
    },
    {
      "cell_type": "code",
      "execution_count": 814,
      "metadata": {
        "id": "EhQiBCGgaTMM"
      },
      "outputs": [],
      "source": [
        "from keras.models import Sequential\n",
        "from keras.layers import Dense, Dropout"
      ],
      "id": "EhQiBCGgaTMM"
    },
    {
      "cell_type": "code",
      "execution_count": 815,
      "metadata": {
        "id": "8J3-Izy9aTMM"
      },
      "outputs": [],
      "source": [
        "def trainModel(model, epochs, optimizer):\n",
        "  batchsize = 25\n",
        "  model.compile(optimizer=optimizer, loss='sparse_categorical_crossentropy', metrics='accuracy')\n",
        "  return model.fit(x_train, y_train,validation_data=(x_test,y_test), epochs=epochs, batch_size=batchsize)"
      ],
      "id": "8J3-Izy9aTMM"
    },
    {
      "cell_type": "code",
      "execution_count": 816,
      "metadata": {
        "id": "vYmbsgAgaTMN"
      },
      "outputs": [],
      "source": [
        "def validate(history):\n",
        "  print(\"Validation Accuracy\",max(history.history[\"val_accuracy\"]))\n",
        "  pd.DataFrame(history.history).plot(figsize=(12,6))\n",
        "  plt.show()"
      ],
      "id": "vYmbsgAgaTMN"
    },
    {
      "cell_type": "code",
      "execution_count": 817,
      "metadata": {
        "colab": {
          "base_uri": "https://localhost:8080/"
        },
        "outputId": "27db119a-d991-407c-dc03-dac1b834cd17",
        "id": "7Aa8ywvTaTMN"
      },
      "outputs": [
        {
          "output_type": "stream",
          "name": "stdout",
          "text": [
            "Model: \"sequential_26\"\n",
            "_________________________________________________________________\n",
            " Layer (type)                Output Shape              Param #   \n",
            "=================================================================\n",
            " dense_130 (Dense)           (None, 512)               15872     \n",
            "                                                                 \n",
            " dropout_104 (Dropout)       (None, 512)               0         \n",
            "                                                                 \n",
            " dense_131 (Dense)           (None, 256)               131328    \n",
            "                                                                 \n",
            " dropout_105 (Dropout)       (None, 256)               0         \n",
            "                                                                 \n",
            " dense_132 (Dense)           (None, 128)               32896     \n",
            "                                                                 \n",
            " dropout_106 (Dropout)       (None, 128)               0         \n",
            "                                                                 \n",
            " dense_133 (Dense)           (None, 64)                8256      \n",
            "                                                                 \n",
            " dropout_107 (Dropout)       (None, 64)                0         \n",
            "                                                                 \n",
            " dense_134 (Dense)           (None, 10)                650       \n",
            "                                                                 \n",
            "=================================================================\n",
            "Total params: 189,002\n",
            "Trainable params: 189,002\n",
            "Non-trainable params: 0\n",
            "_________________________________________________________________\n",
            "None\n",
            "Epoch 1/32\n",
            "43/43 [==============================] - 2s 13ms/step - loss: 0.7198 - accuracy: 0.7556 - val_loss: 0.1394 - val_accuracy: 0.9498\n",
            "Epoch 2/32\n",
            "43/43 [==============================] - 0s 8ms/step - loss: 0.0792 - accuracy: 0.9738 - val_loss: 0.0479 - val_accuracy: 0.9934\n",
            "Epoch 3/32\n",
            "43/43 [==============================] - 0s 8ms/step - loss: 0.0497 - accuracy: 0.9850 - val_loss: 0.0698 - val_accuracy: 0.9825\n",
            "Epoch 4/32\n",
            "43/43 [==============================] - 0s 8ms/step - loss: 0.0365 - accuracy: 0.9925 - val_loss: 0.0217 - val_accuracy: 0.9891\n",
            "Epoch 5/32\n",
            "43/43 [==============================] - 0s 8ms/step - loss: 0.0251 - accuracy: 0.9953 - val_loss: 0.0105 - val_accuracy: 0.9956\n",
            "Epoch 6/32\n",
            "43/43 [==============================] - 0s 9ms/step - loss: 0.0074 - accuracy: 0.9991 - val_loss: 0.0087 - val_accuracy: 0.9956\n",
            "Epoch 7/32\n",
            "43/43 [==============================] - 0s 8ms/step - loss: 0.0161 - accuracy: 0.9953 - val_loss: 0.0141 - val_accuracy: 0.9978\n",
            "Epoch 8/32\n",
            "43/43 [==============================] - 0s 8ms/step - loss: 0.0104 - accuracy: 0.9972 - val_loss: 0.0209 - val_accuracy: 0.9978\n",
            "Epoch 9/32\n",
            "43/43 [==============================] - 0s 7ms/step - loss: 0.0484 - accuracy: 0.9869 - val_loss: 0.0384 - val_accuracy: 0.9891\n",
            "Epoch 10/32\n",
            "43/43 [==============================] - 0s 8ms/step - loss: 0.0114 - accuracy: 0.9963 - val_loss: 0.0165 - val_accuracy: 0.9978\n",
            "Epoch 11/32\n",
            "43/43 [==============================] - 0s 7ms/step - loss: 0.0036 - accuracy: 0.9991 - val_loss: 0.0144 - val_accuracy: 0.9978\n",
            "Epoch 12/32\n",
            "43/43 [==============================] - 0s 8ms/step - loss: 0.0024 - accuracy: 0.9991 - val_loss: 0.0191 - val_accuracy: 0.9978\n",
            "Epoch 13/32\n",
            "43/43 [==============================] - 0s 8ms/step - loss: 0.0039 - accuracy: 0.9991 - val_loss: 0.0286 - val_accuracy: 0.9978\n",
            "Epoch 14/32\n",
            "43/43 [==============================] - 0s 8ms/step - loss: 0.0019 - accuracy: 0.9991 - val_loss: 0.0271 - val_accuracy: 0.9978\n",
            "Epoch 15/32\n",
            "43/43 [==============================] - 0s 8ms/step - loss: 8.0209e-04 - accuracy: 1.0000 - val_loss: 0.0291 - val_accuracy: 0.9978\n",
            "Epoch 16/32\n",
            "43/43 [==============================] - 0s 8ms/step - loss: 3.9505e-04 - accuracy: 1.0000 - val_loss: 0.0369 - val_accuracy: 0.9978\n",
            "Epoch 17/32\n",
            "43/43 [==============================] - 0s 9ms/step - loss: 2.4341e-04 - accuracy: 1.0000 - val_loss: 0.0356 - val_accuracy: 0.9978\n",
            "Epoch 18/32\n",
            "43/43 [==============================] - 0s 8ms/step - loss: 0.0020 - accuracy: 0.9991 - val_loss: 0.0559 - val_accuracy: 0.9978\n",
            "Epoch 19/32\n",
            "43/43 [==============================] - 0s 8ms/step - loss: 0.0015 - accuracy: 1.0000 - val_loss: 0.0508 - val_accuracy: 0.9978\n",
            "Epoch 20/32\n",
            "43/43 [==============================] - 0s 8ms/step - loss: 0.0054 - accuracy: 0.9991 - val_loss: 0.0152 - val_accuracy: 0.9956\n",
            "Epoch 21/32\n",
            "43/43 [==============================] - 0s 8ms/step - loss: 0.0212 - accuracy: 0.9963 - val_loss: 0.0337 - val_accuracy: 1.0000\n",
            "Epoch 22/32\n",
            "43/43 [==============================] - 0s 9ms/step - loss: 0.0090 - accuracy: 0.9981 - val_loss: 6.8265e-04 - val_accuracy: 1.0000\n",
            "Epoch 23/32\n",
            "43/43 [==============================] - 0s 8ms/step - loss: 0.0019 - accuracy: 1.0000 - val_loss: 0.0064 - val_accuracy: 0.9956\n",
            "Epoch 24/32\n",
            "43/43 [==============================] - 0s 8ms/step - loss: 0.0063 - accuracy: 0.9981 - val_loss: 0.0017 - val_accuracy: 1.0000\n",
            "Epoch 25/32\n",
            "43/43 [==============================] - 0s 8ms/step - loss: 3.5064e-04 - accuracy: 1.0000 - val_loss: 0.0027 - val_accuracy: 0.9978\n",
            "Epoch 26/32\n",
            "43/43 [==============================] - 0s 9ms/step - loss: 1.8276e-04 - accuracy: 1.0000 - val_loss: 0.0021 - val_accuracy: 1.0000\n",
            "Epoch 27/32\n",
            "43/43 [==============================] - 0s 9ms/step - loss: 1.9445e-04 - accuracy: 1.0000 - val_loss: 0.0014 - val_accuracy: 1.0000\n",
            "Epoch 28/32\n",
            "43/43 [==============================] - 0s 11ms/step - loss: 0.0497 - accuracy: 0.9934 - val_loss: 0.0064 - val_accuracy: 0.9978\n",
            "Epoch 29/32\n",
            "43/43 [==============================] - 1s 13ms/step - loss: 0.0092 - accuracy: 0.9972 - val_loss: 0.0064 - val_accuracy: 0.9978\n",
            "Epoch 30/32\n",
            "43/43 [==============================] - 1s 12ms/step - loss: 0.0051 - accuracy: 0.9991 - val_loss: 0.0032 - val_accuracy: 1.0000\n",
            "Epoch 31/32\n",
            "43/43 [==============================] - 1s 12ms/step - loss: 8.6042e-04 - accuracy: 1.0000 - val_loss: 0.0048 - val_accuracy: 0.9978\n",
            "Epoch 32/32\n",
            "43/43 [==============================] - 1s 13ms/step - loss: 3.6138e-04 - accuracy: 1.0000 - val_loss: 0.0042 - val_accuracy: 0.9978\n"
          ]
        }
      ],
      "source": [
        "model=Sequential([\n",
        "    Dense(512,activation='relu',input_shape=(x_train.shape[1],)),\n",
        "    Dropout(0.2),\n",
        "    Dense(256,activation='relu'),\n",
        "    Dropout(0.2),\n",
        "    Dense(128,activation='relu'),\n",
        "    Dropout(0.2),\n",
        "    Dense(64,activation='relu'),\n",
        "    Dropout(0.2),\n",
        "    Dense(10,activation='softmax'),\n",
        "])\n",
        "print(model.summary())\n",
        "model_history = trainModel(model=model,epochs=32,optimizer='adam')"
      ],
      "id": "7Aa8ywvTaTMN"
    },
    {
      "cell_type": "code",
      "execution_count": 818,
      "metadata": {
        "colab": {
          "base_uri": "https://localhost:8080/"
        },
        "outputId": "39ad3987-1c8f-4a29-945f-22c4a371cec7",
        "id": "QA2PvbBQaTMN"
      },
      "outputs": [
        {
          "output_type": "stream",
          "name": "stdout",
          "text": [
            "4/4 [==============================] - 0s 6ms/step - loss: 0.0042 - accuracy: 0.9978\n",
            "Test Loss is :  0.004224283155053854\n",
            "Test Accuracy is :  0.9978166222572327\n"
          ]
        }
      ],
      "source": [
        "test_loss,test_accuracy = model.evaluate(x_test,y_test,batch_size=128)\n",
        "print(\"Test Loss is : \",test_loss)\n",
        "print(\"Test Accuracy is : \",test_accuracy)"
      ],
      "id": "QA2PvbBQaTMN"
    },
    {
      "cell_type": "code",
      "source": [
        "test_accuracy=test_accuracy*100\n",
        "s4.append(test_accuracy)"
      ],
      "metadata": {
        "id": "vIQG9BOIaTMN"
      },
      "execution_count": 819,
      "outputs": [],
      "id": "vIQG9BOIaTMN"
    },
    {
      "cell_type": "markdown",
      "id": "e4cb1f6b",
      "metadata": {
        "id": "e4cb1f6b"
      },
      "source": [
        "## Systematic Sampling"
      ]
    },
    {
      "cell_type": "code",
      "execution_count": 820,
      "id": "1f81dbe4",
      "metadata": {
        "id": "1f81dbe4"
      },
      "outputs": [],
      "source": [
        "def systematic_sampling(df, step):\n",
        " \n",
        "    indexes = np.arange(0, len(df), step=step)\n",
        "    systematic_sample = df.iloc[indexes]\n",
        "    return systematic_sample"
      ]
    },
    {
      "cell_type": "code",
      "execution_count": 821,
      "id": "5d0b70de",
      "metadata": {
        "id": "5d0b70de"
      },
      "outputs": [],
      "source": [
        "df_systematic_sample = systematic_sampling(df_oversampled, 3)"
      ]
    },
    {
      "cell_type": "code",
      "execution_count": 822,
      "id": "227b1f51",
      "metadata": {
        "colab": {
          "base_uri": "https://localhost:8080/",
          "height": 300
        },
        "id": "227b1f51",
        "outputId": "ab1011f9-247d-47c9-c82d-998408633776"
      },
      "outputs": [
        {
          "output_type": "execute_result",
          "data": {
            "text/plain": [
              "    Time        V1        V2        V3        V4        V5        V6  \\\n",
              "0      0 -1.359807 -0.072781  2.536347  1.378155 -0.338321  0.462388   \n",
              "3      1 -0.966272 -0.185226  1.792993 -0.863291 -0.010309  1.247203   \n",
              "6      4  1.229658  0.141004  0.045371  1.202613  0.191881  0.272708   \n",
              "9      9 -0.338262  1.119593  1.044367 -0.222187  0.499361 -0.246761   \n",
              "12    10  1.249999 -1.221637  0.383930 -1.234899 -1.485419 -0.753230   \n",
              "\n",
              "          V7        V8        V9  ...       V21       V22       V23       V24  \\\n",
              "0   0.239599  0.098698  0.363787  ... -0.018307  0.277838 -0.110474  0.066928   \n",
              "3   0.237609  0.377436 -1.387024  ... -0.108300  0.005274 -0.190321 -1.175575   \n",
              "6  -0.005159  0.081213  0.464960  ... -0.167716 -0.270710 -0.154104 -0.780055   \n",
              "9   0.651583  0.069539 -0.736727  ... -0.246914 -0.633753 -0.120794 -0.385050   \n",
              "12 -0.689405 -0.227487 -2.094011  ... -0.231809 -0.483285  0.084668  0.392831   \n",
              "\n",
              "         V25       V26       V27       V28  Amount  Class  \n",
              "0   0.128539 -0.189115  0.133558 -0.021053  149.62      0  \n",
              "3   0.647376 -0.221929  0.062723  0.061458  123.50      0  \n",
              "6   0.750137 -0.257237  0.034507  0.005168    4.99      0  \n",
              "9  -0.069733  0.094199  0.246219  0.083076    3.68      0  \n",
              "12  0.161135 -0.354990  0.026416  0.042422  121.50      0  \n",
              "\n",
              "[5 rows x 31 columns]"
            ],
            "text/html": [
              "\n",
              "  <div id=\"df-5f7dd51b-1c92-415a-badc-0f306a167961\">\n",
              "    <div class=\"colab-df-container\">\n",
              "      <div>\n",
              "<style scoped>\n",
              "    .dataframe tbody tr th:only-of-type {\n",
              "        vertical-align: middle;\n",
              "    }\n",
              "\n",
              "    .dataframe tbody tr th {\n",
              "        vertical-align: top;\n",
              "    }\n",
              "\n",
              "    .dataframe thead th {\n",
              "        text-align: right;\n",
              "    }\n",
              "</style>\n",
              "<table border=\"1\" class=\"dataframe\">\n",
              "  <thead>\n",
              "    <tr style=\"text-align: right;\">\n",
              "      <th></th>\n",
              "      <th>Time</th>\n",
              "      <th>V1</th>\n",
              "      <th>V2</th>\n",
              "      <th>V3</th>\n",
              "      <th>V4</th>\n",
              "      <th>V5</th>\n",
              "      <th>V6</th>\n",
              "      <th>V7</th>\n",
              "      <th>V8</th>\n",
              "      <th>V9</th>\n",
              "      <th>...</th>\n",
              "      <th>V21</th>\n",
              "      <th>V22</th>\n",
              "      <th>V23</th>\n",
              "      <th>V24</th>\n",
              "      <th>V25</th>\n",
              "      <th>V26</th>\n",
              "      <th>V27</th>\n",
              "      <th>V28</th>\n",
              "      <th>Amount</th>\n",
              "      <th>Class</th>\n",
              "    </tr>\n",
              "  </thead>\n",
              "  <tbody>\n",
              "    <tr>\n",
              "      <th>0</th>\n",
              "      <td>0</td>\n",
              "      <td>-1.359807</td>\n",
              "      <td>-0.072781</td>\n",
              "      <td>2.536347</td>\n",
              "      <td>1.378155</td>\n",
              "      <td>-0.338321</td>\n",
              "      <td>0.462388</td>\n",
              "      <td>0.239599</td>\n",
              "      <td>0.098698</td>\n",
              "      <td>0.363787</td>\n",
              "      <td>...</td>\n",
              "      <td>-0.018307</td>\n",
              "      <td>0.277838</td>\n",
              "      <td>-0.110474</td>\n",
              "      <td>0.066928</td>\n",
              "      <td>0.128539</td>\n",
              "      <td>-0.189115</td>\n",
              "      <td>0.133558</td>\n",
              "      <td>-0.021053</td>\n",
              "      <td>149.62</td>\n",
              "      <td>0</td>\n",
              "    </tr>\n",
              "    <tr>\n",
              "      <th>3</th>\n",
              "      <td>1</td>\n",
              "      <td>-0.966272</td>\n",
              "      <td>-0.185226</td>\n",
              "      <td>1.792993</td>\n",
              "      <td>-0.863291</td>\n",
              "      <td>-0.010309</td>\n",
              "      <td>1.247203</td>\n",
              "      <td>0.237609</td>\n",
              "      <td>0.377436</td>\n",
              "      <td>-1.387024</td>\n",
              "      <td>...</td>\n",
              "      <td>-0.108300</td>\n",
              "      <td>0.005274</td>\n",
              "      <td>-0.190321</td>\n",
              "      <td>-1.175575</td>\n",
              "      <td>0.647376</td>\n",
              "      <td>-0.221929</td>\n",
              "      <td>0.062723</td>\n",
              "      <td>0.061458</td>\n",
              "      <td>123.50</td>\n",
              "      <td>0</td>\n",
              "    </tr>\n",
              "    <tr>\n",
              "      <th>6</th>\n",
              "      <td>4</td>\n",
              "      <td>1.229658</td>\n",
              "      <td>0.141004</td>\n",
              "      <td>0.045371</td>\n",
              "      <td>1.202613</td>\n",
              "      <td>0.191881</td>\n",
              "      <td>0.272708</td>\n",
              "      <td>-0.005159</td>\n",
              "      <td>0.081213</td>\n",
              "      <td>0.464960</td>\n",
              "      <td>...</td>\n",
              "      <td>-0.167716</td>\n",
              "      <td>-0.270710</td>\n",
              "      <td>-0.154104</td>\n",
              "      <td>-0.780055</td>\n",
              "      <td>0.750137</td>\n",
              "      <td>-0.257237</td>\n",
              "      <td>0.034507</td>\n",
              "      <td>0.005168</td>\n",
              "      <td>4.99</td>\n",
              "      <td>0</td>\n",
              "    </tr>\n",
              "    <tr>\n",
              "      <th>9</th>\n",
              "      <td>9</td>\n",
              "      <td>-0.338262</td>\n",
              "      <td>1.119593</td>\n",
              "      <td>1.044367</td>\n",
              "      <td>-0.222187</td>\n",
              "      <td>0.499361</td>\n",
              "      <td>-0.246761</td>\n",
              "      <td>0.651583</td>\n",
              "      <td>0.069539</td>\n",
              "      <td>-0.736727</td>\n",
              "      <td>...</td>\n",
              "      <td>-0.246914</td>\n",
              "      <td>-0.633753</td>\n",
              "      <td>-0.120794</td>\n",
              "      <td>-0.385050</td>\n",
              "      <td>-0.069733</td>\n",
              "      <td>0.094199</td>\n",
              "      <td>0.246219</td>\n",
              "      <td>0.083076</td>\n",
              "      <td>3.68</td>\n",
              "      <td>0</td>\n",
              "    </tr>\n",
              "    <tr>\n",
              "      <th>12</th>\n",
              "      <td>10</td>\n",
              "      <td>1.249999</td>\n",
              "      <td>-1.221637</td>\n",
              "      <td>0.383930</td>\n",
              "      <td>-1.234899</td>\n",
              "      <td>-1.485419</td>\n",
              "      <td>-0.753230</td>\n",
              "      <td>-0.689405</td>\n",
              "      <td>-0.227487</td>\n",
              "      <td>-2.094011</td>\n",
              "      <td>...</td>\n",
              "      <td>-0.231809</td>\n",
              "      <td>-0.483285</td>\n",
              "      <td>0.084668</td>\n",
              "      <td>0.392831</td>\n",
              "      <td>0.161135</td>\n",
              "      <td>-0.354990</td>\n",
              "      <td>0.026416</td>\n",
              "      <td>0.042422</td>\n",
              "      <td>121.50</td>\n",
              "      <td>0</td>\n",
              "    </tr>\n",
              "  </tbody>\n",
              "</table>\n",
              "<p>5 rows × 31 columns</p>\n",
              "</div>\n",
              "      <button class=\"colab-df-convert\" onclick=\"convertToInteractive('df-5f7dd51b-1c92-415a-badc-0f306a167961')\"\n",
              "              title=\"Convert this dataframe to an interactive table.\"\n",
              "              style=\"display:none;\">\n",
              "        \n",
              "  <svg xmlns=\"http://www.w3.org/2000/svg\" height=\"24px\"viewBox=\"0 0 24 24\"\n",
              "       width=\"24px\">\n",
              "    <path d=\"M0 0h24v24H0V0z\" fill=\"none\"/>\n",
              "    <path d=\"M18.56 5.44l.94 2.06.94-2.06 2.06-.94-2.06-.94-.94-2.06-.94 2.06-2.06.94zm-11 1L8.5 8.5l.94-2.06 2.06-.94-2.06-.94L8.5 2.5l-.94 2.06-2.06.94zm10 10l.94 2.06.94-2.06 2.06-.94-2.06-.94-.94-2.06-.94 2.06-2.06.94z\"/><path d=\"M17.41 7.96l-1.37-1.37c-.4-.4-.92-.59-1.43-.59-.52 0-1.04.2-1.43.59L10.3 9.45l-7.72 7.72c-.78.78-.78 2.05 0 2.83L4 21.41c.39.39.9.59 1.41.59.51 0 1.02-.2 1.41-.59l7.78-7.78 2.81-2.81c.8-.78.8-2.07 0-2.86zM5.41 20L4 18.59l7.72-7.72 1.47 1.35L5.41 20z\"/>\n",
              "  </svg>\n",
              "      </button>\n",
              "      \n",
              "  <style>\n",
              "    .colab-df-container {\n",
              "      display:flex;\n",
              "      flex-wrap:wrap;\n",
              "      gap: 12px;\n",
              "    }\n",
              "\n",
              "    .colab-df-convert {\n",
              "      background-color: #E8F0FE;\n",
              "      border: none;\n",
              "      border-radius: 50%;\n",
              "      cursor: pointer;\n",
              "      display: none;\n",
              "      fill: #1967D2;\n",
              "      height: 32px;\n",
              "      padding: 0 0 0 0;\n",
              "      width: 32px;\n",
              "    }\n",
              "\n",
              "    .colab-df-convert:hover {\n",
              "      background-color: #E2EBFA;\n",
              "      box-shadow: 0px 1px 2px rgba(60, 64, 67, 0.3), 0px 1px 3px 1px rgba(60, 64, 67, 0.15);\n",
              "      fill: #174EA6;\n",
              "    }\n",
              "\n",
              "    [theme=dark] .colab-df-convert {\n",
              "      background-color: #3B4455;\n",
              "      fill: #D2E3FC;\n",
              "    }\n",
              "\n",
              "    [theme=dark] .colab-df-convert:hover {\n",
              "      background-color: #434B5C;\n",
              "      box-shadow: 0px 1px 3px 1px rgba(0, 0, 0, 0.15);\n",
              "      filter: drop-shadow(0px 1px 2px rgba(0, 0, 0, 0.3));\n",
              "      fill: #FFFFFF;\n",
              "    }\n",
              "  </style>\n",
              "\n",
              "      <script>\n",
              "        const buttonEl =\n",
              "          document.querySelector('#df-5f7dd51b-1c92-415a-badc-0f306a167961 button.colab-df-convert');\n",
              "        buttonEl.style.display =\n",
              "          google.colab.kernel.accessAllowed ? 'block' : 'none';\n",
              "\n",
              "        async function convertToInteractive(key) {\n",
              "          const element = document.querySelector('#df-5f7dd51b-1c92-415a-badc-0f306a167961');\n",
              "          const dataTable =\n",
              "            await google.colab.kernel.invokeFunction('convertToInteractive',\n",
              "                                                     [key], {});\n",
              "          if (!dataTable) return;\n",
              "\n",
              "          const docLinkHtml = 'Like what you see? Visit the ' +\n",
              "            '<a target=\"_blank\" href=https://colab.research.google.com/notebooks/data_table.ipynb>data table notebook</a>'\n",
              "            + ' to learn more about interactive tables.';\n",
              "          element.innerHTML = '';\n",
              "          dataTable['output_type'] = 'display_data';\n",
              "          await google.colab.output.renderOutput(dataTable, element);\n",
              "          const docLink = document.createElement('div');\n",
              "          docLink.innerHTML = docLinkHtml;\n",
              "          element.appendChild(docLink);\n",
              "        }\n",
              "      </script>\n",
              "    </div>\n",
              "  </div>\n",
              "  "
            ]
          },
          "metadata": {},
          "execution_count": 822
        }
      ],
      "source": [
        "df_systematic_sample.head()"
      ]
    },
    {
      "cell_type": "code",
      "execution_count": 823,
      "id": "0edef73e",
      "metadata": {
        "colab": {
          "base_uri": "https://localhost:8080/"
        },
        "id": "0edef73e",
        "outputId": "a27e7f26-448c-4057-e919-e9a4783282de"
      },
      "outputs": [
        {
          "output_type": "execute_result",
          "data": {
            "text/plain": [
              "0    255\n",
              "1    254\n",
              "Name: Class, dtype: int64"
            ]
          },
          "metadata": {},
          "execution_count": 823
        }
      ],
      "source": [
        "df_systematic_sample[\"Class\"].value_counts()"
      ]
    },
    {
      "cell_type": "code",
      "execution_count": 824,
      "id": "69b8d1c9",
      "metadata": {
        "id": "69b8d1c9"
      },
      "outputs": [],
      "source": [
        "X = df_systematic_sample.iloc[:, :-1]\n",
        "Y = df_systematic_sample.iloc[:, -1]"
      ]
    },
    {
      "cell_type": "code",
      "execution_count": 825,
      "id": "2e774c7b",
      "metadata": {
        "id": "2e774c7b"
      },
      "outputs": [],
      "source": [
        "from sklearn.model_selection import train_test_split\n",
        "x_train_orig, x_test_orig, y_train, y_test = train_test_split(X, Y, test_size=0.3, random_state=40)"
      ]
    },
    {
      "cell_type": "code",
      "execution_count": 826,
      "id": "ff277ce2",
      "metadata": {
        "id": "ff277ce2"
      },
      "outputs": [],
      "source": [
        "from sklearn.preprocessing import StandardScaler\n",
        "sc = StandardScaler()\n",
        "x_train = sc.fit_transform(x_train_orig)\n",
        "x_test = sc.fit_transform(x_test_orig)"
      ]
    },
    {
      "cell_type": "markdown",
      "id": "56a9f377",
      "metadata": {
        "id": "56a9f377"
      },
      "source": [
        "### KNN model"
      ]
    },
    {
      "cell_type": "code",
      "execution_count": 827,
      "id": "587d73ca",
      "metadata": {
        "colab": {
          "base_uri": "https://localhost:8080/"
        },
        "id": "587d73ca",
        "outputId": "6c426aa4-eb8d-4a60-de29-f95b2d5abe11"
      },
      "outputs": [
        {
          "output_type": "stream",
          "name": "stdout",
          "text": [
            "Accuracy for our testing dataset with tuning is : 82.35%\n"
          ]
        }
      ],
      "source": [
        "from sklearn.neighbors import KNeighborsClassifier\n",
        "knn = KNeighborsClassifier(n_neighbors=19)\n",
        "knn.fit(x_train, y_train)\n",
        "pred=knn.predict(x_test) \n",
        "test_accuracy=accuracy_score(y_test,pred)*100\n",
        "s5.append(test_accuracy)\n",
        "print(\"Accuracy for our testing dataset with tuning is : {:.2f}%\".format(test_accuracy))"
      ]
    },
    {
      "cell_type": "code",
      "execution_count": 828,
      "id": "8436c877",
      "metadata": {
        "colab": {
          "base_uri": "https://localhost:8080/"
        },
        "id": "8436c877",
        "outputId": "07d88034-7b37-4b10-97b5-6d74d6fcdbfa"
      },
      "outputs": [
        {
          "output_type": "stream",
          "name": "stdout",
          "text": [
            "              precision    recall  f1-score   support\n",
            "\n",
            "           0       1.00      0.64      0.78        75\n",
            "           1       0.74      1.00      0.85        78\n",
            "\n",
            "    accuracy                           0.82       153\n",
            "   macro avg       0.87      0.82      0.82       153\n",
            "weighted avg       0.87      0.82      0.82       153\n",
            "\n"
          ]
        }
      ],
      "source": [
        "print(classification_report(y_test, pred))"
      ]
    },
    {
      "cell_type": "markdown",
      "id": "40c60a34",
      "metadata": {
        "id": "40c60a34"
      },
      "source": [
        "### Naive Bayes"
      ]
    },
    {
      "cell_type": "code",
      "execution_count": 829,
      "id": "1f537087",
      "metadata": {
        "colab": {
          "base_uri": "https://localhost:8080/"
        },
        "id": "1f537087",
        "outputId": "7e1ddaa8-fad4-4649-d783-ea6d487fe478"
      },
      "outputs": [
        {
          "output_type": "execute_result",
          "data": {
            "text/plain": [
              "GaussianNB()"
            ]
          },
          "metadata": {},
          "execution_count": 829
        }
      ],
      "source": [
        "from sklearn.naive_bayes import GaussianNB\n",
        "\n",
        "nb_classifier = GaussianNB()\n",
        "nb_classifier.fit(x_train, y_train)"
      ]
    },
    {
      "cell_type": "code",
      "execution_count": 830,
      "id": "b8f04d6c",
      "metadata": {
        "id": "b8f04d6c"
      },
      "outputs": [],
      "source": [
        "pred = nb_classifier.predict(x_test)"
      ]
    },
    {
      "cell_type": "code",
      "execution_count": 831,
      "id": "c3847c06",
      "metadata": {
        "colab": {
          "base_uri": "https://localhost:8080/"
        },
        "id": "c3847c06",
        "outputId": "921794af-433f-4b1e-88e3-3c7096caa1b6"
      },
      "outputs": [
        {
          "output_type": "stream",
          "name": "stdout",
          "text": [
            "[[73  2]\n",
            " [31 47]]\n"
          ]
        }
      ],
      "source": [
        "print(confusion_matrix(y_test, pred))"
      ]
    },
    {
      "cell_type": "code",
      "execution_count": 832,
      "id": "1974e5e1",
      "metadata": {
        "colab": {
          "base_uri": "https://localhost:8080/"
        },
        "id": "1974e5e1",
        "outputId": "1068e28d-bea5-4cd1-cf4a-9cca24cbf65d"
      },
      "outputs": [
        {
          "output_type": "stream",
          "name": "stdout",
          "text": [
            "              precision    recall  f1-score   support\n",
            "\n",
            "           0       0.70      0.97      0.82        75\n",
            "           1       0.96      0.60      0.74        78\n",
            "\n",
            "    accuracy                           0.78       153\n",
            "   macro avg       0.83      0.79      0.78       153\n",
            "weighted avg       0.83      0.78      0.78       153\n",
            "\n"
          ]
        }
      ],
      "source": [
        "print(classification_report(y_test, pred))"
      ]
    },
    {
      "cell_type": "code",
      "execution_count": 833,
      "id": "cff3dea8",
      "metadata": {
        "id": "cff3dea8"
      },
      "outputs": [],
      "source": [
        "pred_train = nb_classifier.predict(x_train)"
      ]
    },
    {
      "cell_type": "code",
      "source": [
        "test_accuracy=accuracy_score(y_test,pred)*100\n",
        "s5.append(test_accuracy)"
      ],
      "metadata": {
        "id": "_2bBeM3EJFgy"
      },
      "id": "_2bBeM3EJFgy",
      "execution_count": 834,
      "outputs": []
    },
    {
      "cell_type": "code",
      "execution_count": 835,
      "id": "3793a307",
      "metadata": {
        "colab": {
          "base_uri": "https://localhost:8080/"
        },
        "id": "3793a307",
        "outputId": "f78624c7-ab27-4362-ddb2-00088826a95e"
      },
      "outputs": [
        {
          "output_type": "stream",
          "name": "stdout",
          "text": [
            "Accuracy score on testing data: 0.7843137254901961\n",
            "Accuracy score on training data: 0.7584269662921348\n"
          ]
        }
      ],
      "source": [
        "print(f\"Accuracy score on testing data: {accuracy_score(y_test, pred)}\")\n",
        "print(f\"Accuracy score on training data: {accuracy_score(y_train, pred_train)}\")"
      ]
    },
    {
      "cell_type": "markdown",
      "id": "8d4a4a8f",
      "metadata": {
        "id": "8d4a4a8f"
      },
      "source": [
        "### Logistic Regression"
      ]
    },
    {
      "cell_type": "code",
      "execution_count": 836,
      "id": "5ada3dd8",
      "metadata": {
        "colab": {
          "base_uri": "https://localhost:8080/"
        },
        "id": "5ada3dd8",
        "outputId": "76645c21-3334-4705-ba0f-9936406451c0"
      },
      "outputs": [
        {
          "output_type": "execute_result",
          "data": {
            "text/plain": [
              "LogisticRegression()"
            ]
          },
          "metadata": {},
          "execution_count": 836
        }
      ],
      "source": [
        "from sklearn.linear_model import LogisticRegression\n",
        "\n",
        "log_reg = LogisticRegression()\n",
        "log_reg.fit(x_train, y_train)"
      ]
    },
    {
      "cell_type": "code",
      "execution_count": 837,
      "id": "681060d9",
      "metadata": {
        "id": "681060d9"
      },
      "outputs": [],
      "source": [
        "pred = log_reg.predict(x_test)"
      ]
    },
    {
      "cell_type": "code",
      "execution_count": 838,
      "id": "2c5e310f",
      "metadata": {
        "colab": {
          "base_uri": "https://localhost:8080/"
        },
        "id": "2c5e310f",
        "outputId": "387ca280-f93b-4812-edc5-6824ae22e352"
      },
      "outputs": [
        {
          "output_type": "stream",
          "name": "stdout",
          "text": [
            "[[65 10]\n",
            " [ 2 76]]\n"
          ]
        }
      ],
      "source": [
        "print(confusion_matrix(y_test, pred))"
      ]
    },
    {
      "cell_type": "code",
      "execution_count": 839,
      "id": "65f91b38",
      "metadata": {
        "colab": {
          "base_uri": "https://localhost:8080/"
        },
        "id": "65f91b38",
        "outputId": "f942fba1-88f5-4290-aa1b-c94659590e1f"
      },
      "outputs": [
        {
          "output_type": "stream",
          "name": "stdout",
          "text": [
            "              precision    recall  f1-score   support\n",
            "\n",
            "           0       0.97      0.87      0.92        75\n",
            "           1       0.88      0.97      0.93        78\n",
            "\n",
            "    accuracy                           0.92       153\n",
            "   macro avg       0.93      0.92      0.92       153\n",
            "weighted avg       0.93      0.92      0.92       153\n",
            "\n"
          ]
        }
      ],
      "source": [
        "print(classification_report(y_test, pred))"
      ]
    },
    {
      "cell_type": "code",
      "execution_count": 840,
      "id": "ee618ff6",
      "metadata": {
        "id": "ee618ff6"
      },
      "outputs": [],
      "source": [
        "pred_train = log_reg.predict(x_train)"
      ]
    },
    {
      "cell_type": "code",
      "source": [
        "test_accuracy=accuracy_score(y_test,pred)*100\n",
        "s5.append(test_accuracy)"
      ],
      "metadata": {
        "id": "ZMJQkySKJGey"
      },
      "id": "ZMJQkySKJGey",
      "execution_count": 841,
      "outputs": []
    },
    {
      "cell_type": "code",
      "execution_count": 842,
      "id": "df6783ca",
      "metadata": {
        "colab": {
          "base_uri": "https://localhost:8080/"
        },
        "id": "df6783ca",
        "outputId": "04723218-174d-487a-996c-d7bd283c9949"
      },
      "outputs": [
        {
          "output_type": "stream",
          "name": "stdout",
          "text": [
            "Accuracy score on testing data: 0.9215686274509803\n",
            "Accuracy score on training data: 0.9438202247191011\n"
          ]
        }
      ],
      "source": [
        "print(f\"Accuracy score on testing data: {accuracy_score(y_test, pred)}\")\n",
        "print(f\"Accuracy score on training data: {accuracy_score(y_train, pred_train)}\")"
      ]
    },
    {
      "cell_type": "markdown",
      "metadata": {
        "id": "KFSxQJPgYT3A"
      },
      "source": [
        "### Random Forest"
      ],
      "id": "KFSxQJPgYT3A"
    },
    {
      "cell_type": "code",
      "execution_count": 843,
      "metadata": {
        "id": "sD1FbM68YT3B"
      },
      "outputs": [],
      "source": [
        "from sklearn.ensemble import RandomForestClassifier\n",
        "cf = RandomForestClassifier(n_estimators = 100, random_state = 42)\n",
        "cf.fit(x_train, y_train);"
      ],
      "id": "sD1FbM68YT3B"
    },
    {
      "cell_type": "code",
      "execution_count": 844,
      "metadata": {
        "id": "wW9rjRgjYT3B"
      },
      "outputs": [],
      "source": [
        "pred = cf.predict(x_test)"
      ],
      "id": "wW9rjRgjYT3B"
    },
    {
      "cell_type": "code",
      "execution_count": 845,
      "metadata": {
        "colab": {
          "base_uri": "https://localhost:8080/"
        },
        "outputId": "d02073f1-010d-4814-f057-2f1ea0768c7e",
        "id": "wmcJzMGZYT3B"
      },
      "outputs": [
        {
          "output_type": "stream",
          "name": "stdout",
          "text": [
            "[[75  0]\n",
            " [17 61]]\n"
          ]
        }
      ],
      "source": [
        "print(confusion_matrix(y_test, pred))"
      ],
      "id": "wmcJzMGZYT3B"
    },
    {
      "cell_type": "code",
      "execution_count": 846,
      "metadata": {
        "colab": {
          "base_uri": "https://localhost:8080/"
        },
        "outputId": "f33d8ae3-1163-4c12-f42c-6358cbe242f6",
        "id": "PyPJe0X-YT3B"
      },
      "outputs": [
        {
          "output_type": "stream",
          "name": "stdout",
          "text": [
            "              precision    recall  f1-score   support\n",
            "\n",
            "           0       0.82      1.00      0.90        75\n",
            "           1       1.00      0.78      0.88        78\n",
            "\n",
            "    accuracy                           0.89       153\n",
            "   macro avg       0.91      0.89      0.89       153\n",
            "weighted avg       0.91      0.89      0.89       153\n",
            "\n"
          ]
        }
      ],
      "source": [
        "print(classification_report(y_test, pred))"
      ],
      "id": "PyPJe0X-YT3B"
    },
    {
      "cell_type": "code",
      "execution_count": 847,
      "metadata": {
        "id": "HlBNUXfmYT3B"
      },
      "outputs": [],
      "source": [
        "pred_train = cf.predict(x_train)"
      ],
      "id": "HlBNUXfmYT3B"
    },
    {
      "cell_type": "code",
      "source": [
        "test_accuracy = accuracy_score(y_test, pred)*100\n",
        "s5.append(test_accuracy)"
      ],
      "metadata": {
        "id": "QA2sTLdUYT3B"
      },
      "execution_count": 848,
      "outputs": [],
      "id": "QA2sTLdUYT3B"
    },
    {
      "cell_type": "code",
      "execution_count": 849,
      "metadata": {
        "colab": {
          "base_uri": "https://localhost:8080/"
        },
        "outputId": "dda634e5-fd33-4cd8-ce91-dca1522bd678",
        "id": "WnGkZK1vYT3B"
      },
      "outputs": [
        {
          "output_type": "stream",
          "name": "stdout",
          "text": [
            "Accuracy score on testing data: 0.8888888888888888\n",
            "Accuracy score on training data: 1.0\n"
          ]
        }
      ],
      "source": [
        "print(f\"Accuracy score on testing data: {accuracy_score(y_test, pred)}\")\n",
        "print(f\"Accuracy score on training data: {accuracy_score(y_train, pred_train)}\")"
      ],
      "id": "WnGkZK1vYT3B"
    },
    {
      "cell_type": "markdown",
      "id": "f78febb0",
      "metadata": {
        "id": "f78febb0"
      },
      "source": [
        "### CNN"
      ]
    },
    {
      "cell_type": "code",
      "execution_count": 850,
      "id": "f12e0694",
      "metadata": {
        "id": "f12e0694"
      },
      "outputs": [],
      "source": [
        "from keras.models import Sequential\n",
        "from keras.layers import Dense, Dropout"
      ]
    },
    {
      "cell_type": "code",
      "execution_count": 851,
      "id": "f98de15b",
      "metadata": {
        "id": "f98de15b"
      },
      "outputs": [],
      "source": [
        "def trainModel(model, epochs, optimizer):\n",
        "  batchsize = 128\n",
        "  model.compile(optimizer=optimizer, loss='sparse_categorical_crossentropy', metrics='accuracy')\n",
        "  return model.fit(x_train, y_train,validation_data=(x_test,y_test), epochs=epochs, batch_size=batchsize)"
      ]
    },
    {
      "cell_type": "code",
      "execution_count": 852,
      "id": "34a5712c",
      "metadata": {
        "id": "34a5712c"
      },
      "outputs": [],
      "source": [
        "def validate(history):\n",
        "  print(\"Validation Accuracy\",max(history.history[\"val_accuracy\"]))\n",
        "  pd.DataFrame(history.history).plot(figsize=(12,6))\n",
        "  plt.show()"
      ]
    },
    {
      "cell_type": "code",
      "execution_count": 853,
      "id": "5111db20",
      "metadata": {
        "colab": {
          "base_uri": "https://localhost:8080/"
        },
        "id": "5111db20",
        "outputId": "0bf6dc41-8cf9-4e8f-cd21-bb4575835573"
      },
      "outputs": [
        {
          "output_type": "stream",
          "name": "stdout",
          "text": [
            "Model: \"sequential_27\"\n",
            "_________________________________________________________________\n",
            " Layer (type)                Output Shape              Param #   \n",
            "=================================================================\n",
            " dense_135 (Dense)           (None, 512)               15872     \n",
            "                                                                 \n",
            " dropout_108 (Dropout)       (None, 512)               0         \n",
            "                                                                 \n",
            " dense_136 (Dense)           (None, 256)               131328    \n",
            "                                                                 \n",
            " dropout_109 (Dropout)       (None, 256)               0         \n",
            "                                                                 \n",
            " dense_137 (Dense)           (None, 128)               32896     \n",
            "                                                                 \n",
            " dropout_110 (Dropout)       (None, 128)               0         \n",
            "                                                                 \n",
            " dense_138 (Dense)           (None, 64)                8256      \n",
            "                                                                 \n",
            " dropout_111 (Dropout)       (None, 64)                0         \n",
            "                                                                 \n",
            " dense_139 (Dense)           (None, 10)                650       \n",
            "                                                                 \n",
            "=================================================================\n",
            "Total params: 189,002\n",
            "Trainable params: 189,002\n",
            "Non-trainable params: 0\n",
            "_________________________________________________________________\n",
            "None\n",
            "Epoch 1/200\n",
            "3/3 [==============================] - 1s 107ms/step - loss: 2.2733 - accuracy: 0.2303 - val_loss: 1.7137 - val_accuracy: 0.8497\n",
            "Epoch 2/200\n",
            "3/3 [==============================] - 0s 38ms/step - loss: 1.5433 - accuracy: 0.6910 - val_loss: 1.0045 - val_accuracy: 0.8039\n",
            "Epoch 3/200\n",
            "3/3 [==============================] - 0s 29ms/step - loss: 0.9257 - accuracy: 0.6713 - val_loss: 0.5695 - val_accuracy: 0.8105\n",
            "Epoch 4/200\n",
            "3/3 [==============================] - 0s 27ms/step - loss: 0.6697 - accuracy: 0.6910 - val_loss: 0.4136 - val_accuracy: 0.8105\n",
            "Epoch 5/200\n",
            "3/3 [==============================] - 0s 34ms/step - loss: 0.5981 - accuracy: 0.7331 - val_loss: 0.3058 - val_accuracy: 0.9673\n",
            "Epoch 6/200\n",
            "3/3 [==============================] - 0s 30ms/step - loss: 0.4782 - accuracy: 0.7921 - val_loss: 0.2273 - val_accuracy: 0.9673\n",
            "Epoch 7/200\n",
            "3/3 [==============================] - 0s 29ms/step - loss: 0.3438 - accuracy: 0.8427 - val_loss: 0.1776 - val_accuracy: 0.9542\n",
            "Epoch 8/200\n",
            "3/3 [==============================] - 0s 35ms/step - loss: 0.2741 - accuracy: 0.8876 - val_loss: 0.1488 - val_accuracy: 0.9608\n",
            "Epoch 9/200\n",
            "3/3 [==============================] - 0s 34ms/step - loss: 0.1795 - accuracy: 0.9326 - val_loss: 0.1186 - val_accuracy: 0.9608\n",
            "Epoch 10/200\n",
            "3/3 [==============================] - 0s 39ms/step - loss: 0.1145 - accuracy: 0.9607 - val_loss: 0.1015 - val_accuracy: 0.9608\n",
            "Epoch 11/200\n",
            "3/3 [==============================] - 0s 36ms/step - loss: 0.0667 - accuracy: 0.9860 - val_loss: 0.0896 - val_accuracy: 0.9673\n",
            "Epoch 12/200\n",
            "3/3 [==============================] - 0s 42ms/step - loss: 0.0583 - accuracy: 0.9860 - val_loss: 0.0883 - val_accuracy: 0.9673\n",
            "Epoch 13/200\n",
            "3/3 [==============================] - 0s 30ms/step - loss: 0.0583 - accuracy: 0.9831 - val_loss: 0.0934 - val_accuracy: 0.9739\n",
            "Epoch 14/200\n",
            "3/3 [==============================] - 0s 27ms/step - loss: 0.0521 - accuracy: 0.9860 - val_loss: 0.0892 - val_accuracy: 0.9804\n",
            "Epoch 15/200\n",
            "3/3 [==============================] - 0s 27ms/step - loss: 0.0392 - accuracy: 0.9916 - val_loss: 0.0939 - val_accuracy: 0.9804\n",
            "Epoch 16/200\n",
            "3/3 [==============================] - 0s 34ms/step - loss: 0.0265 - accuracy: 0.9860 - val_loss: 0.1009 - val_accuracy: 0.9804\n",
            "Epoch 17/200\n",
            "3/3 [==============================] - 0s 28ms/step - loss: 0.0262 - accuracy: 0.9916 - val_loss: 0.1115 - val_accuracy: 0.9804\n",
            "Epoch 18/200\n",
            "3/3 [==============================] - 0s 28ms/step - loss: 0.0366 - accuracy: 0.9888 - val_loss: 0.1141 - val_accuracy: 0.9804\n",
            "Epoch 19/200\n",
            "3/3 [==============================] - 0s 39ms/step - loss: 0.0193 - accuracy: 0.9944 - val_loss: 0.1219 - val_accuracy: 0.9804\n",
            "Epoch 20/200\n",
            "3/3 [==============================] - 0s 36ms/step - loss: 0.0319 - accuracy: 0.9944 - val_loss: 0.1403 - val_accuracy: 0.9739\n",
            "Epoch 21/200\n",
            "3/3 [==============================] - 0s 34ms/step - loss: 0.0123 - accuracy: 0.9972 - val_loss: 0.1438 - val_accuracy: 0.9739\n",
            "Epoch 22/200\n",
            "3/3 [==============================] - 0s 37ms/step - loss: 0.0225 - accuracy: 0.9916 - val_loss: 0.1187 - val_accuracy: 0.9804\n",
            "Epoch 23/200\n",
            "3/3 [==============================] - 0s 28ms/step - loss: 0.0247 - accuracy: 0.9944 - val_loss: 0.1105 - val_accuracy: 0.9804\n",
            "Epoch 24/200\n",
            "3/3 [==============================] - 0s 35ms/step - loss: 0.0145 - accuracy: 1.0000 - val_loss: 0.1224 - val_accuracy: 0.9739\n",
            "Epoch 25/200\n",
            "3/3 [==============================] - 0s 27ms/step - loss: 0.0095 - accuracy: 0.9972 - val_loss: 0.1268 - val_accuracy: 0.9739\n",
            "Epoch 26/200\n",
            "3/3 [==============================] - 0s 27ms/step - loss: 0.0146 - accuracy: 0.9916 - val_loss: 0.1140 - val_accuracy: 0.9804\n",
            "Epoch 27/200\n",
            "3/3 [==============================] - 0s 33ms/step - loss: 0.0109 - accuracy: 0.9972 - val_loss: 0.1013 - val_accuracy: 0.9804\n",
            "Epoch 28/200\n",
            "3/3 [==============================] - 0s 27ms/step - loss: 0.0096 - accuracy: 1.0000 - val_loss: 0.1024 - val_accuracy: 0.9804\n",
            "Epoch 29/200\n",
            "3/3 [==============================] - 0s 26ms/step - loss: 0.0221 - accuracy: 0.9944 - val_loss: 0.1244 - val_accuracy: 0.9804\n",
            "Epoch 30/200\n",
            "3/3 [==============================] - 0s 27ms/step - loss: 0.0063 - accuracy: 0.9972 - val_loss: 0.1323 - val_accuracy: 0.9804\n",
            "Epoch 31/200\n",
            "3/3 [==============================] - 0s 31ms/step - loss: 0.0126 - accuracy: 0.9916 - val_loss: 0.1269 - val_accuracy: 0.9804\n",
            "Epoch 32/200\n",
            "3/3 [==============================] - 0s 36ms/step - loss: 0.0225 - accuracy: 0.9916 - val_loss: 0.1201 - val_accuracy: 0.9804\n",
            "Epoch 33/200\n",
            "3/3 [==============================] - 0s 34ms/step - loss: 0.0082 - accuracy: 1.0000 - val_loss: 0.1425 - val_accuracy: 0.9804\n",
            "Epoch 34/200\n",
            "3/3 [==============================] - 0s 38ms/step - loss: 0.0052 - accuracy: 1.0000 - val_loss: 0.1687 - val_accuracy: 0.9804\n",
            "Epoch 35/200\n",
            "3/3 [==============================] - 0s 26ms/step - loss: 0.0115 - accuracy: 0.9972 - val_loss: 0.1745 - val_accuracy: 0.9804\n",
            "Epoch 36/200\n",
            "3/3 [==============================] - 0s 30ms/step - loss: 0.0222 - accuracy: 0.9944 - val_loss: 0.1608 - val_accuracy: 0.9804\n",
            "Epoch 37/200\n",
            "3/3 [==============================] - 0s 27ms/step - loss: 0.0081 - accuracy: 0.9972 - val_loss: 0.1314 - val_accuracy: 0.9673\n",
            "Epoch 38/200\n",
            "3/3 [==============================] - 0s 28ms/step - loss: 0.0206 - accuracy: 0.9944 - val_loss: 0.1274 - val_accuracy: 0.9804\n",
            "Epoch 39/200\n",
            "3/3 [==============================] - 0s 40ms/step - loss: 0.0059 - accuracy: 1.0000 - val_loss: 0.1732 - val_accuracy: 0.9804\n",
            "Epoch 40/200\n",
            "3/3 [==============================] - 0s 36ms/step - loss: 0.0132 - accuracy: 0.9944 - val_loss: 0.1875 - val_accuracy: 0.9804\n",
            "Epoch 41/200\n",
            "3/3 [==============================] - 0s 30ms/step - loss: 0.0035 - accuracy: 1.0000 - val_loss: 0.1868 - val_accuracy: 0.9804\n",
            "Epoch 42/200\n",
            "3/3 [==============================] - 0s 35ms/step - loss: 0.0094 - accuracy: 0.9972 - val_loss: 0.1757 - val_accuracy: 0.9804\n",
            "Epoch 43/200\n",
            "3/3 [==============================] - 0s 39ms/step - loss: 0.0069 - accuracy: 1.0000 - val_loss: 0.1697 - val_accuracy: 0.9804\n",
            "Epoch 44/200\n",
            "3/3 [==============================] - 0s 27ms/step - loss: 0.0050 - accuracy: 1.0000 - val_loss: 0.1769 - val_accuracy: 0.9804\n",
            "Epoch 45/200\n",
            "3/3 [==============================] - 0s 28ms/step - loss: 0.0032 - accuracy: 1.0000 - val_loss: 0.1864 - val_accuracy: 0.9804\n",
            "Epoch 46/200\n",
            "3/3 [==============================] - 0s 29ms/step - loss: 0.0058 - accuracy: 0.9972 - val_loss: 0.1889 - val_accuracy: 0.9804\n",
            "Epoch 47/200\n",
            "3/3 [==============================] - 0s 27ms/step - loss: 9.9567e-04 - accuracy: 1.0000 - val_loss: 0.1863 - val_accuracy: 0.9804\n",
            "Epoch 48/200\n",
            "3/3 [==============================] - 0s 36ms/step - loss: 0.0058 - accuracy: 0.9972 - val_loss: 0.1820 - val_accuracy: 0.9804\n",
            "Epoch 49/200\n",
            "3/3 [==============================] - 0s 28ms/step - loss: 0.0024 - accuracy: 1.0000 - val_loss: 0.1717 - val_accuracy: 0.9804\n",
            "Epoch 50/200\n",
            "3/3 [==============================] - 0s 35ms/step - loss: 0.0035 - accuracy: 1.0000 - val_loss: 0.1746 - val_accuracy: 0.9804\n",
            "Epoch 51/200\n",
            "3/3 [==============================] - 0s 28ms/step - loss: 0.0018 - accuracy: 1.0000 - val_loss: 0.1797 - val_accuracy: 0.9804\n",
            "Epoch 52/200\n",
            "3/3 [==============================] - 0s 27ms/step - loss: 0.0014 - accuracy: 1.0000 - val_loss: 0.1839 - val_accuracy: 0.9804\n",
            "Epoch 53/200\n",
            "3/3 [==============================] - 0s 27ms/step - loss: 0.0010 - accuracy: 1.0000 - val_loss: 0.1904 - val_accuracy: 0.9804\n",
            "Epoch 54/200\n",
            "3/3 [==============================] - 0s 31ms/step - loss: 0.0022 - accuracy: 1.0000 - val_loss: 0.1972 - val_accuracy: 0.9804\n",
            "Epoch 55/200\n",
            "3/3 [==============================] - 0s 35ms/step - loss: 0.0022 - accuracy: 1.0000 - val_loss: 0.2031 - val_accuracy: 0.9804\n",
            "Epoch 56/200\n",
            "3/3 [==============================] - 0s 31ms/step - loss: 0.0012 - accuracy: 1.0000 - val_loss: 0.2089 - val_accuracy: 0.9804\n",
            "Epoch 57/200\n",
            "3/3 [==============================] - 0s 35ms/step - loss: 9.9626e-04 - accuracy: 1.0000 - val_loss: 0.2134 - val_accuracy: 0.9804\n",
            "Epoch 58/200\n",
            "3/3 [==============================] - 0s 27ms/step - loss: 0.0014 - accuracy: 1.0000 - val_loss: 0.2184 - val_accuracy: 0.9804\n",
            "Epoch 59/200\n",
            "3/3 [==============================] - 0s 31ms/step - loss: 6.9266e-04 - accuracy: 1.0000 - val_loss: 0.2235 - val_accuracy: 0.9804\n",
            "Epoch 60/200\n",
            "3/3 [==============================] - 0s 28ms/step - loss: 6.8552e-04 - accuracy: 1.0000 - val_loss: 0.2271 - val_accuracy: 0.9804\n",
            "Epoch 61/200\n",
            "3/3 [==============================] - 0s 28ms/step - loss: 5.6647e-04 - accuracy: 1.0000 - val_loss: 0.2310 - val_accuracy: 0.9804\n",
            "Epoch 62/200\n",
            "3/3 [==============================] - 0s 27ms/step - loss: 0.0011 - accuracy: 1.0000 - val_loss: 0.2316 - val_accuracy: 0.9804\n",
            "Epoch 63/200\n",
            "3/3 [==============================] - 0s 39ms/step - loss: 6.8593e-04 - accuracy: 1.0000 - val_loss: 0.2333 - val_accuracy: 0.9804\n",
            "Epoch 64/200\n",
            "3/3 [==============================] - 0s 34ms/step - loss: 0.0020 - accuracy: 1.0000 - val_loss: 0.2334 - val_accuracy: 0.9804\n",
            "Epoch 65/200\n",
            "3/3 [==============================] - 0s 27ms/step - loss: 0.0012 - accuracy: 1.0000 - val_loss: 0.2313 - val_accuracy: 0.9804\n",
            "Epoch 66/200\n",
            "3/3 [==============================] - 0s 28ms/step - loss: 4.7866e-04 - accuracy: 1.0000 - val_loss: 0.2287 - val_accuracy: 0.9804\n",
            "Epoch 67/200\n",
            "3/3 [==============================] - 0s 28ms/step - loss: 5.0342e-04 - accuracy: 1.0000 - val_loss: 0.2274 - val_accuracy: 0.9804\n",
            "Epoch 68/200\n",
            "3/3 [==============================] - 0s 39ms/step - loss: 6.5522e-04 - accuracy: 1.0000 - val_loss: 0.2278 - val_accuracy: 0.9804\n",
            "Epoch 69/200\n",
            "3/3 [==============================] - 0s 40ms/step - loss: 4.5956e-04 - accuracy: 1.0000 - val_loss: 0.2294 - val_accuracy: 0.9804\n",
            "Epoch 70/200\n",
            "3/3 [==============================] - 0s 28ms/step - loss: 7.7096e-04 - accuracy: 1.0000 - val_loss: 0.2311 - val_accuracy: 0.9804\n",
            "Epoch 71/200\n",
            "3/3 [==============================] - 0s 30ms/step - loss: 4.5654e-04 - accuracy: 1.0000 - val_loss: 0.2330 - val_accuracy: 0.9804\n",
            "Epoch 72/200\n",
            "3/3 [==============================] - 0s 29ms/step - loss: 8.1577e-04 - accuracy: 1.0000 - val_loss: 0.2349 - val_accuracy: 0.9804\n",
            "Epoch 73/200\n",
            "3/3 [==============================] - 0s 27ms/step - loss: 0.0023 - accuracy: 1.0000 - val_loss: 0.2311 - val_accuracy: 0.9804\n",
            "Epoch 74/200\n",
            "3/3 [==============================] - 0s 35ms/step - loss: 8.0614e-04 - accuracy: 1.0000 - val_loss: 0.2227 - val_accuracy: 0.9804\n",
            "Epoch 75/200\n",
            "3/3 [==============================] - 0s 36ms/step - loss: 0.0014 - accuracy: 1.0000 - val_loss: 0.2152 - val_accuracy: 0.9804\n",
            "Epoch 76/200\n",
            "3/3 [==============================] - 0s 28ms/step - loss: 7.1390e-04 - accuracy: 1.0000 - val_loss: 0.2125 - val_accuracy: 0.9804\n",
            "Epoch 77/200\n",
            "3/3 [==============================] - 0s 30ms/step - loss: 6.6228e-04 - accuracy: 1.0000 - val_loss: 0.2149 - val_accuracy: 0.9804\n",
            "Epoch 78/200\n",
            "3/3 [==============================] - 0s 29ms/step - loss: 3.6995e-04 - accuracy: 1.0000 - val_loss: 0.2186 - val_accuracy: 0.9804\n",
            "Epoch 79/200\n",
            "3/3 [==============================] - 0s 28ms/step - loss: 3.5151e-04 - accuracy: 1.0000 - val_loss: 0.2228 - val_accuracy: 0.9804\n",
            "Epoch 80/200\n",
            "3/3 [==============================] - 0s 40ms/step - loss: 7.3646e-04 - accuracy: 1.0000 - val_loss: 0.2289 - val_accuracy: 0.9804\n",
            "Epoch 81/200\n",
            "3/3 [==============================] - 0s 36ms/step - loss: 2.0558e-04 - accuracy: 1.0000 - val_loss: 0.2349 - val_accuracy: 0.9804\n",
            "Epoch 82/200\n",
            "3/3 [==============================] - 0s 28ms/step - loss: 8.6587e-04 - accuracy: 1.0000 - val_loss: 0.2407 - val_accuracy: 0.9804\n",
            "Epoch 83/200\n",
            "3/3 [==============================] - 0s 29ms/step - loss: 0.0025 - accuracy: 1.0000 - val_loss: 0.2432 - val_accuracy: 0.9804\n",
            "Epoch 84/200\n",
            "3/3 [==============================] - 0s 36ms/step - loss: 6.3555e-04 - accuracy: 1.0000 - val_loss: 0.2452 - val_accuracy: 0.9804\n",
            "Epoch 85/200\n",
            "3/3 [==============================] - 0s 28ms/step - loss: 0.0016 - accuracy: 1.0000 - val_loss: 0.2435 - val_accuracy: 0.9804\n",
            "Epoch 86/200\n",
            "3/3 [==============================] - 0s 29ms/step - loss: 9.0109e-04 - accuracy: 1.0000 - val_loss: 0.2392 - val_accuracy: 0.9804\n",
            "Epoch 87/200\n",
            "3/3 [==============================] - 0s 29ms/step - loss: 4.2266e-04 - accuracy: 1.0000 - val_loss: 0.2344 - val_accuracy: 0.9804\n",
            "Epoch 88/200\n",
            "3/3 [==============================] - 0s 31ms/step - loss: 4.2596e-04 - accuracy: 1.0000 - val_loss: 0.2324 - val_accuracy: 0.9804\n",
            "Epoch 89/200\n",
            "3/3 [==============================] - 0s 29ms/step - loss: 7.7315e-04 - accuracy: 1.0000 - val_loss: 0.2324 - val_accuracy: 0.9804\n",
            "Epoch 90/200\n",
            "3/3 [==============================] - 0s 35ms/step - loss: 7.2759e-04 - accuracy: 1.0000 - val_loss: 0.2341 - val_accuracy: 0.9804\n",
            "Epoch 91/200\n",
            "3/3 [==============================] - 0s 29ms/step - loss: 4.1897e-04 - accuracy: 1.0000 - val_loss: 0.2387 - val_accuracy: 0.9804\n",
            "Epoch 92/200\n",
            "3/3 [==============================] - 0s 33ms/step - loss: 2.3663e-04 - accuracy: 1.0000 - val_loss: 0.2441 - val_accuracy: 0.9804\n",
            "Epoch 93/200\n",
            "3/3 [==============================] - 0s 35ms/step - loss: 0.0014 - accuracy: 1.0000 - val_loss: 0.2432 - val_accuracy: 0.9804\n",
            "Epoch 94/200\n",
            "3/3 [==============================] - 0s 30ms/step - loss: 2.1525e-04 - accuracy: 1.0000 - val_loss: 0.2401 - val_accuracy: 0.9804\n",
            "Epoch 95/200\n",
            "3/3 [==============================] - 0s 35ms/step - loss: 0.0016 - accuracy: 1.0000 - val_loss: 0.2426 - val_accuracy: 0.9804\n",
            "Epoch 96/200\n",
            "3/3 [==============================] - 0s 37ms/step - loss: 1.2583e-04 - accuracy: 1.0000 - val_loss: 0.2466 - val_accuracy: 0.9804\n",
            "Epoch 97/200\n",
            "3/3 [==============================] - 0s 41ms/step - loss: 4.1265e-04 - accuracy: 1.0000 - val_loss: 0.2507 - val_accuracy: 0.9804\n",
            "Epoch 98/200\n",
            "3/3 [==============================] - 0s 49ms/step - loss: 1.7924e-04 - accuracy: 1.0000 - val_loss: 0.2547 - val_accuracy: 0.9804\n",
            "Epoch 99/200\n",
            "3/3 [==============================] - 0s 45ms/step - loss: 2.6585e-04 - accuracy: 1.0000 - val_loss: 0.2574 - val_accuracy: 0.9804\n",
            "Epoch 100/200\n",
            "3/3 [==============================] - 0s 41ms/step - loss: 1.3138e-04 - accuracy: 1.0000 - val_loss: 0.2596 - val_accuracy: 0.9804\n",
            "Epoch 101/200\n",
            "3/3 [==============================] - 0s 49ms/step - loss: 0.0012 - accuracy: 1.0000 - val_loss: 0.2595 - val_accuracy: 0.9804\n",
            "Epoch 102/200\n",
            "3/3 [==============================] - 0s 40ms/step - loss: 4.9288e-04 - accuracy: 1.0000 - val_loss: 0.2552 - val_accuracy: 0.9804\n",
            "Epoch 103/200\n",
            "3/3 [==============================] - 0s 44ms/step - loss: 0.0022 - accuracy: 1.0000 - val_loss: 0.2380 - val_accuracy: 0.9804\n",
            "Epoch 104/200\n",
            "3/3 [==============================] - 0s 46ms/step - loss: 3.1097e-04 - accuracy: 1.0000 - val_loss: 0.2200 - val_accuracy: 0.9804\n",
            "Epoch 105/200\n",
            "3/3 [==============================] - 0s 42ms/step - loss: 0.0012 - accuracy: 1.0000 - val_loss: 0.2138 - val_accuracy: 0.9804\n",
            "Epoch 106/200\n",
            "3/3 [==============================] - 0s 51ms/step - loss: 4.8271e-04 - accuracy: 1.0000 - val_loss: 0.2215 - val_accuracy: 0.9804\n",
            "Epoch 107/200\n",
            "3/3 [==============================] - 0s 43ms/step - loss: 1.6413e-04 - accuracy: 1.0000 - val_loss: 0.2288 - val_accuracy: 0.9804\n",
            "Epoch 108/200\n",
            "3/3 [==============================] - 0s 42ms/step - loss: 1.4424e-04 - accuracy: 1.0000 - val_loss: 0.2349 - val_accuracy: 0.9804\n",
            "Epoch 109/200\n",
            "3/3 [==============================] - 0s 47ms/step - loss: 2.6299e-04 - accuracy: 1.0000 - val_loss: 0.2401 - val_accuracy: 0.9804\n",
            "Epoch 110/200\n",
            "3/3 [==============================] - 0s 40ms/step - loss: 2.2946e-04 - accuracy: 1.0000 - val_loss: 0.2450 - val_accuracy: 0.9804\n",
            "Epoch 111/200\n",
            "3/3 [==============================] - 0s 48ms/step - loss: 1.5439e-04 - accuracy: 1.0000 - val_loss: 0.2494 - val_accuracy: 0.9804\n",
            "Epoch 112/200\n",
            "3/3 [==============================] - 0s 45ms/step - loss: 7.7188e-05 - accuracy: 1.0000 - val_loss: 0.2534 - val_accuracy: 0.9804\n",
            "Epoch 113/200\n",
            "3/3 [==============================] - 0s 45ms/step - loss: 1.5876e-04 - accuracy: 1.0000 - val_loss: 0.2564 - val_accuracy: 0.9804\n",
            "Epoch 114/200\n",
            "3/3 [==============================] - 0s 41ms/step - loss: 1.0558e-04 - accuracy: 1.0000 - val_loss: 0.2583 - val_accuracy: 0.9804\n",
            "Epoch 115/200\n",
            "3/3 [==============================] - 0s 40ms/step - loss: 1.3013e-04 - accuracy: 1.0000 - val_loss: 0.2601 - val_accuracy: 0.9804\n",
            "Epoch 116/200\n",
            "3/3 [==============================] - 0s 39ms/step - loss: 2.5389e-04 - accuracy: 1.0000 - val_loss: 0.2598 - val_accuracy: 0.9804\n",
            "Epoch 117/200\n",
            "3/3 [==============================] - 0s 39ms/step - loss: 2.2440e-04 - accuracy: 1.0000 - val_loss: 0.2583 - val_accuracy: 0.9804\n",
            "Epoch 118/200\n",
            "3/3 [==============================] - 0s 46ms/step - loss: 2.7889e-04 - accuracy: 1.0000 - val_loss: 0.2543 - val_accuracy: 0.9804\n",
            "Epoch 119/200\n",
            "3/3 [==============================] - 0s 48ms/step - loss: 1.7280e-04 - accuracy: 1.0000 - val_loss: 0.2518 - val_accuracy: 0.9804\n",
            "Epoch 120/200\n",
            "3/3 [==============================] - 0s 49ms/step - loss: 5.1584e-04 - accuracy: 1.0000 - val_loss: 0.2481 - val_accuracy: 0.9804\n",
            "Epoch 121/200\n",
            "3/3 [==============================] - 0s 47ms/step - loss: 2.2167e-04 - accuracy: 1.0000 - val_loss: 0.2436 - val_accuracy: 0.9804\n",
            "Epoch 122/200\n",
            "3/3 [==============================] - 0s 43ms/step - loss: 1.8033e-04 - accuracy: 1.0000 - val_loss: 0.2405 - val_accuracy: 0.9804\n",
            "Epoch 123/200\n",
            "3/3 [==============================] - 0s 41ms/step - loss: 2.1162e-04 - accuracy: 1.0000 - val_loss: 0.2404 - val_accuracy: 0.9804\n",
            "Epoch 124/200\n",
            "3/3 [==============================] - 0s 28ms/step - loss: 1.0819e-04 - accuracy: 1.0000 - val_loss: 0.2412 - val_accuracy: 0.9804\n",
            "Epoch 125/200\n",
            "3/3 [==============================] - 0s 29ms/step - loss: 2.3315e-04 - accuracy: 1.0000 - val_loss: 0.2431 - val_accuracy: 0.9804\n",
            "Epoch 126/200\n",
            "3/3 [==============================] - 0s 43ms/step - loss: 2.9227e-04 - accuracy: 1.0000 - val_loss: 0.2462 - val_accuracy: 0.9804\n",
            "Epoch 127/200\n",
            "3/3 [==============================] - 0s 29ms/step - loss: 2.1567e-04 - accuracy: 1.0000 - val_loss: 0.2505 - val_accuracy: 0.9804\n",
            "Epoch 128/200\n",
            "3/3 [==============================] - 0s 28ms/step - loss: 4.9524e-04 - accuracy: 1.0000 - val_loss: 0.2465 - val_accuracy: 0.9804\n",
            "Epoch 129/200\n",
            "3/3 [==============================] - 0s 35ms/step - loss: 9.9370e-05 - accuracy: 1.0000 - val_loss: 0.2438 - val_accuracy: 0.9804\n",
            "Epoch 130/200\n",
            "3/3 [==============================] - 0s 35ms/step - loss: 1.3457e-04 - accuracy: 1.0000 - val_loss: 0.2423 - val_accuracy: 0.9804\n",
            "Epoch 131/200\n",
            "3/3 [==============================] - 0s 37ms/step - loss: 9.4318e-05 - accuracy: 1.0000 - val_loss: 0.2416 - val_accuracy: 0.9804\n",
            "Epoch 132/200\n",
            "3/3 [==============================] - 0s 28ms/step - loss: 1.3263e-04 - accuracy: 1.0000 - val_loss: 0.2424 - val_accuracy: 0.9804\n",
            "Epoch 133/200\n",
            "3/3 [==============================] - 0s 29ms/step - loss: 1.5034e-04 - accuracy: 1.0000 - val_loss: 0.2445 - val_accuracy: 0.9804\n",
            "Epoch 134/200\n",
            "3/3 [==============================] - 0s 29ms/step - loss: 1.3111e-04 - accuracy: 1.0000 - val_loss: 0.2476 - val_accuracy: 0.9804\n",
            "Epoch 135/200\n",
            "3/3 [==============================] - 0s 28ms/step - loss: 1.8007e-04 - accuracy: 1.0000 - val_loss: 0.2511 - val_accuracy: 0.9804\n",
            "Epoch 136/200\n",
            "3/3 [==============================] - 0s 35ms/step - loss: 6.5649e-04 - accuracy: 1.0000 - val_loss: 0.2516 - val_accuracy: 0.9804\n",
            "Epoch 137/200\n",
            "3/3 [==============================] - 0s 34ms/step - loss: 1.0670e-04 - accuracy: 1.0000 - val_loss: 0.2522 - val_accuracy: 0.9804\n",
            "Epoch 138/200\n",
            "3/3 [==============================] - 0s 35ms/step - loss: 1.2365e-04 - accuracy: 1.0000 - val_loss: 0.2537 - val_accuracy: 0.9804\n",
            "Epoch 139/200\n",
            "3/3 [==============================] - 0s 36ms/step - loss: 1.0170e-04 - accuracy: 1.0000 - val_loss: 0.2557 - val_accuracy: 0.9804\n",
            "Epoch 140/200\n",
            "3/3 [==============================] - 0s 28ms/step - loss: 7.1696e-05 - accuracy: 1.0000 - val_loss: 0.2578 - val_accuracy: 0.9804\n",
            "Epoch 141/200\n",
            "3/3 [==============================] - 0s 35ms/step - loss: 2.5681e-04 - accuracy: 1.0000 - val_loss: 0.2633 - val_accuracy: 0.9804\n",
            "Epoch 142/200\n",
            "3/3 [==============================] - 0s 29ms/step - loss: 3.8221e-05 - accuracy: 1.0000 - val_loss: 0.2688 - val_accuracy: 0.9804\n",
            "Epoch 143/200\n",
            "3/3 [==============================] - 0s 34ms/step - loss: 1.3926e-04 - accuracy: 1.0000 - val_loss: 0.2728 - val_accuracy: 0.9804\n",
            "Epoch 144/200\n",
            "3/3 [==============================] - 0s 32ms/step - loss: 2.0495e-04 - accuracy: 1.0000 - val_loss: 0.2766 - val_accuracy: 0.9804\n",
            "Epoch 145/200\n",
            "3/3 [==============================] - 0s 28ms/step - loss: 1.3546e-04 - accuracy: 1.0000 - val_loss: 0.2794 - val_accuracy: 0.9804\n",
            "Epoch 146/200\n",
            "3/3 [==============================] - 0s 39ms/step - loss: 2.2898e-04 - accuracy: 1.0000 - val_loss: 0.2796 - val_accuracy: 0.9804\n",
            "Epoch 147/200\n",
            "3/3 [==============================] - 0s 37ms/step - loss: 0.0016 - accuracy: 1.0000 - val_loss: 0.2536 - val_accuracy: 0.9804\n",
            "Epoch 148/200\n",
            "3/3 [==============================] - 0s 28ms/step - loss: 1.5739e-04 - accuracy: 1.0000 - val_loss: 0.2374 - val_accuracy: 0.9804\n",
            "Epoch 149/200\n",
            "3/3 [==============================] - 0s 30ms/step - loss: 1.2846e-04 - accuracy: 1.0000 - val_loss: 0.2314 - val_accuracy: 0.9804\n",
            "Epoch 150/200\n",
            "3/3 [==============================] - 0s 27ms/step - loss: 1.8085e-04 - accuracy: 1.0000 - val_loss: 0.2307 - val_accuracy: 0.9804\n",
            "Epoch 151/200\n",
            "3/3 [==============================] - 0s 30ms/step - loss: 5.2253e-04 - accuracy: 1.0000 - val_loss: 0.2382 - val_accuracy: 0.9804\n",
            "Epoch 152/200\n",
            "3/3 [==============================] - 0s 39ms/step - loss: 1.6227e-04 - accuracy: 1.0000 - val_loss: 0.2501 - val_accuracy: 0.9804\n",
            "Epoch 153/200\n",
            "3/3 [==============================] - 0s 37ms/step - loss: 1.3050e-04 - accuracy: 1.0000 - val_loss: 0.2621 - val_accuracy: 0.9804\n",
            "Epoch 154/200\n",
            "3/3 [==============================] - 0s 36ms/step - loss: 6.9235e-05 - accuracy: 1.0000 - val_loss: 0.2715 - val_accuracy: 0.9804\n",
            "Epoch 155/200\n",
            "3/3 [==============================] - 0s 27ms/step - loss: 3.6425e-05 - accuracy: 1.0000 - val_loss: 0.2785 - val_accuracy: 0.9804\n",
            "Epoch 156/200\n",
            "3/3 [==============================] - 0s 31ms/step - loss: 1.3782e-04 - accuracy: 1.0000 - val_loss: 0.2829 - val_accuracy: 0.9804\n",
            "Epoch 157/200\n",
            "3/3 [==============================] - 0s 37ms/step - loss: 7.1770e-05 - accuracy: 1.0000 - val_loss: 0.2853 - val_accuracy: 0.9804\n",
            "Epoch 158/200\n",
            "3/3 [==============================] - 0s 29ms/step - loss: 1.9232e-04 - accuracy: 1.0000 - val_loss: 0.2863 - val_accuracy: 0.9804\n",
            "Epoch 159/200\n",
            "3/3 [==============================] - 0s 29ms/step - loss: 3.1446e-04 - accuracy: 1.0000 - val_loss: 0.2871 - val_accuracy: 0.9804\n",
            "Epoch 160/200\n",
            "3/3 [==============================] - 0s 36ms/step - loss: 6.7798e-05 - accuracy: 1.0000 - val_loss: 0.2882 - val_accuracy: 0.9804\n",
            "Epoch 161/200\n",
            "3/3 [==============================] - 0s 36ms/step - loss: 8.0347e-05 - accuracy: 1.0000 - val_loss: 0.2892 - val_accuracy: 0.9804\n",
            "Epoch 162/200\n",
            "3/3 [==============================] - 0s 36ms/step - loss: 1.8063e-04 - accuracy: 1.0000 - val_loss: 0.2894 - val_accuracy: 0.9804\n",
            "Epoch 163/200\n",
            "3/3 [==============================] - 0s 35ms/step - loss: 1.1369e-04 - accuracy: 1.0000 - val_loss: 0.2902 - val_accuracy: 0.9804\n",
            "Epoch 164/200\n",
            "3/3 [==============================] - 0s 35ms/step - loss: 8.8066e-05 - accuracy: 1.0000 - val_loss: 0.2896 - val_accuracy: 0.9804\n",
            "Epoch 165/200\n",
            "3/3 [==============================] - 0s 35ms/step - loss: 6.7889e-05 - accuracy: 1.0000 - val_loss: 0.2897 - val_accuracy: 0.9804\n",
            "Epoch 166/200\n",
            "3/3 [==============================] - 0s 36ms/step - loss: 1.0650e-04 - accuracy: 1.0000 - val_loss: 0.2900 - val_accuracy: 0.9804\n",
            "Epoch 167/200\n",
            "3/3 [==============================] - 0s 32ms/step - loss: 9.7789e-05 - accuracy: 1.0000 - val_loss: 0.2907 - val_accuracy: 0.9804\n",
            "Epoch 168/200\n",
            "3/3 [==============================] - 0s 28ms/step - loss: 7.5254e-05 - accuracy: 1.0000 - val_loss: 0.2916 - val_accuracy: 0.9804\n",
            "Epoch 169/200\n",
            "3/3 [==============================] - 0s 36ms/step - loss: 4.6011e-05 - accuracy: 1.0000 - val_loss: 0.2921 - val_accuracy: 0.9804\n",
            "Epoch 170/200\n",
            "3/3 [==============================] - 0s 32ms/step - loss: 1.9459e-04 - accuracy: 1.0000 - val_loss: 0.2951 - val_accuracy: 0.9804\n",
            "Epoch 171/200\n",
            "3/3 [==============================] - 0s 28ms/step - loss: 1.8818e-04 - accuracy: 1.0000 - val_loss: 0.2973 - val_accuracy: 0.9804\n",
            "Epoch 172/200\n",
            "3/3 [==============================] - 0s 29ms/step - loss: 6.6334e-05 - accuracy: 1.0000 - val_loss: 0.2969 - val_accuracy: 0.9804\n",
            "Epoch 173/200\n",
            "3/3 [==============================] - 0s 36ms/step - loss: 7.8734e-05 - accuracy: 1.0000 - val_loss: 0.2970 - val_accuracy: 0.9804\n",
            "Epoch 174/200\n",
            "3/3 [==============================] - 0s 36ms/step - loss: 1.0131e-04 - accuracy: 1.0000 - val_loss: 0.2969 - val_accuracy: 0.9804\n",
            "Epoch 175/200\n",
            "3/3 [==============================] - 0s 30ms/step - loss: 6.0943e-05 - accuracy: 1.0000 - val_loss: 0.2967 - val_accuracy: 0.9804\n",
            "Epoch 176/200\n",
            "3/3 [==============================] - 0s 28ms/step - loss: 4.1489e-05 - accuracy: 1.0000 - val_loss: 0.2966 - val_accuracy: 0.9804\n",
            "Epoch 177/200\n",
            "3/3 [==============================] - 0s 30ms/step - loss: 8.1351e-05 - accuracy: 1.0000 - val_loss: 0.2958 - val_accuracy: 0.9804\n",
            "Epoch 178/200\n",
            "3/3 [==============================] - 0s 31ms/step - loss: 9.2881e-05 - accuracy: 1.0000 - val_loss: 0.2953 - val_accuracy: 0.9804\n",
            "Epoch 179/200\n",
            "3/3 [==============================] - 0s 30ms/step - loss: 2.7879e-05 - accuracy: 1.0000 - val_loss: 0.2951 - val_accuracy: 0.9804\n",
            "Epoch 180/200\n",
            "3/3 [==============================] - 0s 31ms/step - loss: 5.0495e-05 - accuracy: 1.0000 - val_loss: 0.2954 - val_accuracy: 0.9804\n",
            "Epoch 181/200\n",
            "3/3 [==============================] - 0s 29ms/step - loss: 4.9155e-05 - accuracy: 1.0000 - val_loss: 0.2963 - val_accuracy: 0.9804\n",
            "Epoch 182/200\n",
            "3/3 [==============================] - 0s 29ms/step - loss: 2.0893e-04 - accuracy: 1.0000 - val_loss: 0.2939 - val_accuracy: 0.9804\n",
            "Epoch 183/200\n",
            "3/3 [==============================] - 0s 30ms/step - loss: 5.2388e-05 - accuracy: 1.0000 - val_loss: 0.2925 - val_accuracy: 0.9804\n",
            "Epoch 184/200\n",
            "3/3 [==============================] - 0s 36ms/step - loss: 4.5287e-05 - accuracy: 1.0000 - val_loss: 0.2920 - val_accuracy: 0.9804\n",
            "Epoch 185/200\n",
            "3/3 [==============================] - 0s 39ms/step - loss: 5.8394e-05 - accuracy: 1.0000 - val_loss: 0.2919 - val_accuracy: 0.9804\n",
            "Epoch 186/200\n",
            "3/3 [==============================] - 0s 39ms/step - loss: 1.3820e-04 - accuracy: 1.0000 - val_loss: 0.2926 - val_accuracy: 0.9804\n",
            "Epoch 187/200\n",
            "3/3 [==============================] - 0s 37ms/step - loss: 5.1823e-05 - accuracy: 1.0000 - val_loss: 0.2937 - val_accuracy: 0.9804\n",
            "Epoch 188/200\n",
            "3/3 [==============================] - 0s 35ms/step - loss: 6.1483e-05 - accuracy: 1.0000 - val_loss: 0.2940 - val_accuracy: 0.9804\n",
            "Epoch 189/200\n",
            "3/3 [==============================] - 0s 39ms/step - loss: 1.1490e-04 - accuracy: 1.0000 - val_loss: 0.2936 - val_accuracy: 0.9804\n",
            "Epoch 190/200\n",
            "3/3 [==============================] - 0s 30ms/step - loss: 3.4327e-04 - accuracy: 1.0000 - val_loss: 0.2915 - val_accuracy: 0.9804\n",
            "Epoch 191/200\n",
            "3/3 [==============================] - 0s 28ms/step - loss: 2.8656e-05 - accuracy: 1.0000 - val_loss: 0.2866 - val_accuracy: 0.9804\n",
            "Epoch 192/200\n",
            "3/3 [==============================] - 0s 37ms/step - loss: 9.2937e-04 - accuracy: 1.0000 - val_loss: 0.2596 - val_accuracy: 0.9804\n",
            "Epoch 193/200\n",
            "3/3 [==============================] - 0s 31ms/step - loss: 1.1805e-04 - accuracy: 1.0000 - val_loss: 0.2171 - val_accuracy: 0.9804\n",
            "Epoch 194/200\n",
            "3/3 [==============================] - 0s 42ms/step - loss: 1.5527e-04 - accuracy: 1.0000 - val_loss: 0.1820 - val_accuracy: 0.9804\n",
            "Epoch 195/200\n",
            "3/3 [==============================] - 0s 36ms/step - loss: 1.9459e-04 - accuracy: 1.0000 - val_loss: 0.1600 - val_accuracy: 0.9804\n",
            "Epoch 196/200\n",
            "3/3 [==============================] - 0s 29ms/step - loss: 7.6715e-05 - accuracy: 1.0000 - val_loss: 0.1449 - val_accuracy: 0.9804\n",
            "Epoch 197/200\n",
            "3/3 [==============================] - 0s 30ms/step - loss: 4.2813e-05 - accuracy: 1.0000 - val_loss: 0.1354 - val_accuracy: 0.9804\n",
            "Epoch 198/200\n",
            "3/3 [==============================] - 0s 37ms/step - loss: 5.6985e-05 - accuracy: 1.0000 - val_loss: 0.1310 - val_accuracy: 0.9869\n",
            "Epoch 199/200\n",
            "3/3 [==============================] - 0s 36ms/step - loss: 2.4748e-05 - accuracy: 1.0000 - val_loss: 0.1298 - val_accuracy: 0.9869\n",
            "Epoch 200/200\n",
            "3/3 [==============================] - 0s 37ms/step - loss: 8.5649e-04 - accuracy: 1.0000 - val_loss: 0.1152 - val_accuracy: 0.9869\n"
          ]
        }
      ],
      "source": [
        "model=Sequential([\n",
        "    Dense(512,activation='relu',input_shape=(x_train.shape[1],)),\n",
        "    Dropout(0.2),\n",
        "    Dense(256,activation='relu'),\n",
        "    Dropout(0.2),\n",
        "    Dense(128,activation='relu'),\n",
        "    Dropout(0.2),\n",
        "    Dense(64,activation='relu'),\n",
        "    Dropout(0.2),\n",
        "    Dense(10,activation='softmax'),\n",
        "])\n",
        "print(model.summary())\n",
        "model_history = trainModel(model=model,epochs=200,optimizer='adam')"
      ]
    },
    {
      "cell_type": "code",
      "execution_count": 854,
      "id": "bd7a525b",
      "metadata": {
        "colab": {
          "base_uri": "https://localhost:8080/"
        },
        "id": "bd7a525b",
        "outputId": "cd8bdeb4-50d7-43c5-8320-48983a079554"
      },
      "outputs": [
        {
          "output_type": "stream",
          "name": "stdout",
          "text": [
            "2/2 [==============================] - 0s 7ms/step - loss: 0.1152 - accuracy: 0.9869\n",
            "Test Loss is :  0.11522568762302399\n",
            "Test Accuracy is :  0.9869281053543091\n"
          ]
        }
      ],
      "source": [
        "test_loss,test_accuracy = model.evaluate(x_test,y_test,batch_size=128)\n",
        "print(\"Test Loss is : \",test_loss)\n",
        "print(\"Test Accuracy is : \",test_accuracy)"
      ]
    },
    {
      "cell_type": "code",
      "source": [
        "test_accuracy=test_accuracy*100\n",
        "s5.append(test_accuracy)"
      ],
      "metadata": {
        "id": "6-QUQZ-7JIwG"
      },
      "id": "6-QUQZ-7JIwG",
      "execution_count": 855,
      "outputs": []
    },
    {
      "cell_type": "markdown",
      "source": [
        "## Comparing all sampling techniques"
      ],
      "metadata": {
        "id": "LHR-MMagJvU4"
      },
      "id": "LHR-MMagJvU4"
    },
    {
      "cell_type": "code",
      "source": [
        "df_sample_comparison = pd.DataFrame(list(zip(s1,s2,s3,s4,s5)), index = [\"M1\",\"M2\",\"M3\",\"M4\",\"M5\"], columns = [\"S1\",\"S2\",\"S3\",\"S4\",\"S5\"])"
      ],
      "metadata": {
        "id": "D8Rb6y7SJMoW"
      },
      "id": "D8Rb6y7SJMoW",
      "execution_count": 856,
      "outputs": []
    },
    {
      "cell_type": "code",
      "source": [
        "df_sample_comparison"
      ],
      "metadata": {
        "colab": {
          "base_uri": "https://localhost:8080/",
          "height": 206
        },
        "id": "hVmGn7lFKX4_",
        "outputId": "6f181933-ceb9-4f59-c9bd-527d779c9b3e"
      },
      "id": "hVmGn7lFKX4_",
      "execution_count": 857,
      "outputs": [
        {
          "output_type": "execute_result",
          "data": {
            "text/plain": [
              "            S1         S2          S3         S4         S5\n",
              "M1   81.896552  85.869565   94.594595  93.886463  82.352941\n",
              "M2   63.793103  73.913043   79.279279  67.685590  78.431373\n",
              "M3   89.655172  90.217391   97.297297  87.117904  92.156863\n",
              "M4  100.000000  98.913043   79.279279  57.205240  88.888889\n",
              "M5   99.137932  89.130437  100.000000  99.781662  98.692811"
            ],
            "text/html": [
              "\n",
              "  <div id=\"df-d04ced1f-9312-4cd8-b60f-024e5598641b\">\n",
              "    <div class=\"colab-df-container\">\n",
              "      <div>\n",
              "<style scoped>\n",
              "    .dataframe tbody tr th:only-of-type {\n",
              "        vertical-align: middle;\n",
              "    }\n",
              "\n",
              "    .dataframe tbody tr th {\n",
              "        vertical-align: top;\n",
              "    }\n",
              "\n",
              "    .dataframe thead th {\n",
              "        text-align: right;\n",
              "    }\n",
              "</style>\n",
              "<table border=\"1\" class=\"dataframe\">\n",
              "  <thead>\n",
              "    <tr style=\"text-align: right;\">\n",
              "      <th></th>\n",
              "      <th>S1</th>\n",
              "      <th>S2</th>\n",
              "      <th>S3</th>\n",
              "      <th>S4</th>\n",
              "      <th>S5</th>\n",
              "    </tr>\n",
              "  </thead>\n",
              "  <tbody>\n",
              "    <tr>\n",
              "      <th>M1</th>\n",
              "      <td>81.896552</td>\n",
              "      <td>85.869565</td>\n",
              "      <td>94.594595</td>\n",
              "      <td>93.886463</td>\n",
              "      <td>82.352941</td>\n",
              "    </tr>\n",
              "    <tr>\n",
              "      <th>M2</th>\n",
              "      <td>63.793103</td>\n",
              "      <td>73.913043</td>\n",
              "      <td>79.279279</td>\n",
              "      <td>67.685590</td>\n",
              "      <td>78.431373</td>\n",
              "    </tr>\n",
              "    <tr>\n",
              "      <th>M3</th>\n",
              "      <td>89.655172</td>\n",
              "      <td>90.217391</td>\n",
              "      <td>97.297297</td>\n",
              "      <td>87.117904</td>\n",
              "      <td>92.156863</td>\n",
              "    </tr>\n",
              "    <tr>\n",
              "      <th>M4</th>\n",
              "      <td>100.000000</td>\n",
              "      <td>98.913043</td>\n",
              "      <td>79.279279</td>\n",
              "      <td>57.205240</td>\n",
              "      <td>88.888889</td>\n",
              "    </tr>\n",
              "    <tr>\n",
              "      <th>M5</th>\n",
              "      <td>99.137932</td>\n",
              "      <td>89.130437</td>\n",
              "      <td>100.000000</td>\n",
              "      <td>99.781662</td>\n",
              "      <td>98.692811</td>\n",
              "    </tr>\n",
              "  </tbody>\n",
              "</table>\n",
              "</div>\n",
              "      <button class=\"colab-df-convert\" onclick=\"convertToInteractive('df-d04ced1f-9312-4cd8-b60f-024e5598641b')\"\n",
              "              title=\"Convert this dataframe to an interactive table.\"\n",
              "              style=\"display:none;\">\n",
              "        \n",
              "  <svg xmlns=\"http://www.w3.org/2000/svg\" height=\"24px\"viewBox=\"0 0 24 24\"\n",
              "       width=\"24px\">\n",
              "    <path d=\"M0 0h24v24H0V0z\" fill=\"none\"/>\n",
              "    <path d=\"M18.56 5.44l.94 2.06.94-2.06 2.06-.94-2.06-.94-.94-2.06-.94 2.06-2.06.94zm-11 1L8.5 8.5l.94-2.06 2.06-.94-2.06-.94L8.5 2.5l-.94 2.06-2.06.94zm10 10l.94 2.06.94-2.06 2.06-.94-2.06-.94-.94-2.06-.94 2.06-2.06.94z\"/><path d=\"M17.41 7.96l-1.37-1.37c-.4-.4-.92-.59-1.43-.59-.52 0-1.04.2-1.43.59L10.3 9.45l-7.72 7.72c-.78.78-.78 2.05 0 2.83L4 21.41c.39.39.9.59 1.41.59.51 0 1.02-.2 1.41-.59l7.78-7.78 2.81-2.81c.8-.78.8-2.07 0-2.86zM5.41 20L4 18.59l7.72-7.72 1.47 1.35L5.41 20z\"/>\n",
              "  </svg>\n",
              "      </button>\n",
              "      \n",
              "  <style>\n",
              "    .colab-df-container {\n",
              "      display:flex;\n",
              "      flex-wrap:wrap;\n",
              "      gap: 12px;\n",
              "    }\n",
              "\n",
              "    .colab-df-convert {\n",
              "      background-color: #E8F0FE;\n",
              "      border: none;\n",
              "      border-radius: 50%;\n",
              "      cursor: pointer;\n",
              "      display: none;\n",
              "      fill: #1967D2;\n",
              "      height: 32px;\n",
              "      padding: 0 0 0 0;\n",
              "      width: 32px;\n",
              "    }\n",
              "\n",
              "    .colab-df-convert:hover {\n",
              "      background-color: #E2EBFA;\n",
              "      box-shadow: 0px 1px 2px rgba(60, 64, 67, 0.3), 0px 1px 3px 1px rgba(60, 64, 67, 0.15);\n",
              "      fill: #174EA6;\n",
              "    }\n",
              "\n",
              "    [theme=dark] .colab-df-convert {\n",
              "      background-color: #3B4455;\n",
              "      fill: #D2E3FC;\n",
              "    }\n",
              "\n",
              "    [theme=dark] .colab-df-convert:hover {\n",
              "      background-color: #434B5C;\n",
              "      box-shadow: 0px 1px 3px 1px rgba(0, 0, 0, 0.15);\n",
              "      filter: drop-shadow(0px 1px 2px rgba(0, 0, 0, 0.3));\n",
              "      fill: #FFFFFF;\n",
              "    }\n",
              "  </style>\n",
              "\n",
              "      <script>\n",
              "        const buttonEl =\n",
              "          document.querySelector('#df-d04ced1f-9312-4cd8-b60f-024e5598641b button.colab-df-convert');\n",
              "        buttonEl.style.display =\n",
              "          google.colab.kernel.accessAllowed ? 'block' : 'none';\n",
              "\n",
              "        async function convertToInteractive(key) {\n",
              "          const element = document.querySelector('#df-d04ced1f-9312-4cd8-b60f-024e5598641b');\n",
              "          const dataTable =\n",
              "            await google.colab.kernel.invokeFunction('convertToInteractive',\n",
              "                                                     [key], {});\n",
              "          if (!dataTable) return;\n",
              "\n",
              "          const docLinkHtml = 'Like what you see? Visit the ' +\n",
              "            '<a target=\"_blank\" href=https://colab.research.google.com/notebooks/data_table.ipynb>data table notebook</a>'\n",
              "            + ' to learn more about interactive tables.';\n",
              "          element.innerHTML = '';\n",
              "          dataTable['output_type'] = 'display_data';\n",
              "          await google.colab.output.renderOutput(dataTable, element);\n",
              "          const docLink = document.createElement('div');\n",
              "          docLink.innerHTML = docLinkHtml;\n",
              "          element.appendChild(docLink);\n",
              "        }\n",
              "      </script>\n",
              "    </div>\n",
              "  </div>\n",
              "  "
            ]
          },
          "metadata": {},
          "execution_count": 857
        }
      ]
    },
    {
      "cell_type": "markdown",
      "source": [
        "# Conclusion"
      ],
      "metadata": {
        "id": "qqb0f0XLuPjD"
      },
      "id": "qqb0f0XLuPjD"
    },
    {
      "cell_type": "markdown",
      "source": [
        "The dataset provided was highly imbalanced. To make it a balanced I used overampling on the minority class and then proceeded to create samples.\n",
        "\n",
        "\n",
        "The 5 sampling techniques used were : \n",
        "\n",
        "\n",
        "*   Simple Random Sampling\n",
        "*   Stratified Sampling\n",
        "*   Cluster Sampling (by taking clusters on the basis of the Time column)\n",
        "*   Cluster Sampling (by taking clusters on the basis of the Amount Column using K-Means Clustering)\n",
        "*   Systematic Sampling\n",
        "\n",
        "The 5 models used were :\n",
        "*   KNN\n",
        "*   Naive Bayes\n",
        "*   Logistic Regression\n",
        "*   Random Forest Classifier\n",
        "*   CNN\n",
        "\n",
        "On comparing the five models on the five samples we can conclude that :\n",
        "The top 3 most optimal models are :\n",
        "* With a **100%** accuracy\n",
        " * The Random Forest Classifier model on the sample created using Simple Random Sampling.\n",
        " * The CNN model on the sample created using Clustering Sampling technique where clusters were created on the basis of Time.\n",
        "* The CNN model on the sample created using Clustering Sampling technique where clusters were created on the basis of Amount with  a **99.781662%** accuracy.\n",
        "* The CNN model on the sample created using Simple Random Sampling with a **99.137932%** accuracy\n",
        "\n",
        "\n",
        "The 3 worst models are :\n",
        "* The Random Forest Classifier model on the sample created using Clustering Sampling technique where clusters were created on the basis of Amount with  a **57.205240%** accuracy.\n",
        "* The Naive Bayes model on the sample created using Simple Random Sampling with a **63.793103%** accuracy.\n",
        "* The Naive Bayes model on the sample created using Clustering Sampling technique where clusters were created on the basis of Amount with  a **67.685590%** accuracy.\n",
        "\n",
        "\n",
        "\n",
        "\n",
        "\n",
        "\n",
        "\n",
        "\n",
        "\n",
        "\n",
        "\n"
      ],
      "metadata": {
        "id": "jx-tTMY5uYwy"
      },
      "id": "jx-tTMY5uYwy"
    }
  ],
  "metadata": {
    "kernelspec": {
      "display_name": "Python 3 (ipykernel)",
      "language": "python",
      "name": "python3"
    },
    "language_info": {
      "codemirror_mode": {
        "name": "ipython",
        "version": 3
      },
      "file_extension": ".py",
      "mimetype": "text/x-python",
      "name": "python",
      "nbconvert_exporter": "python",
      "pygments_lexer": "ipython3",
      "version": "3.11.2"
    },
    "vscode": {
      "interpreter": {
        "hash": "aee8b7b246df8f9039afb4144a1f6fd8d2ca17a180786b69acc140d282b71a49"
      }
    },
    "colab": {
      "provenance": [],
      "toc_visible": true
    }
  },
  "nbformat": 4,
  "nbformat_minor": 5
}